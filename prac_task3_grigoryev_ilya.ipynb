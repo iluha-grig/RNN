{
 "cells": [
  {
   "cell_type": "markdown",
   "metadata": {},
   "source": [
    "# Третье практическое задание. Реализация дропаута в рекуррентных нейронных сетях\n",
    "Практикум на ЭВМ для 317 группы, весна 2021\n",
    "\n",
    "#### Фамилия, имя: Григорьев Илья\n",
    "\n",
    "Дата выдачи: 3 апреля 00:01\n",
    "\n",
    "Мягкий дедлайн: 17 апреля 00:01"
   ]
  },
  {
   "cell_type": "markdown",
   "metadata": {},
   "source": [
    "Данное задание будет состоять из двух частей:\n",
    "1. Применение рекуррентной сети для решения задачи классификации текста. Более конкретно -- предсказания рейтинга отзыва фильма.\n",
    "2. Простейшая лингвистическая модель для генерации текста на основе LSTM."
   ]
  },
  {
   "cell_type": "markdown",
   "metadata": {},
   "source": [
    "При выполнении задания вы обучите LSTM с разным уровнем \"коробочности\", а также познакомитесь с различными способами применения DropOut к рекуррентным архитектурам. В рекуррентных архитектурах вариантов, куда можно наложить бинарную маску шума, гораздо больше, чем в нейросетях прямого прохода.\n",
    "\n",
    "Во второй части вы попробуете реализовать простейший рекуррентный декодер для генерации текстов.\n",
    "\n",
    "Задание сделано так, чтобы его можно было выполнять на CPU, однако RNN - это ресурсоёмкая вещь, поэтому на GPU с ними работать приятнее. Можете попробовать использовать [https://colab.research.google.com](https://colab.research.google.com) - бесплатное облако с GPU."
   ]
  },
  {
   "cell_type": "markdown",
   "metadata": {},
   "source": [
    "**Для корректного отображения картинок, вам может понадобится сделать ноутбук доверенным (Trusted) в правом верхнем углу**"
   ]
  },
  {
   "cell_type": "markdown",
   "metadata": {},
   "source": [
    "# Часть 0. Загрузка и предобработка данных. (1 балл)"
   ]
  },
  {
   "cell_type": "markdown",
   "metadata": {},
   "source": [
    "## Рекомендуемые гиперпараметры"
   ]
  },
  {
   "cell_type": "code",
   "execution_count": 1,
   "metadata": {
    "ExecuteTime": {
     "end_time": "2021-04-02T00:04:28.454122Z",
     "start_time": "2021-04-02T00:04:28.438278Z"
    }
   },
   "outputs": [],
   "source": [
    "max_length = 200\n",
    "top_n_words = 5000\n",
    "\n",
    "hidden_dim = 128\n",
    "embedding_dim = 32\n",
    "\n",
    "num_epochs = 15\n",
    "batch_size = 64\n",
    "learning_rate = 1e-3"
   ]
  },
  {
   "cell_type": "markdown",
   "metadata": {},
   "source": [
    "Первое, что нужно сделать -- скачать, предобработать данные и организовать их таким образом, чтобы их можно было подавать в нейронную сеть.\n",
    "\n",
    "Для обеих частей задания мы будем использовать [**Large Movie Review Dataset**](https://ai.stanford.edu/~amaas/data/sentiment/)."
   ]
  },
  {
   "cell_type": "markdown",
   "metadata": {},
   "source": [
    "## Загрузка и предобработка данных"
   ]
  },
  {
   "cell_type": "markdown",
   "metadata": {},
   "source": [
    "Загрузите данные по ссылке выше. (**tip**: используйте `wget`)"
   ]
  },
  {
   "cell_type": "code",
   "execution_count": 2,
   "metadata": {
    "ExecuteTime": {
     "end_time": "2021-03-30T18:34:47.261797Z",
     "start_time": "2021-03-30T18:34:33.768597Z"
    }
   },
   "outputs": [],
   "source": [
    "# YOUR CODE HERE"
   ]
  },
  {
   "cell_type": "markdown",
   "metadata": {},
   "source": [
    "Распакуйте скачанные данные в папку `aclImdb` (**tip:** используйте `tar`)"
   ]
  },
  {
   "cell_type": "code",
   "execution_count": 3,
   "metadata": {
    "ExecuteTime": {
     "end_time": "2021-03-30T17:48:59.763990Z",
     "start_time": "2021-03-30T17:48:56.998383Z"
    }
   },
   "outputs": [],
   "source": [
    "# YOUR CODE HERE"
   ]
  },
  {
   "cell_type": "markdown",
   "metadata": {},
   "source": [
    "Посмотрите в файле `./aclImdb/README` как организованы данные"
   ]
  },
  {
   "cell_type": "markdown",
   "metadata": {
    "ExecuteTime": {
     "end_time": "2021-04-01T23:55:43.946032Z",
     "start_time": "2021-04-01T23:55:43.814779Z"
    }
   },
   "source": [
    "This is not the typical Mel Brooks film. It was much less slapstick than most of his movies and actually had a plot that was followable. Leslie Ann Warren made the movie, she is such a fantastic, under-rated actress. There were some moments that could have been fleshed out a bit more, and some scenes that could probably have been cut to make the room to do so, but all in all, this is worth the price to rent and see it. The acting was good overall, Brooks himself did a good job without his characteristic speaking to directly to the audience. Again, Warren was the best actor in the movie, but \"Fume\" and \"Sailor\" both played their parts well."
   ]
  },
  {
   "cell_type": "code",
   "execution_count": 4,
   "metadata": {
    "ExecuteTime": {
     "end_time": "2021-04-02T00:04:33.729663Z",
     "start_time": "2021-04-02T00:04:33.710871Z"
    }
   },
   "outputs": [],
   "source": [
    "test_data_path = './aclImdb/test/'\n",
    "train_data_path = './aclImdb/train/'"
   ]
  },
  {
   "cell_type": "code",
   "execution_count": 5,
   "metadata": {
    "ExecuteTime": {
     "end_time": "2021-04-02T00:04:33.709378Z",
     "start_time": "2021-04-02T00:04:32.220580Z"
    }
   },
   "outputs": [
    {
     "name": "stderr",
     "output_type": "stream",
     "text": [
      "[nltk_data] Downloading package stopwords to\n",
      "[nltk_data]     C:\\Users\\Илья\\AppData\\Roaming\\nltk_data...\n",
      "[nltk_data]   Package stopwords is already up-to-date!\n"
     ]
    }
   ],
   "source": [
    "import os\n",
    "from functools import partial\n",
    "from collections import defaultdict\n",
    "\n",
    "import nltk\n",
    "nltk.download('stopwords')\n",
    "\n",
    "import regex\n",
    "import numpy as np\n",
    "import re\n",
    "\n",
    "import torch\n",
    "import torchtext\n",
    "from torch.utils.data import Dataset, DataLoader\n",
    "from torch import nn"
   ]
  },
  {
   "cell_type": "markdown",
   "metadata": {},
   "source": [
    "Стандартной предобработкой данных является токенизация текстов. Полученные токены можно будет закодировать и затем подавать на вход нейронной сети. Ключевым моментом, который влияет на скорость работы нейросети и её размер в памяти -- размер словаря, используемого при токенизации. Для задачи классификации мы можем убрать часть слов (стоп слова, редкие слова), ускорив обучение без потери в качестве."
   ]
  },
  {
   "cell_type": "code",
   "execution_count": 6,
   "metadata": {
    "ExecuteTime": {
     "end_time": "2021-04-02T00:04:35.270825Z",
     "start_time": "2021-04-02T00:04:35.250283Z"
    }
   },
   "outputs": [],
   "source": [
    "STOPWORDS = nltk.corpus.stopwords.words('english')"
   ]
  },
  {
   "cell_type": "markdown",
   "metadata": {},
   "source": [
    "Реализуйте функцию для токенизации текста. Выполнять токенизацию можно по-разному, но в данном задании предлагается это делать следующим образом:\n",
    "1. Привести текст к нижнему регистру\n",
    "2. Убрать html разметку из текстов (`<br />`)\n",
    "3. Убрать все символы кроме латинских букв\n",
    "4. Разбить строку по пробелам\n",
    "5. Убрать стоп слова"
   ]
  },
  {
   "cell_type": "code",
   "execution_count": 7,
   "metadata": {
    "ExecuteTime": {
     "end_time": "2021-04-02T00:04:36.003194Z",
     "start_time": "2021-04-02T00:04:35.980408Z"
    }
   },
   "outputs": [],
   "source": [
    "def tokenize(text):\n",
    "    \"\"\"\n",
    "    :param str text: Input text \n",
    "    :return List[str]: List of words\n",
    "    \"\"\"\n",
    "    text = text.lower()\n",
    "    text = text.replace('<br />', '')\n",
    "    text = re.sub('[^a-z ]', ' ', text, count=0)\n",
    "    words = text.split()\n",
    "    res = []\n",
    "    for word in words:\n",
    "        if word not in STOPWORDS:\n",
    "            res.append(word)\n",
    "    return res"
   ]
  },
  {
   "cell_type": "code",
   "execution_count": 8,
   "metadata": {
    "ExecuteTime": {
     "end_time": "2021-04-01T21:27:12.428149Z",
     "start_time": "2021-04-01T21:27:12.402448Z"
    }
   },
   "outputs": [
    {
     "data": {
      "text/plain": [
       "['hello', 'words']"
      ]
     },
     "execution_count": 8,
     "metadata": {},
     "output_type": "execute_result"
    }
   ],
   "source": [
    "tokenize('1. Hello <br /> words!! <br />')"
   ]
  },
  {
   "cell_type": "markdown",
   "metadata": {},
   "source": [
    "Теперь мы можем создать словарь, с помощью которого мы будем численно кодировать токены из текста и наоборот.\n",
    "\n",
    "Удобной обёрткой для создания словарей является класс `torchtext.vocab.Vocab`."
   ]
  },
  {
   "cell_type": "code",
   "execution_count": 19,
   "metadata": {
    "ExecuteTime": {
     "end_time": "2021-04-01T21:27:21.466887Z",
     "start_time": "2021-04-01T21:27:21.352085Z"
    },
    "scrolled": false
   },
   "outputs": [],
   "source": [
    "torchtext.vocab.Vocab??"
   ]
  },
  {
   "cell_type": "markdown",
   "metadata": {
    "ExecuteTime": {
     "end_time": "2021-04-01T19:51:55.300753Z",
     "start_time": "2021-04-01T19:51:55.275188Z"
    }
   },
   "source": [
    "Чтобы создать такой словарь, сначала нужно создать словарь со всеми токенами в тексте и их частотами встречаемости:"
   ]
  },
  {
   "cell_type": "code",
   "execution_count": 9,
   "metadata": {
    "ExecuteTime": {
     "end_time": "2021-04-02T00:05:13.547038Z",
     "start_time": "2021-04-02T00:04:38.190688Z"
    }
   },
   "outputs": [],
   "source": [
    "counter = defaultdict(int)\n",
    "\n",
    "for path in ['./aclImdb/test/neg', './aclImdb/test/pos', './aclImdb/train/neg', './aclImdb/train/pos']:\n",
    "    for file_path in os.listdir(path):\n",
    "        text = open(os.path.join(path, file_path), 'r', encoding='utf-8', errors='ignore').read().strip()\n",
    "        for token in tokenize(text):\n",
    "            counter[token] += 1"
   ]
  },
  {
   "cell_type": "markdown",
   "metadata": {},
   "source": [
    "Для работы с текстами нам необходимо зарезервировать два специальных токена:\n",
    "1. `<pad>` для токена означающего паддинг\n",
    "2. `<unk>` для токенов, которые отсутствуют в словаре"
   ]
  },
  {
   "cell_type": "code",
   "execution_count": 10,
   "metadata": {
    "ExecuteTime": {
     "end_time": "2021-04-01T21:28:18.239274Z",
     "start_time": "2021-04-01T21:28:18.214979Z"
    }
   },
   "outputs": [],
   "source": [
    "specials = ['<pad>', '<unk>']\n",
    "for special in specials:\n",
    "    counter[special] = 0"
   ]
  },
  {
   "cell_type": "markdown",
   "metadata": {},
   "source": [
    "Создайте словарь из словаря частот `counter`. Наименьшие id отдайте под специальные токены. Отбросьте низкочастотные слова, оставив только `top_n_words` слов"
   ]
  },
  {
   "cell_type": "code",
   "execution_count": 11,
   "metadata": {},
   "outputs": [
    {
     "data": {
      "text/plain": [
       "101252"
      ]
     },
     "execution_count": 11,
     "metadata": {},
     "output_type": "execute_result"
    }
   ],
   "source": [
    "len(counter)"
   ]
  },
  {
   "cell_type": "code",
   "execution_count": 12,
   "metadata": {
    "ExecuteTime": {
     "end_time": "2021-04-01T21:28:23.041153Z",
     "start_time": "2021-04-01T21:28:22.899444Z"
    }
   },
   "outputs": [],
   "source": [
    "vocab = torchtext.vocab.Vocab(counter, max_size=top_n_words, specials=specials)"
   ]
  },
  {
   "cell_type": "code",
   "execution_count": 13,
   "metadata": {
    "ExecuteTime": {
     "end_time": "2021-04-01T21:28:24.332126Z",
     "start_time": "2021-04-01T21:28:24.306890Z"
    }
   },
   "outputs": [
    {
     "data": {
      "text/plain": [
       "[0, 1]"
      ]
     },
     "execution_count": 13,
     "metadata": {},
     "output_type": "execute_result"
    }
   ],
   "source": [
    "vocab.lookup_indices(['<pad>', '<unk>'])"
   ]
  },
  {
   "cell_type": "code",
   "execution_count": 14,
   "metadata": {
    "ExecuteTime": {
     "end_time": "2021-04-01T21:28:26.254910Z",
     "start_time": "2021-04-01T21:28:26.231012Z"
    }
   },
   "outputs": [
    {
     "data": {
      "text/plain": [
       "[1, 3, 1, 254]"
      ]
     },
     "execution_count": 14,
     "metadata": {},
     "output_type": "execute_result"
    }
   ],
   "source": [
    "vocab.lookup_indices(['this', 'film', 'was', 'awful'])"
   ]
  },
  {
   "cell_type": "markdown",
   "metadata": {},
   "source": [
    "Теперь мы готовы создать обёртку-датасет для наших данных. \n",
    "\n",
    "Необходимо добавить несколько опции, которые понадобятся во второй части задания:\n",
    "1. Ограничение на максимальную длину текста в токенах. Если текст оказывается длиннее, то последние токены отбрасываются\n",
    "2. Возможность добавить в специальные токены `<sos>`, `<eos>` в начало и конец токенизированного текста\n",
    "    \n",
    "**tips:**\n",
    "1. Обратите особое внимание, что у длинных текстов не должен обрезаться паддинг\n",
    "2. В исходных данных рейтинг закодирован в названии файла в виде числа от 1 до 10. Для удобства, вычтите 1, чтобы рейтинг был от 0 до 9"
   ]
  },
  {
   "cell_type": "code",
   "execution_count": 15,
   "metadata": {
    "ExecuteTime": {
     "end_time": "2021-04-02T00:05:13.573249Z",
     "start_time": "2021-04-02T00:05:13.548593Z"
    }
   },
   "outputs": [],
   "source": [
    "class LargeMovieReviewDataset(Dataset):\n",
    "    def __init__(self, data_path, vocab, max_len, pad_sos=False, pad_eos=False):\n",
    "        \"\"\"\n",
    "        :param str data_path: Path to folder with one of the data splits (train or test)\n",
    "        :param torchtext.vocab.Vocab vocab: dictionary with lookup_indices method\n",
    "        :param int max_len: Maximum length of tokenized text\n",
    "        :param bool pad_sos: If True pad sequence at the beginning with <sos> \n",
    "        :param bool pad_eos: If True pad sequence at the end with <eos>         \n",
    "        \"\"\"\n",
    "        super().__init__()\n",
    "        \n",
    "        self.pad_sos = pad_sos\n",
    "        if self.pad_sos:\n",
    "            self.sos_id = vocab.lookup_indices(['<sos>'])[0]\n",
    "        self.pad_eos = pad_eos\n",
    "        if self.pad_eos:\n",
    "            self.eos_id = vocab.lookup_indices(['<eos>'])[0]\n",
    "        \n",
    "        self.vocab = vocab\n",
    "        self.max_len = max_len\n",
    "        self.data_path = data_path\n",
    "        self.negative_path = os.path.join(data_path, 'neg')\n",
    "        self.positive_path = os.path.join(data_path, 'pos')\n",
    "        \n",
    "        self.negative_paths = []\n",
    "        self.positive_paths = []\n",
    "\n",
    "        for file_path in os.listdir(self.negative_path):\n",
    "            self.negative_paths.append(os.path.join(self.negative_path, file_path))\n",
    "\n",
    "        for file_path in os.listdir(self.positive_path):\n",
    "            self.positive_paths.append(os.path.join(self.positive_path, file_path))\n",
    "        \n",
    "        self.texts = []\n",
    "        self.tokens = []\n",
    "        self.ratings = []\n",
    "        self.labels = [0] * len(self.negative_paths) + [1] * len(self.positive_paths)\n",
    "        \n",
    "        # Read each file in data_path, tokenize it, get tokens ids, its rating and store\n",
    "        for path in self.negative_paths + self.positive_paths:\n",
    "            text = open(path, 'r', encoding='utf-8', errors='ignore').read()\n",
    "            self.texts.append(text)\n",
    "            tokens = tokenize(text.strip())\n",
    "            if len(tokens) > self.max_len:\n",
    "                tokens = tokens[0:self.max_len]\n",
    "            token_ids = self.vocab.lookup_indices(tokens)\n",
    "            self.tokens.append(token_ids)\n",
    "            rate = path[-6:-4]\n",
    "            if rate[0] == '_':\n",
    "                rate = int(rate[1]) - 1\n",
    "            else:\n",
    "                rate = 9\n",
    "            self.ratings.append(rate)\n",
    "        \n",
    "    def __getitem__(self, idx):\n",
    "        \"\"\"\n",
    "        :param int idx: index of object in dataset\n",
    "        :return dict: Dictionary with all useful object data \n",
    "            {\n",
    "                'text' str: unprocessed text,\n",
    "                'label' torch.tensor(dtype=torch.long): sentiment of the text (0 for negative, 1 for positive)\n",
    "                'rating' torch.tensor(dtype=torch.long): rating of the text\n",
    "                'tokens' torch.tensor(dtype=torch.long): tensor of tokens ids for the text\n",
    "                'tokens_len' torch.tensor(dtype=torch.long): number of tokens\n",
    "            }\n",
    "        \"\"\"\n",
    "        # Do not forget to add padding if needed!\n",
    "        tokens = self.tokens[idx]\n",
    "        tokens_len = len(tokens)\n",
    "        if self.pad_sos:\n",
    "            tokens = [self.sos_id] + tokens\n",
    "            tokens_len += 1\n",
    "        if self.pad_eos:\n",
    "            tokens = tokens + [self.eos_id]\n",
    "            tokens_len += 1\n",
    "        \n",
    "        res = {'text': self.texts[idx], 'label': torch.tensor(self.labels[idx], dtype=torch.long), \n",
    "               'rating': torch.tensor(self.ratings[idx], dtype=torch.long), \n",
    "               'tokens': torch.tensor(tokens, dtype=torch.long), \n",
    "               'tokens_len': torch.tensor(tokens_len, dtype=torch.long)}\n",
    "        return res\n",
    "    \n",
    "    def __len__(self):\n",
    "        \"\"\"\n",
    "        :return int: number of objects in dataset \n",
    "        \"\"\"\n",
    "        return len(self.labels)"
   ]
  },
  {
   "cell_type": "markdown",
   "metadata": {},
   "source": [
    "Создайте датасеты для тестовой и обучающей выборки. \n",
    "\n",
    "Обратите внимание, что для задачи классификации нам не потребуется паддинг с помощью `<sos>`, `<eos>`. \n",
    "\n",
    "Не забудьте обрезать длинные тексты, передав параметр `max_length`."
   ]
  },
  {
   "cell_type": "code",
   "execution_count": 16,
   "metadata": {
    "ExecuteTime": {
     "end_time": "2021-04-01T21:31:32.123618Z",
     "start_time": "2021-04-01T21:30:54.950259Z"
    }
   },
   "outputs": [],
   "source": [
    "test_dataset = LargeMovieReviewDataset(data_path=test_data_path, vocab=vocab, max_len=max_length)\n",
    "train_dataset = LargeMovieReviewDataset(data_path=train_data_path, vocab=vocab, max_len=max_length)"
   ]
  },
  {
   "cell_type": "markdown",
   "metadata": {},
   "source": [
    "Посмотрим, как выглядит объект в датасете:"
   ]
  },
  {
   "cell_type": "code",
   "execution_count": 17,
   "metadata": {
    "ExecuteTime": {
     "end_time": "2021-04-01T21:31:36.017106Z",
     "start_time": "2021-04-01T21:31:35.988797Z"
    }
   },
   "outputs": [
    {
     "data": {
      "text/plain": [
       "{'text': \"Once again Mr. Costner has dragged out a movie for far longer than necessary. Aside from the terrific sea rescue sequences, of which there are very few I just did not care about any of the characters. Most of us have ghosts in the closet, and Costner's character are realized early on, and then forgotten until much later, by which time I did not care. The character we should really care about is a very cocky, overconfident Ashton Kutcher. The problem is he comes off as kid who thinks he's better than anyone else around him and shows no signs of a cluttered closet. His only obstacle appears to be winning over Costner. Finally when we are well past the half way point of this stinker, Costner tells us all about Kutcher's ghosts. We are told why Kutcher is driven to be the best with no prior inkling or foreshadowing. No magic here, it was all I could do to keep from turning it off an hour in.\",\n",
       " 'label': tensor(0),\n",
       " 'rating': tensor(1),\n",
       " 'tokens': tensor([ 315,    1, 3238,    2,  117,  997, 1569, 1033, 1175, 1468, 1998,  706,\n",
       "          332,   26,   77, 2842, 4040,    1,   29, 1520,  281, 1370,   14,  190,\n",
       "            7,  332,   29,   11,  332,    1,    1,    1,    1,  324,  158,  394,\n",
       "         1102,   45,  136,  207,   83,  162, 3653,    1, 4040,    1,  593, 1571,\n",
       "            1,  295,   13,  379,  188,   23,  112, 3735,    1,  577,   77,    1,\n",
       "         2842,  432,    1, 1959,   40, 2380,    1,    1, 1182,   24,  269, 1457,\n",
       "          397]),\n",
       " 'tokens_len': tensor(73)}"
      ]
     },
     "execution_count": 17,
     "metadata": {},
     "output_type": "execute_result"
    }
   ],
   "source": [
    "test_dataset[0]"
   ]
  },
  {
   "cell_type": "markdown",
   "metadata": {},
   "source": [
    "Теперь нам нужно создать `DataLoader` для наших данных. `DataLoader` умеет из коробки объединять список объектов из датасета в один батч, даже когда датасет возвращает словарь тензоров. Однако, это работает только в случае когда все эти тензоры имеют один и тот же размер во всех батчах. В нашем случае, это не так, так как разные тексты могут иметь разную длину.\n",
    "\n",
    "Чтобы обойти эту проблему у `DataLoader` есть параметр `collate_fn`, который позволяет задать функцию для объединения списка объектов в один батч."
   ]
  },
  {
   "cell_type": "markdown",
   "metadata": {},
   "source": [
    "Чтобы объединить несколько тензоров разной длины в один можно использовать функцию `torch.nn.utils.rnn.pad_sequence`\n",
    "\n",
    "Обратите внимание на её аргументы:\n",
    "1. `batch_first` определяет по какой оси \"складывать\" тензоры. Предпочтительнее использовать `batch_first=False` так как это может упростить выполнение задания в дальнейшем \n",
    "2. `padding_value` -- число, которое будет использоваться в качестве паддинга, чтобы сделать все тензоры одинаковой длины"
   ]
  },
  {
   "cell_type": "code",
   "execution_count": 18,
   "metadata": {
    "ExecuteTime": {
     "end_time": "2021-04-01T21:33:06.372403Z",
     "start_time": "2021-04-01T21:33:06.344559Z"
    }
   },
   "outputs": [
    {
     "data": {
      "text/plain": [
       "tensor([[ 1,  4,  6],\n",
       "        [ 2,  5,  7],\n",
       "        [ 3, -1,  8],\n",
       "        [-1, -1,  9]])"
      ]
     },
     "execution_count": 18,
     "metadata": {},
     "output_type": "execute_result"
    }
   ],
   "source": [
    "torch.nn.utils.rnn.pad_sequence([\n",
    "    torch.tensor([1, 2, 3]),\n",
    "    torch.tensor([4, 5]),\n",
    "    torch.tensor([6, 7, 8, 9])\n",
    "], batch_first=False, padding_value=-1)"
   ]
  },
  {
   "cell_type": "code",
   "execution_count": 19,
   "metadata": {
    "ExecuteTime": {
     "end_time": "2021-04-02T00:05:13.709466Z",
     "start_time": "2021-04-02T00:05:13.575053Z"
    }
   },
   "outputs": [],
   "source": [
    "def collate_fn(batch, padding_value, batch_first=False):\n",
    "    \"\"\"\n",
    "    :param List[Dict] batch: List of objects from dataset\n",
    "    :param int padding_value: Value that will be used to pad tokens\n",
    "    :param bool batch_first: If True resulting tensor with tokens must have shape [B, T] otherwise [T, B]\n",
    "    :return dict: Dictionary with all data collated\n",
    "        {\n",
    "            'ratings' torch.tensor(dtype=torch.long): rating of the text for each object in batch\n",
    "            'labels' torch.tensor(dtype=torch.long): sentiment of the text for each object in batch\n",
    "            \n",
    "            'texts' List[str]: All texts in one list\n",
    "            'tokens' torch.tensor(dtype=torch.long): tensor of tokens ids padded with @padding_value\n",
    "            'tokens_lens' torch.tensor(dtype=torch.long): number of tokens for each object in batch\n",
    "        }\n",
    "    \"\"\"\n",
    "    texts = []\n",
    "    ratings = torch.tensor([], dtype=torch.long)\n",
    "    labels = torch.tensor([], dtype=torch.long)\n",
    "    tokens_lens = torch.tensor([], dtype=torch.long)\n",
    "    tokens_list = []\n",
    "    for data in batch:\n",
    "        texts.append(data['text'])\n",
    "        ratings = torch.hstack((ratings, data['rating']))\n",
    "        labels = torch.hstack((labels, data['label']))\n",
    "        tokens_lens = torch.hstack((tokens_lens, data['tokens_len']))\n",
    "        tokens_list.append(data['tokens'])\n",
    "    tokens = torch.nn.utils.rnn.pad_sequence(tokens_list, batch_first=batch_first, padding_value=padding_value)\n",
    "    res = {'ratings': ratings, 'labels': labels, 'texts': texts, 'tokens': tokens, 'tokens_lens': tokens_lens}\n",
    "    return res"
   ]
  },
  {
   "cell_type": "markdown",
   "metadata": {},
   "source": [
    "Создайте даталоадеры с использованием `collate_fn`.\n",
    "\n",
    "**tips**:\n",
    "1. Передать в `collate_fn` правильное значение паддинга можно, например, с помощью `functools.partial`\n",
    "2. Если вы работаете в Google Colab, то, возможно, вам будет необходимо установить `num_workers=0` во избежание падения ноутбука."
   ]
  },
  {
   "cell_type": "code",
   "execution_count": 20,
   "metadata": {
    "ExecuteTime": {
     "end_time": "2021-04-01T21:33:37.872760Z",
     "start_time": "2021-04-01T21:33:37.847071Z"
    }
   },
   "outputs": [],
   "source": [
    "test_dataloader = DataLoader(test_dataset, batch_size=batch_size, shuffle=False, collate_fn=partial(collate_fn, padding_value=0))\n",
    "train_dataloader = DataLoader(train_dataset, batch_size=batch_size, shuffle=True, collate_fn=partial(collate_fn, padding_value=0))"
   ]
  },
  {
   "cell_type": "markdown",
   "metadata": {},
   "source": [
    "Посмотрим на какой-нибудь батч:"
   ]
  },
  {
   "cell_type": "code",
   "execution_count": 21,
   "metadata": {
    "ExecuteTime": {
     "end_time": "2021-04-01T21:33:46.922744Z",
     "start_time": "2021-04-01T21:33:46.755275Z"
    }
   },
   "outputs": [
    {
     "data": {
      "text/plain": [
       "(dict_keys(['ratings', 'labels', 'texts', 'tokens', 'tokens_lens']),\n",
       " tensor([0, 0, 0, 0, 0, 0, 0, 0, 0, 0, 0, 0, 0, 0, 0, 0, 0, 0, 0, 0, 0, 0, 0, 0,\n",
       "         0, 0, 0, 0, 0, 0, 0, 0, 0, 0, 0, 0, 0, 0, 0, 0, 0, 0, 0, 0, 0, 0, 0, 0,\n",
       "         0, 0, 0, 0, 0, 0, 0, 0, 0, 0, 0, 0, 0, 0, 0, 0]),\n",
       " tensor([1, 3, 0, 2, 2, 1, 1, 1, 3, 3, 2, 2, 1, 0, 0, 3, 1, 3, 2, 0, 0, 0, 3, 0,\n",
       "         2, 3, 3, 2, 1, 2, 0, 2, 0, 2, 2, 1, 0, 0, 0, 0, 0, 0, 3, 0, 3, 1, 0, 0,\n",
       "         0, 1, 0, 3, 0, 0, 0, 3, 3, 1, 3, 3, 2, 0, 0, 0]),\n",
       " tensor([[ 315,  342,   20,  ..., 2230,  607,    1],\n",
       "         [   1, 2080,  595,  ...,  127,    1,  282],\n",
       "         [3238,  100, 4991,  ...,   58,  527,  474],\n",
       "         ...,\n",
       "         [   0,    0,    0,  ...,    0,    0,    0],\n",
       "         [   0,    0,    0,  ...,    0,    0,    0],\n",
       "         [   0,    0,    0,  ...,    0,    0,    0]]),\n",
       " tensor([ 73, 126, 110, 164, 139,  55,  77,  70,  72,  99,  58, 142, 142,  50,\n",
       "         102, 114,  65, 115, 190,  47,  37,  93, 200, 200, 135, 107, 103, 200,\n",
       "         200, 144,  77,  83, 185,  98, 156, 135, 125,  51, 179, 102,  66,  57,\n",
       "          84, 200, 125,  66, 200,  53, 111,  76,  55, 141, 126,  30,  64,  60,\n",
       "         200,  16, 140,  86,  64,  73,  85,  88]))"
      ]
     },
     "execution_count": 21,
     "metadata": {},
     "output_type": "execute_result"
    }
   ],
   "source": [
    "batch = next(iter(test_dataloader))\n",
    "batch.keys(), batch['labels'], batch['ratings'], batch['tokens'], batch['tokens_lens']"
   ]
  },
  {
   "cell_type": "markdown",
   "metadata": {},
   "source": [
    "# Часть 1. Классификация текстов. (6 баллов)"
   ]
  },
  {
   "cell_type": "markdown",
   "metadata": {},
   "source": [
    "## Сборка и обучение RNN в pytorch (2 балла)"
   ]
  },
  {
   "cell_type": "markdown",
   "metadata": {},
   "source": [
    "Создадим переменные для device-agnostic кода:"
   ]
  },
  {
   "cell_type": "code",
   "execution_count": 22,
   "metadata": {
    "ExecuteTime": {
     "end_time": "2021-04-02T00:05:13.809416Z",
     "start_time": "2021-04-02T00:05:13.711383Z"
    }
   },
   "outputs": [
    {
     "name": "stdout",
     "output_type": "stream",
     "text": [
      "Using device: cuda:0, dtype: torch.float32\n"
     ]
    }
   ],
   "source": [
    "dtype, device, cuda_device_id = torch.float32, None, 0\n",
    "os.environ[\"CUDA_VISIBLE_DEVICES\"] = '{0}'.format(str(cuda_device_id) if cuda_device_id is not None else '')\n",
    "if cuda_device_id is not None and torch.cuda.is_available():\n",
    "    device = 'cuda:{0:d}'.format(0)\n",
    "else:\n",
    "    device = torch.device('cpu')\n",
    "print(f'Using device: {device}, dtype: {dtype}')"
   ]
  },
  {
   "cell_type": "markdown",
   "metadata": {},
   "source": [
    "Наша нейросеть будет обрабатывать входную последовательность по словам (word level). Мы будем использовать простую и стандартную рекуррентную архитектуру для классификации:\n",
    "1. Слой представлений, превращающий id токена в вектор-ембеддинг этого слова\n",
    "2. Слой LSTM\n",
    "3. Полносвязный слой, предсказывающий выход по последнему скрытому состоянию\n",
    "\n",
    "Ниже дан код для сборки и обучения нашей нейросети."
   ]
  },
  {
   "cell_type": "markdown",
   "metadata": {},
   "source": [
    "Допишите класс-обёртку над LSTM для задачи классификации. \n",
    "**Не используйте циклы.**"
   ]
  },
  {
   "cell_type": "code",
   "execution_count": 23,
   "metadata": {},
   "outputs": [
    {
     "data": {
      "text/plain": [
       "5002"
      ]
     },
     "execution_count": 23,
     "metadata": {},
     "output_type": "execute_result"
    }
   ],
   "source": [
    "len(vocab)"
   ]
  },
  {
   "cell_type": "markdown",
   "metadata": {
    "ExecuteTime": {
     "end_time": "2021-04-01T20:59:16.467178Z",
     "start_time": "2021-04-01T20:59:16.441112Z"
    }
   },
   "source": [
    "**Для каждого тензора в функции `forward` подпишите в комментарии его размеры**"
   ]
  },
  {
   "cell_type": "code",
   "execution_count": 24,
   "metadata": {
    "ExecuteTime": {
     "end_time": "2021-04-02T00:05:13.873713Z",
     "start_time": "2021-04-02T00:05:13.810690Z"
    }
   },
   "outputs": [],
   "source": [
    "class RNNClassifier(torch.nn.Module):\n",
    "    def __init__(\n",
    "        self, embedding_dim, hidden_dim, output_size, vocab,\n",
    "        rec_layer=torch.nn.LSTM, dropout=None, **kwargs\n",
    "    ):\n",
    "        super().__init__()\n",
    "\n",
    "        self.dropout = dropout\n",
    "        \n",
    "        self.vocab = vocab\n",
    "        self.hidden_dim = hidden_dim\n",
    "        self.output_size = output_size\n",
    "        self.embedding_dim = embedding_dim\n",
    "        \n",
    "        # Create a simple lookup table that stores embeddings of a fixed dictionary and size.\n",
    "        #    Use torch.nn.Embedding. Do not forget specify padding_idx!\n",
    "        # YOUR CODE HERE\n",
    "        self.word_embeddings = nn.Embedding(len(vocab), embedding_dim, padding_idx=vocab.lookup_indices(['<pad>'])[0])\n",
    "        \n",
    "        if dropout is not None:\n",
    "            self.rnn = rec_layer(self.embedding_dim, self.hidden_dim, dropout=self.dropout, **kwargs)\n",
    "        else:\n",
    "            self.rnn = rec_layer(self.embedding_dim, self.hidden_dim, **kwargs)\n",
    "        \n",
    "        # Create linear layer for classification\n",
    "        # YOUR CODE HERE\n",
    "        self.output = nn.Linear(in_features=hidden_dim, out_features=output_size)\n",
    "    \n",
    "    def forward(self, tokens, tokens_lens):\n",
    "        \"\"\"\n",
    "        :param torch.tensor(dtype=torch.long) tokens: Batch of texts represented with tokens.\n",
    "        :param torch.tensor(dtype=torch.long) tokens_lens: Number of non-padding tokens for each object in batch.\n",
    "        :return torch.tensor(dtype=torch.long): Vector representation for each sequence in batch\n",
    "        \"\"\"\n",
    "        # Evaluate embeddings\n",
    "        # YOUR CODE HERE\n",
    "        # (200, 64, 32)\n",
    "        input_tensor = self.word_embeddings(tokens)\n",
    "        \n",
    "        # Make forward pass through recurrent network\n",
    "        # YOUR CODE HERE\n",
    "        # (200, 64, 128)\n",
    "        output_tensor, (h_n, c_n) = self.rnn(input_tensor)\n",
    "        \n",
    "        # Pass output from rnn to linear layer \n",
    "        # Note: each object in batch has its own length \n",
    "        #     so we must take rnn hidden state after the last token for each text in batch\n",
    "        # YOUR CODE HERE\n",
    "        # (64, 128)\n",
    "        output_tensor = output_tensor[tokens_lens - 1, np.arange(output_tensor.shape[1]), ...]\n",
    "        return self.output(output_tensor)"
   ]
  },
  {
   "cell_type": "markdown",
   "metadata": {},
   "source": [
    "[Исходный код LSTM](http://pytorch.org/docs/master/_modules/torch/nn/modules/rnn.html#LSTM)"
   ]
  },
  {
   "cell_type": "markdown",
   "metadata": {},
   "source": [
    "Допишите функции для обучения и оценки модели:\n",
    "\n",
    "**tip:**\n",
    "1. В функции `evaluate` при подсчёте метрик учитывайте, что батчи могут иметь разный размер. (в частности последний батч)"
   ]
  },
  {
   "cell_type": "code",
   "execution_count": 53,
   "metadata": {
    "ExecuteTime": {
     "end_time": "2021-04-02T00:05:13.969665Z",
     "start_time": "2021-04-02T00:05:13.875379Z"
    }
   },
   "outputs": [],
   "source": [
    "def train_epoch(dataloader, model, loss_fn, optimizer, device):\n",
    "    model = model.to(device)\n",
    "    model.train()\n",
    "    for idx, data in enumerate(dataloader):\n",
    "        # 1. Take data from batch\n",
    "        # 2. Perform forward pass\n",
    "        # 3. Evaluate loss\n",
    "        # 4. Make optimizer step\n",
    "        # YOUR CODE HERE\n",
    "        optimizer.zero_grad()\n",
    "        tokens = data['tokens'].to(device)\n",
    "        tokens_lens = data['tokens_lens'].to(device)\n",
    "        ratings = data['ratings'].to(device)\n",
    "        outputs = model(tokens, tokens_lens)\n",
    "        loss = loss_fn(outputs, ratings)\n",
    "        loss.backward()\n",
    "        optimizer.step()\n",
    "    \n",
    "def evaluate(dataloader, model, loss_fn, device):\n",
    "    model = model.to(device)\n",
    "    model.eval()\n",
    "    total_loss = 0.0\n",
    "    total_accuracy = 0.0\n",
    "    with torch.no_grad():\n",
    "        for idx, data in enumerate(dataloader):\n",
    "            # 1. Take data from batch\n",
    "            # 2. Perform forward pass\n",
    "            # 3. Evaluate loss\n",
    "            # 4. Evaluate accuracy\n",
    "            # YOUR CODE HERE\n",
    "            tokens = data['tokens'].to(device)\n",
    "            tokens_lens = data['tokens_lens'].to(device)\n",
    "            ratings = data['ratings'].to(device)\n",
    "            labels = data['labels'].numpy()\n",
    "            outputs = model(tokens, tokens_lens)\n",
    "            loss = loss_fn(outputs, ratings).cpu().item()\n",
    "            total_loss += loss\n",
    "            outputs = outputs.cpu().numpy()\n",
    "            # ratings = ratings.cpu().numpy()\n",
    "            outputs = np.argmax(outputs, axis=1)\n",
    "            outputs[outputs <= 4] = 0\n",
    "            outputs[outputs > 0] = 1\n",
    "            acc = (outputs == labels).sum()\n",
    "            total_accuracy += acc\n",
    "        \n",
    "    return total_loss / len(dataloader.dataset), total_accuracy / len(dataloader.dataset)\n",
    "    \n",
    "\n",
    "def train(train_loader, test_loader, model, loss_fn, optimizer, device, num_epochs):\n",
    "    test_losses = []\n",
    "    train_losses = []\n",
    "    test_accuracies = []\n",
    "    train_accuracies = []\n",
    "    for epoch in range(num_epochs):\n",
    "        train_epoch(train_loader, model, loss_fn, optimizer, device)\n",
    "        \n",
    "        train_loss, train_acc = evaluate(train_loader, model, loss_fn, device)\n",
    "        train_accuracies.append(train_acc)\n",
    "        train_losses.append(train_loss)\n",
    "        \n",
    "        test_loss, test_acc = evaluate(test_loader, model, loss_fn, device)\n",
    "        test_accuracies.append(test_acc)\n",
    "        test_losses.append(test_loss)\n",
    "        \n",
    "        print(\n",
    "            'Epoch: {0:d}/{1:d}. Loss (Train/Test): {2:.3f}/{3:.3f}. Accuracy (Train/Test): {4:.3f}/{5:.3f}'.format(\n",
    "                epoch + 1, num_epochs, train_losses[-1], test_losses[-1], train_accuracies[-1], test_accuracies[-1]\n",
    "            )\n",
    "        )\n",
    "    return train_losses, train_accuracies, test_losses, test_accuracies"
   ]
  },
  {
   "cell_type": "markdown",
   "metadata": {},
   "source": [
    "Создадим модель:"
   ]
  },
  {
   "cell_type": "code",
   "execution_count": 54,
   "metadata": {
    "ExecuteTime": {
     "end_time": "2021-04-01T21:39:36.315652Z",
     "start_time": "2021-04-01T21:39:33.667776Z"
    }
   },
   "outputs": [],
   "source": [
    "model = RNNClassifier(\n",
    "    embedding_dim=embedding_dim, hidden_dim=hidden_dim, output_size=10, vocab=vocab,\n",
    "    rec_layer=torch.nn.LSTM, dropout=None\n",
    ").to(device)"
   ]
  },
  {
   "cell_type": "markdown",
   "metadata": {},
   "source": [
    "Создадим класс для подсчёта функции потерь и оптимизатор:"
   ]
  },
  {
   "cell_type": "code",
   "execution_count": 55,
   "metadata": {
    "ExecuteTime": {
     "end_time": "2021-04-01T21:39:38.737281Z",
     "start_time": "2021-04-01T21:39:38.711948Z"
    }
   },
   "outputs": [],
   "source": [
    "loss_fn = torch.nn.CrossEntropyLoss(reduction='mean')\n",
    "optimizer = torch.optim.Adam(model.parameters(), lr=learning_rate)"
   ]
  },
  {
   "cell_type": "markdown",
   "metadata": {},
   "source": [
    "Попробуем обучить модель:"
   ]
  },
  {
   "cell_type": "markdown",
   "metadata": {},
   "source": [
    "**Сохраните все метрики и время работы модели. Это потребуется в конце первой части для построения графиков обучения и сравнения времени работы для всех моделей в этой секции**"
   ]
  },
  {
   "cell_type": "code",
   "execution_count": 56,
   "metadata": {
    "ExecuteTime": {
     "end_time": "2021-04-01T21:44:27.733745Z",
     "start_time": "2021-04-01T21:41:52.821042Z"
    }
   },
   "outputs": [
    {
     "name": "stdout",
     "output_type": "stream",
     "text": [
      "Epoch: 1/15. Loss (Train/Test): 0.031/0.031. Accuracy (Train/Test): 0.583/0.583\n",
      "Epoch: 2/15. Loss (Train/Test): 0.027/0.027. Accuracy (Train/Test): 0.805/0.794\n",
      "Epoch: 3/15. Loss (Train/Test): 0.025/0.026. Accuracy (Train/Test): 0.858/0.834\n",
      "Epoch: 4/15. Loss (Train/Test): 0.023/0.025. Accuracy (Train/Test): 0.878/0.848\n",
      "Epoch: 5/15. Loss (Train/Test): 0.022/0.024. Accuracy (Train/Test): 0.889/0.850\n",
      "Epoch: 6/15. Loss (Train/Test): 0.022/0.024. Accuracy (Train/Test): 0.904/0.860\n",
      "Epoch: 7/15. Loss (Train/Test): 0.021/0.024. Accuracy (Train/Test): 0.909/0.854\n",
      "Epoch: 8/15. Loss (Train/Test): 0.020/0.024. Accuracy (Train/Test): 0.928/0.863\n",
      "Epoch: 9/15. Loss (Train/Test): 0.019/0.025. Accuracy (Train/Test): 0.933/0.860\n",
      "Epoch: 10/15. Loss (Train/Test): 0.018/0.025. Accuracy (Train/Test): 0.946/0.860\n",
      "Epoch: 11/15. Loss (Train/Test): 0.017/0.026. Accuracy (Train/Test): 0.950/0.855\n",
      "Epoch: 12/15. Loss (Train/Test): 0.016/0.027. Accuracy (Train/Test): 0.964/0.858\n",
      "Epoch: 13/15. Loss (Train/Test): 0.014/0.028. Accuracy (Train/Test): 0.966/0.852\n",
      "Epoch: 14/15. Loss (Train/Test): 0.013/0.030. Accuracy (Train/Test): 0.966/0.847\n",
      "Epoch: 15/15. Loss (Train/Test): 0.012/0.031. Accuracy (Train/Test): 0.975/0.848\n",
      "Wall time: 1min 57s\n"
     ]
    }
   ],
   "source": [
    "%%time\n",
    "\n",
    "train_losses_pure, train_accuracies_pure, test_losses_pure, test_accuracies_pure = train(\n",
    "    train_dataloader, test_dataloader, model, loss_fn, optimizer, device, num_epochs\n",
    ")"
   ]
  },
  {
   "cell_type": "markdown",
   "metadata": {},
   "source": [
    "Нерегуляризованные LSTM часто быстро переобучаются (и мы это видим по точности на контроле). Чтобы с этим бороться, часто используют L2-регуляризацию и дропаут.\n",
    "Однако способов накладывать дропаут на рекуррентный слой достаточно много, и далеко не все хорошо работают. По [ссылке](https://medium.com/@bingobee01/a-review-of-dropout-as-applied-to-rnns-72e79ecd5b7b) доступен хороший обзор дропаутов для RNN.\n",
    "\n",
    "Мы реализуем два варианта DropOut для RNN (и третий дополнительно). Заодно увидим, что для реализации различных усовершенствований рекуррентной архитектуры приходится \"вскрывать\" слой до различной \"глубины\"."
   ]
  },
  {
   "cell_type": "markdown",
   "metadata": {},
   "source": [
    "## Реализация дропаута по статье Гала и Гарамани. Variational Dropout. (1 балл)"
   ]
  },
  {
   "cell_type": "markdown",
   "metadata": {},
   "source": [
    "Начнем с дропаута, описанного в [статье Гала и Гарамани](https://arxiv.org/abs/1512.05287).\n",
    "Для этого нам потребуется перейти от использования слоя `torch.nn.LSTM`, полностью скрывающего от нас рекуррентную логику, к использованию слоя `torch.nn.LSTMCell`, обрабатывающего лишь один временной шаг нашей последовательности (а всю логику вокруг придется реализовать самостоятельно). \n",
    "\n",
    "Допишите класс `RNNLayer`. При `dropout=0` ваш класс должен работать как обычный слой LSTM, а при `dropout > 0` накладывать бинарную маску на входной и скрытый вектор на каждом временном шаге, причем эта маска должна быть одинаковой во все моменты времени.\n",
    "\n",
    "Дропаут Гала и Гарамани в виде формул (m обозначает маску дропаута):\n",
    "\n",
    "$$\n",
    "h_{t-1} = h_{t-1}*m_h, \\, x_t = x_t * m_x\n",
    "$$\n",
    "\n",
    "Далее обычный шаг рекуррентной архитектуры, например, LSTM:\n",
    "\n",
    "$$\n",
    "i = \\sigma(h_{t-1}W^i + x_t U^i+b_i) \\quad\n",
    "o = \\sigma(h_{t-1}W^o + x_t U^o+b_o) \n",
    "$$\n",
    "$$\n",
    "f = \\sigma(h_{t-1}W^f + x_t U^f+b_f) \\quad \n",
    "g = tanh(h_{t-1} W^g + x_t U^g+b_g) \n",
    "$$\n",
    "$$\n",
    "c_t = f \\odot c_{t-1} +  i \\odot  g \\quad\n",
    "h_t =  o \\odot tanh(c_t) \\nonumber\n",
    "$$"
   ]
  },
  {
   "cell_type": "code",
   "execution_count": 57,
   "metadata": {
    "ExecuteTime": {
     "end_time": "2021-04-02T00:05:14.068954Z",
     "start_time": "2021-04-02T00:05:13.971286Z"
    }
   },
   "outputs": [],
   "source": [
    "def init_h0_c0(num_objects, hidden_size, some_existing_tensor):\n",
    "    \"\"\"\n",
    "    return h0 and c0, use some_existing_tensor.new_zeros() to gen them\n",
    "    h0 shape: num_objects x hidden_size\n",
    "    c0 shape: num_objects x hidden_size\n",
    "    \"\"\"\n",
    "    # YOUR CODE HERE\n",
    "    return some_existing_tensor.new_zeros((num_objects, hidden_size)), some_existing_tensor.new_zeros((num_objects, hidden_size))"
   ]
  },
  {
   "cell_type": "code",
   "execution_count": 58,
   "metadata": {
    "ExecuteTime": {
     "end_time": "2021-04-02T00:05:14.131347Z",
     "start_time": "2021-04-02T00:05:14.071577Z"
    }
   },
   "outputs": [],
   "source": [
    "def gen_dropout_mask(input_size, hidden_size, is_training, p, some_existing_tensor):\n",
    "    \"\"\"\n",
    "    is_training: if True, gen masks from Bernoulli\n",
    "                 if False, gen masks consisting of (1-p)\n",
    "    \n",
    "    return dropout masks of size input_size, hidden_size if p is not None\n",
    "    return one masks if p is None\n",
    "    \"\"\"\n",
    "    # YOUR CODE HERE\n",
    "    if p is None:\n",
    "        return some_existing_tensor.new_ones(input_size), some_existing_tensor.new_ones(hidden_size)\n",
    "    else:\n",
    "        if is_training:\n",
    "            return torch.bernoulli(torch.tensor([p] * input_size)), torch.bernoulli(torch.tensor([p] * hidden_size))\n",
    "        else:\n",
    "            return torch.bernoulli(torch.tensor([1 - p] * input_size)), torch.bernoulli(torch.tensor([1 - p] * hidden_size))"
   ]
  },
  {
   "cell_type": "markdown",
   "metadata": {
    "ExecuteTime": {
     "end_time": "2021-04-01T21:09:12.282613Z",
     "start_time": "2021-04-01T21:09:12.256019Z"
    }
   },
   "source": [
    "Допишите класс-обёртку над LSTMCell для реализации Variational Dropout. **Используйте только цикл по времени**"
   ]
  },
  {
   "cell_type": "markdown",
   "metadata": {},
   "source": [
    "**Для каждого тензора в функции `forward` подпишите в комментарии его размеры**"
   ]
  },
  {
   "cell_type": "code",
   "execution_count": 59,
   "metadata": {
    "ExecuteTime": {
     "end_time": "2021-04-02T00:05:14.190066Z",
     "start_time": "2021-04-02T00:05:14.132804Z"
    }
   },
   "outputs": [],
   "source": [
    "class RNNLayer(torch.nn.Module):\n",
    "    def __init__(self, input_size, hidden_size, dropout=None):\n",
    "        super().__init__()\n",
    "\n",
    "        self.dropout = dropout\n",
    "        self.input_size = input_size\n",
    "        self.hidden_size = hidden_size\n",
    "        \n",
    "        self.rnn_cell = torch.nn.LSTMCell(self.input_size, self.hidden_size)\n",
    "        \n",
    "    def forward(self, x):\n",
    "        # Initialize h_0, c_0\n",
    "        # YOUR CODE HERE\n",
    "        h_0, c_0 = init_h0_c0(x.shape[1], self.hidden_size, torch.tensor((), dtype=torch.float32))\n",
    "        # (64, 128)\n",
    "        h_0 = h_0.to(device)\n",
    "        # (64, 128)\n",
    "        c_0 = c_0.to(device)\n",
    "        \n",
    "        # Gen masks for input and hidden state\n",
    "        # YOUR CODE HERE\n",
    "        input_mask, hidden_mask = gen_dropout_mask(self.input_size, self.hidden_size, False, self.dropout, torch.tensor((), dtype=torch.int32))\n",
    "        # (64, 32)\n",
    "        input_mask = torch.tile(input_mask, (x.shape[1], 1)).to(device)\n",
    "        # (64, 128)\n",
    "        hidden_mask = torch.tile(hidden_mask, (x.shape[1], 1)).to(device)\n",
    "        \n",
    "        # Implement recurrent logic and return what nn.LSTM returns\n",
    "        # Do not forget to apply generated dropout masks!\n",
    "        # YOUR CODE HERE\n",
    "        h_res = torch.tensor([], dtype=torch.float32).to(device)\n",
    "        for time in range(x.shape[0]):\n",
    "            h_0, c_0 = self.rnn_cell(x[time, ...] * input_mask, (h_0 * hidden_mask, c_0))\n",
    "            h_res = torch.cat((h_res, torch.unsqueeze(h_0, 0)))\n",
    "        # h_res shape is (200, 64, 128)\n",
    "        return h_res, (h_0, c_0)"
   ]
  },
  {
   "cell_type": "markdown",
   "metadata": {},
   "source": [
    "Протестируйте реализованную модель с выключенным дропаутом (слой `RNNLayer` надо передать в `RNNClassifier` в качестве `rec_layer`). Замерьте время обучения. Сильно ли оно увеличилось по сравнению с `torch.nn.LSTM` (LSTM \"из коробки\")?"
   ]
  },
  {
   "cell_type": "markdown",
   "metadata": {},
   "source": [
    "**Сохраните все метрики и время работы модели. Это потребуется в конце первой части для построения графиков обучения и сравнения времени работы для всех моделей в этой секции**"
   ]
  },
  {
   "cell_type": "code",
   "execution_count": 60,
   "metadata": {},
   "outputs": [],
   "source": [
    "model = RNNClassifier(\n",
    "    embedding_dim=embedding_dim, hidden_dim=hidden_dim, output_size=10, vocab=vocab,\n",
    "    rec_layer=RNNLayer, dropout=None\n",
    ").to(device)"
   ]
  },
  {
   "cell_type": "code",
   "execution_count": 61,
   "metadata": {},
   "outputs": [],
   "source": [
    "loss_fn = torch.nn.CrossEntropyLoss(reduction='mean')\n",
    "optimizer = torch.optim.Adam(model.parameters(), lr=learning_rate)"
   ]
  },
  {
   "cell_type": "code",
   "execution_count": 62,
   "metadata": {
    "ExecuteTime": {
     "end_time": "2021-04-01T22:04:19.104557Z",
     "start_time": "2021-04-01T21:50:02.992858Z"
    }
   },
   "outputs": [
    {
     "name": "stdout",
     "output_type": "stream",
     "text": [
      "Epoch: 1/15. Loss (Train/Test): 0.030/0.030. Accuracy (Train/Test): 0.710/0.706\n",
      "Epoch: 2/15. Loss (Train/Test): 0.026/0.027. Accuracy (Train/Test): 0.826/0.808\n",
      "Epoch: 3/15. Loss (Train/Test): 0.025/0.026. Accuracy (Train/Test): 0.862/0.833\n",
      "Epoch: 4/15. Loss (Train/Test): 0.023/0.025. Accuracy (Train/Test): 0.879/0.843\n",
      "Epoch: 5/15. Loss (Train/Test): 0.023/0.025. Accuracy (Train/Test): 0.890/0.849\n",
      "Epoch: 6/15. Loss (Train/Test): 0.022/0.024. Accuracy (Train/Test): 0.906/0.854\n",
      "Epoch: 7/15. Loss (Train/Test): 0.021/0.025. Accuracy (Train/Test): 0.913/0.855\n",
      "Epoch: 8/15. Loss (Train/Test): 0.020/0.025. Accuracy (Train/Test): 0.929/0.859\n",
      "Epoch: 9/15. Loss (Train/Test): 0.019/0.025. Accuracy (Train/Test): 0.935/0.855\n",
      "Epoch: 10/15. Loss (Train/Test): 0.018/0.026. Accuracy (Train/Test): 0.950/0.856\n",
      "Epoch: 11/15. Loss (Train/Test): 0.017/0.026. Accuracy (Train/Test): 0.958/0.854\n",
      "Epoch: 12/15. Loss (Train/Test): 0.016/0.027. Accuracy (Train/Test): 0.965/0.854\n",
      "Epoch: 13/15. Loss (Train/Test): 0.015/0.028. Accuracy (Train/Test): 0.969/0.850\n",
      "Epoch: 14/15. Loss (Train/Test): 0.013/0.029. Accuracy (Train/Test): 0.975/0.850\n",
      "Epoch: 15/15. Loss (Train/Test): 0.012/0.031. Accuracy (Train/Test): 0.980/0.846\n",
      "Wall time: 10min 2s\n"
     ]
    }
   ],
   "source": [
    "%%time\n",
    "\n",
    "train_losses_do11, train_accuracies_do11, test_losses_do11, test_accuracies_do11 = train(\n",
    "    train_dataloader, test_dataloader, model, loss_fn, optimizer, device, num_epochs\n",
    ")"
   ]
  },
  {
   "cell_type": "markdown",
   "metadata": {},
   "source": [
    "Протестируйте полученную модель с `dropout=0.25`, вновь замерив время обучения. Получилось ли побороть переобучение? Сильно ли дольше обучается данная модель по сравнению с предыдущей? (доп. время тратится на генерацию масок дропаута)."
   ]
  },
  {
   "cell_type": "code",
   "execution_count": 63,
   "metadata": {},
   "outputs": [],
   "source": [
    "model = RNNClassifier(\n",
    "    embedding_dim=embedding_dim, hidden_dim=hidden_dim, output_size=10, vocab=vocab,\n",
    "    rec_layer=RNNLayer, dropout=0.25\n",
    ").to(device)"
   ]
  },
  {
   "cell_type": "code",
   "execution_count": 64,
   "metadata": {},
   "outputs": [],
   "source": [
    "loss_fn = torch.nn.CrossEntropyLoss(reduction='mean')\n",
    "optimizer = torch.optim.Adam(model.parameters(), lr=learning_rate)"
   ]
  },
  {
   "cell_type": "code",
   "execution_count": 65,
   "metadata": {
    "ExecuteTime": {
     "end_time": "2021-04-01T22:18:28.301613Z",
     "start_time": "2021-04-01T22:04:19.107850Z"
    }
   },
   "outputs": [
    {
     "name": "stdout",
     "output_type": "stream",
     "text": [
      "Epoch: 1/15. Loss (Train/Test): 0.032/0.032. Accuracy (Train/Test): 0.554/0.549\n",
      "Epoch: 2/15. Loss (Train/Test): 0.030/0.030. Accuracy (Train/Test): 0.678/0.661\n",
      "Epoch: 3/15. Loss (Train/Test): 0.027/0.028. Accuracy (Train/Test): 0.781/0.775\n",
      "Epoch: 4/15. Loss (Train/Test): 0.026/0.027. Accuracy (Train/Test): 0.810/0.800\n",
      "Epoch: 5/15. Loss (Train/Test): 0.025/0.026. Accuracy (Train/Test): 0.834/0.822\n",
      "Epoch: 6/15. Loss (Train/Test): 0.025/0.026. Accuracy (Train/Test): 0.854/0.829\n",
      "Epoch: 7/15. Loss (Train/Test): 0.024/0.025. Accuracy (Train/Test): 0.853/0.831\n",
      "Epoch: 8/15. Loss (Train/Test): 0.024/0.025. Accuracy (Train/Test): 0.873/0.848\n",
      "Epoch: 9/15. Loss (Train/Test): 0.023/0.025. Accuracy (Train/Test): 0.876/0.844\n",
      "Epoch: 10/15. Loss (Train/Test): 0.023/0.025. Accuracy (Train/Test): 0.884/0.851\n",
      "Epoch: 11/15. Loss (Train/Test): 0.022/0.025. Accuracy (Train/Test): 0.885/0.852\n",
      "Epoch: 12/15. Loss (Train/Test): 0.022/0.025. Accuracy (Train/Test): 0.890/0.852\n",
      "Epoch: 13/15. Loss (Train/Test): 0.022/0.024. Accuracy (Train/Test): 0.896/0.857\n",
      "Epoch: 14/15. Loss (Train/Test): 0.021/0.024. Accuracy (Train/Test): 0.900/0.858\n",
      "Epoch: 15/15. Loss (Train/Test): 0.021/0.024. Accuracy (Train/Test): 0.900/0.859\n",
      "Wall time: 10min 5s\n"
     ]
    }
   ],
   "source": [
    "%%time\n",
    "\n",
    "train_losses_do12, train_accuracies_do12, test_losses_do12, test_accuracies_do12 = train(\n",
    "    train_dataloader, test_dataloader, model, loss_fn, optimizer, device, num_epochs\n",
    ")"
   ]
  },
  {
   "cell_type": "markdown",
   "metadata": {},
   "source": [
    "## Реализация дропаута по статье Гала и Гарамани. Дубль 2 (1 балл)"
   ]
  },
  {
   "cell_type": "markdown",
   "metadata": {},
   "source": [
    "<начало взлома pytorch>"
   ]
  },
  {
   "cell_type": "markdown",
   "metadata": {},
   "source": [
    "При разворачивании цикла по времени средствами python обучение рекуррентной нейросети сильно замедляется. Однако для реализации дропаута Гала и Гарамани необязательно явно задавать в коде домножение нейронов на маски. Можно схитрить и обойтись использованием слоя `torch.nn.LSTM`: перед вызовом `forward` слоя `torch.nn.LSTM` подменять его веса на веса, домноженные по строкам на маски. А обучаемые веса хранить отдельно. Именно так этот дропаут реализован в библиотеке `fastai`, код из которой использован в ячейке ниже.\n",
    "\n",
    "Такой слой реализуется в виде обертки над `torch.nn.LSTM`. Допишите класс:"
   ]
  },
  {
   "cell_type": "code",
   "execution_count": 34,
   "metadata": {
    "ExecuteTime": {
     "end_time": "2021-04-02T00:05:14.286206Z",
     "start_time": "2021-04-02T00:05:14.191730Z"
    }
   },
   "outputs": [],
   "source": [
    "import warnings"
   ]
  },
  {
   "cell_type": "code",
   "execution_count": 43,
   "metadata": {
    "ExecuteTime": {
     "end_time": "2021-04-02T02:06:54.953123Z",
     "start_time": "2021-04-02T02:06:54.917017Z"
    }
   },
   "outputs": [],
   "source": [
    "class FastRNNLayer(torch.nn.Module):\n",
    "    def __init__(self, input_size, hidden_size, dropout=0.0, layers_dropout=0.0, num_layers=1):\n",
    "        super().__init__()\n",
    "\n",
    "        self.input_size = input_size\n",
    "        self.hidden_size = hidden_size\n",
    "\n",
    "        self.num_layers = num_layers\n",
    "\n",
    "        self.dropout = dropout\n",
    "        self.layers_dropout = layers_dropout\n",
    "        self.module = torch.nn.LSTM(input_size, hidden_size, dropout=layers_dropout, num_layers=num_layers)\n",
    "\n",
    "        self.layer_names = []\n",
    "        for layer_n in range(self.num_layers):\n",
    "            self.layer_names += [f'weight_hh_l{layer_n}', f'weight_ih_l{layer_n}']\n",
    "\n",
    "        for layer in self.layer_names:\n",
    "            # Get torch.nn.Parameter with weights from torch.nn.LSTM instance\n",
    "            w = getattr(self.module, layer)\n",
    "\n",
    "            # Remove it from model\n",
    "            delattr(self.module, layer)\n",
    "\n",
    "            # And create new torch.nn.Parameter with the same data but different name\n",
    "            self.register_parameter(f'{layer}_raw', torch.nn.Parameter(w.data))\n",
    "\n",
    "            # Note. In torch.nn.LSTM.forward parameter with name `layer` will be used\n",
    "            #     so we must initialize it using `layer_raw` before forward pass\n",
    "\n",
    "    def _setweights(self, x):\n",
    "        \"\"\"\n",
    "            Apply dropout to the raw weights.\n",
    "        \"\"\"\n",
    "        for layer in self.layer_names:\n",
    "            # Get torch.nn.Parameter with weights\n",
    "            raw_w = getattr(self, f'{layer}_raw')\n",
    "\n",
    "            # Generate mask (use function gen_dropout_mask)\n",
    "            # YOUR CODE HERE\n",
    "            input_mask, hidden_mask = gen_dropout_mask(self.input_size, self.hidden_size, False, self.dropout, torch.tensor((), dtype=torch.int32))\n",
    "            hidden_mask = torch.tile(hidden_mask, (512, 1)).to(device)\n",
    "            input_mask = torch.tile(input_mask, (512, 1)).to(device)\n",
    "\n",
    "            # Apply dropout mask\n",
    "            # YOUR CODE HERE\n",
    "            if (raw_w.shape[1] == 128):\n",
    "                masked_raw_w = raw_w * hidden_mask\n",
    "            else:\n",
    "                masked_raw_w = raw_w * input_mask\n",
    "\n",
    "            # Set modified weights in its place\n",
    "            setattr(self.module, layer, masked_raw_w)\n",
    "\n",
    "    def forward(self, x, h_c=None):\n",
    "        \"\"\"\n",
    "        :param x: tensor containing the features of the input sequence.\n",
    "        :param Optional[Tuple[torch.tensor, torch.tensor]] h_c: initial hidden state and initial cell state\n",
    "        \"\"\"\n",
    "        with warnings.catch_warnings():\n",
    "            # To avoid the warning that comes because the weights aren't flattened.\n",
    "            warnings.simplefilter(\"ignore\")\n",
    "\n",
    "            # Set new weights of self.module and call its forward\n",
    "            # Pass h_c with x if it is not None. Otherwise pass only x\n",
    "            # YOUR CODE HERE\n",
    "            self._setweights(x)\n",
    "            if h_c is None:\n",
    "                output = self.module(x)\n",
    "            else:\n",
    "                output = self.module(x, h_c)\n",
    "            return output\n",
    "            \n",
    "    def reset(self):\n",
    "        if hasattr(self.module, 'reset'):\n",
    "            self.module.reset()"
   ]
  },
  {
   "cell_type": "markdown",
   "metadata": {},
   "source": [
    "Протестируйте реализованную модель с выключенным дропаутом (слой `FastRNNLayer` надо передать в `RNNClassifier` в качестве `rec_layer`). Замерьте время обучения. Убедитесь, что модель выдаёт такое же качество, как и оригинальная реализация LSTM."
   ]
  },
  {
   "cell_type": "markdown",
   "metadata": {},
   "source": [
    "**Сохраните все метрики и время работы модели. Это потребуется в конце первой части для построения графиков обучения и сравнения времени работы для всех моделей в этой секции**"
   ]
  },
  {
   "cell_type": "code",
   "execution_count": 66,
   "metadata": {},
   "outputs": [],
   "source": [
    "model = RNNClassifier(\n",
    "    embedding_dim=embedding_dim, hidden_dim=hidden_dim, output_size=10, vocab=vocab,\n",
    "    rec_layer=FastRNNLayer, dropout=None\n",
    ").to(device)"
   ]
  },
  {
   "cell_type": "code",
   "execution_count": 67,
   "metadata": {},
   "outputs": [],
   "source": [
    "loss_fn = torch.nn.CrossEntropyLoss(reduction='mean')\n",
    "optimizer = torch.optim.Adam(model.parameters(), lr=learning_rate)"
   ]
  },
  {
   "cell_type": "code",
   "execution_count": 68,
   "metadata": {
    "ExecuteTime": {
     "end_time": "2021-04-01T22:25:23.843846Z",
     "start_time": "2021-04-01T22:22:43.059254Z"
    }
   },
   "outputs": [
    {
     "name": "stdout",
     "output_type": "stream",
     "text": [
      "Epoch: 1/15. Loss (Train/Test): 0.031/0.031. Accuracy (Train/Test): 0.610/0.600\n",
      "Epoch: 2/15. Loss (Train/Test): 0.027/0.028. Accuracy (Train/Test): 0.788/0.776\n",
      "Epoch: 3/15. Loss (Train/Test): 0.025/0.026. Accuracy (Train/Test): 0.847/0.824\n",
      "Epoch: 4/15. Loss (Train/Test): 0.024/0.025. Accuracy (Train/Test): 0.861/0.832\n",
      "Epoch: 5/15. Loss (Train/Test): 0.023/0.024. Accuracy (Train/Test): 0.888/0.855\n",
      "Epoch: 6/15. Loss (Train/Test): 0.022/0.024. Accuracy (Train/Test): 0.901/0.860\n",
      "Epoch: 7/15. Loss (Train/Test): 0.021/0.025. Accuracy (Train/Test): 0.907/0.856\n",
      "Epoch: 8/15. Loss (Train/Test): 0.020/0.024. Accuracy (Train/Test): 0.919/0.864\n",
      "Epoch: 9/15. Loss (Train/Test): 0.019/0.025. Accuracy (Train/Test): 0.927/0.864\n",
      "Epoch: 10/15. Loss (Train/Test): 0.018/0.025. Accuracy (Train/Test): 0.938/0.862\n",
      "Epoch: 11/15. Loss (Train/Test): 0.017/0.026. Accuracy (Train/Test): 0.945/0.860\n",
      "Epoch: 12/15. Loss (Train/Test): 0.016/0.027. Accuracy (Train/Test): 0.948/0.856\n",
      "Epoch: 13/15. Loss (Train/Test): 0.015/0.028. Accuracy (Train/Test): 0.958/0.856\n",
      "Epoch: 14/15. Loss (Train/Test): 0.014/0.029. Accuracy (Train/Test): 0.953/0.848\n",
      "Epoch: 15/15. Loss (Train/Test): 0.013/0.030. Accuracy (Train/Test): 0.969/0.854\n",
      "Wall time: 2min 12s\n"
     ]
    }
   ],
   "source": [
    "%%time\n",
    "\n",
    "train_losses_do21, train_accuracies_do21, test_losses_do21, test_accuracies_do21 = train(\n",
    "    train_dataloader, test_dataloader, model, loss_fn, optimizer, device, num_epochs\n",
    ")"
   ]
  },
  {
   "cell_type": "markdown",
   "metadata": {},
   "source": [
    "Протестируйте полученный слой (вновь подставив его в `RNNClassifier` в качестве `rec_layer`) с `dropout=0.25`. Сравните время обучения с предыдущими моделями. Проследите, чтобы качество получилось такое же, как при первой реализации этого дропаута."
   ]
  },
  {
   "cell_type": "code",
   "execution_count": 69,
   "metadata": {},
   "outputs": [],
   "source": [
    "model = RNNClassifier(\n",
    "    embedding_dim=embedding_dim, hidden_dim=hidden_dim, output_size=10, vocab=vocab,\n",
    "    rec_layer=FastRNNLayer, dropout=0.25\n",
    ").to(device)"
   ]
  },
  {
   "cell_type": "code",
   "execution_count": 70,
   "metadata": {},
   "outputs": [],
   "source": [
    "loss_fn = torch.nn.CrossEntropyLoss(reduction='mean')\n",
    "optimizer = torch.optim.Adam(model.parameters(), lr=learning_rate)"
   ]
  },
  {
   "cell_type": "code",
   "execution_count": 71,
   "metadata": {
    "ExecuteTime": {
     "end_time": "2021-04-01T22:28:38.168777Z",
     "start_time": "2021-04-01T22:25:56.717326Z"
    }
   },
   "outputs": [
    {
     "name": "stdout",
     "output_type": "stream",
     "text": [
      "Epoch: 1/15. Loss (Train/Test): 0.031/0.031. Accuracy (Train/Test): 0.580/0.576\n",
      "Epoch: 2/15. Loss (Train/Test): 0.029/0.029. Accuracy (Train/Test): 0.726/0.719\n",
      "Epoch: 3/15. Loss (Train/Test): 0.028/0.028. Accuracy (Train/Test): 0.773/0.762\n",
      "Epoch: 4/15. Loss (Train/Test): 0.026/0.027. Accuracy (Train/Test): 0.819/0.799\n",
      "Epoch: 5/15. Loss (Train/Test): 0.025/0.026. Accuracy (Train/Test): 0.841/0.820\n",
      "Epoch: 6/15. Loss (Train/Test): 0.024/0.025. Accuracy (Train/Test): 0.859/0.835\n",
      "Epoch: 7/15. Loss (Train/Test): 0.024/0.025. Accuracy (Train/Test): 0.863/0.838\n",
      "Epoch: 8/15. Loss (Train/Test): 0.024/0.025. Accuracy (Train/Test): 0.876/0.845\n",
      "Epoch: 9/15. Loss (Train/Test): 0.023/0.025. Accuracy (Train/Test): 0.881/0.848\n",
      "Epoch: 10/15. Loss (Train/Test): 0.023/0.025. Accuracy (Train/Test): 0.883/0.851\n",
      "Epoch: 11/15. Loss (Train/Test): 0.023/0.025. Accuracy (Train/Test): 0.888/0.853\n",
      "Epoch: 12/15. Loss (Train/Test): 0.022/0.024. Accuracy (Train/Test): 0.892/0.857\n",
      "Epoch: 13/15. Loss (Train/Test): 0.022/0.024. Accuracy (Train/Test): 0.898/0.860\n",
      "Epoch: 14/15. Loss (Train/Test): 0.022/0.025. Accuracy (Train/Test): 0.895/0.855\n",
      "Epoch: 15/15. Loss (Train/Test): 0.021/0.024. Accuracy (Train/Test): 0.905/0.858\n",
      "Wall time: 2min 11s\n"
     ]
    }
   ],
   "source": [
    "%%time\n",
    "\n",
    "train_losses_do22, train_accuracies_do22, test_losses_do22, test_accuracies_do22 = train(\n",
    "    train_dataloader, test_dataloader, model, loss_fn, optimizer, device, num_epochs\n",
    ")"
   ]
  },
  {
   "cell_type": "markdown",
   "metadata": {},
   "source": [
    "</конец взлома pytorch>"
   ]
  },
  {
   "cell_type": "markdown",
   "metadata": {},
   "source": [
    "## Реализация дропаута по статье Семениуты и др. (1 балл)"
   ]
  },
  {
   "cell_type": "markdown",
   "metadata": {},
   "source": [
    "Перейдем к реализации дропаута для LSTM по статье [Semeniuta et al](http://www.aclweb.org/anthology/C16-1165). \n",
    "\n",
    "Этот метод применения дропаута не менее популярен, чем предыдущий. Его особенность состоит в том, что он придуман специально для гейтовых архитектур. В контексте LSTM этот дропаут накладывается только на информационный поток (m_h - маска дропаута):\n",
    "$$\n",
    "i = \\sigma(h_{t-1}W^i + x_t U^i+b_i) \\quad\n",
    "o = \\sigma(h_{t-1}W^o + x_t U^o+b_o) \n",
    "$$\n",
    "$$\n",
    "f = \\sigma(h_{t-1}W^f + x_t U^f+b_f) \\quad \n",
    "g = tanh(h_{t-1} W^g + x_t U^g+b_g) \n",
    "$$\n",
    "$$\n",
    "c_t = f \\odot c_{t-1} +  i \\odot g \\odot {\\bf m_h} \\quad\n",
    "h_t =  o \\odot tanh(c_t) \\nonumber\n",
    "$$\n",
    "На входы $x_t$ маска накладывается как в предыдущем дропауте. Впрочем, на входы маску можно наложить вообще до вызова рекуррентного слоя.\n",
    "\n",
    "Согласно статье, маска дропаута может быть как одинаковая, так и разная для всех моментов времени. Мы сделаем одинаковую для всех моментов времени.\n",
    "\n",
    "Для реализации этого дропаута можно: \n",
    "1. самостоятельно реализовать LSTM (интерфейса LSTMCell не хватит) \n",
    "2. снова воспользоваться трюком с установкой весов (но тут мы опираемся на свойство $tanh(0)=0$, к тому же, трюк в данном случае выглядит менее тривиально, чем с дропаутом Гала). \n",
    "\n",
    "Предлагается реализовать дропаут по сценарию 1. Допишите класс:"
   ]
  },
  {
   "cell_type": "markdown",
   "metadata": {},
   "source": [
    "**Для каждого тензора в функции `forward` подпишите в комментарии его размеры**"
   ]
  },
  {
   "cell_type": "code",
   "execution_count": 89,
   "metadata": {
    "ExecuteTime": {
     "end_time": "2021-04-02T00:05:14.447201Z",
     "start_time": "2021-04-02T00:05:14.350457Z"
    }
   },
   "outputs": [],
   "source": [
    "class HandmadeLSTM(torch.nn.Module):\n",
    "    def __init__(self, input_size, hidden_size, dropout=0.0):\n",
    "        super().__init__()\n",
    "        \n",
    "        self.dropout = dropout\n",
    "        self.input_size = input_size\n",
    "        self.hidden_size = hidden_size\n",
    "        \n",
    "        self.input_weights = torch.nn.Linear(input_size, 4 * hidden_size)\n",
    "        self.hidden_weights = torch.nn.Linear(hidden_size, 4 * hidden_size)\n",
    "        \n",
    "        self.reset_params()\n",
    "\n",
    "    def reset_params(self):\n",
    "        \"\"\"\n",
    "        Initialization as in Pytorch. \n",
    "        Do not forget to call this method!\n",
    "        https://pytorch.org/docs/stable/_modules/torch/nn/modules/rnn.html#LSTM\n",
    "        \"\"\"\n",
    "        stdv = 1.0 / np.sqrt(self.hidden_size)\n",
    "        for weight in self.parameters():\n",
    "            torch.nn.init.uniform_(weight, -stdv, stdv)\n",
    "\n",
    "    def forward(self, x, hidden):\n",
    "        # Use functions init_h0_c0 and gen_dropout_masks defined above\n",
    "        # YOUR CODE HERE\n",
    "        h, c = hidden\n",
    "        h = h.to(device)\n",
    "        c = c.to(device)\n",
    "        input_mask, hidden_mask = gen_dropout_mask(self.input_size, self.hidden_size, False, self.dropout, torch.tensor((), dtype=torch.int32))\n",
    "        hidden_mask = hidden_mask.to(device)\n",
    "        \n",
    "        # Implement recurrent logic to mimic torch.nn.LSTM\n",
    "        # Do not forget to apply dropout mask\n",
    "        # YOUR CODE HERE\n",
    "        h = h.view(h.size(1), -1)\n",
    "        c = c.view(c.size(1), -1)\n",
    "        x = x.view(x.size(1), -1)\n",
    "\n",
    "        preact = self.input_weights(x) + self.hidden_weights(h)\n",
    "        gates = preact[:, :3 * self.hidden_size].sigmoid()\n",
    "        g_t = preact[:, 3 * self.hidden_size:].tanh()\n",
    "        i_t = gates[:, :self.hidden_size]\n",
    "        f_t = gates[:, self.hidden_size:2 * self.hidden_size]\n",
    "        o_t = gates[:, -self.hidden_size:]\n",
    "\n",
    "        c_t = torch.mul(c, f_t) + torch.mul(i_t, g_t) * hidden_mask\n",
    "        h_t = torch.mul(o_t, c_t.tanh())\n",
    "\n",
    "        h_t = h_t.view(1, h_t.size(0), -1)\n",
    "        c_t = c_t.view(1, c_t.size(0), -1)\n",
    "        return h_t, c_t"
   ]
  },
  {
   "cell_type": "code",
   "execution_count": 90,
   "metadata": {},
   "outputs": [],
   "source": [
    "class RNNLayer(torch.nn.Module):\n",
    "    def __init__(self, input_size, hidden_size, dropout=0.0):\n",
    "        super().__init__()\n",
    "\n",
    "        self.dropout = dropout\n",
    "        self.input_size = input_size\n",
    "        self.hidden_size = hidden_size\n",
    "        \n",
    "        self.rnn_cell = HandmadeLSTM(self.input_size, self.hidden_size, dropout)\n",
    "        \n",
    "    def forward(self, x):\n",
    "        # Initialize h_0, c_0\n",
    "        # YOUR CODE HERE\n",
    "        h_0, c_0 = torch.tensor((), dtype=torch.float32).new_zeros(self.hidden_size), torch.tensor((), dtype=torch.float32).new_zeros(self.hidden_size)\n",
    "        h_0 = h_0.to(device)\n",
    "        c_0 = c_0.to(device)\n",
    "        \n",
    "        # Gen masks for input and hidden state\n",
    "        # YOUR CODE HERE\n",
    "        input_mask, hidden_mask = gen_dropout_mask(self.input_size, self.hidden_size, False, self.dropout, torch.tensor((), dtype=torch.int32))\n",
    "        input_mask = input_mask.to(device)\n",
    "        \n",
    "        # Implement recurrent logic and return what nn.LSTM returns\n",
    "        # Do not forget to apply generated dropout masks!\n",
    "        # YOUR CODE HERE\n",
    "        h_res = torch.tensor([], dtype=torch.float32).to(device)\n",
    "        for time in range(x.shape[0]):\n",
    "            h_0, c_0 = self.rnn_cell(x[time, ...] * input_mask, (h_0, c_0))\n",
    "            h_res = torch.cat((h_res, torch.unsqueeze(h_0, 0)))\n",
    "        # h_res shape is (200, 64, 128)\n",
    "        return h_res, (h_0, c_0)"
   ]
  },
  {
   "cell_type": "code",
   "execution_count": 94,
   "metadata": {},
   "outputs": [],
   "source": [
    "test_dataloader = DataLoader(test_dataset, batch_size=1, shuffle=False, collate_fn=partial(collate_fn, padding_value=0))\n",
    "train_dataloader = DataLoader(train_dataset, batch_size=1, shuffle=True, collate_fn=partial(collate_fn, padding_value=0))"
   ]
  },
  {
   "cell_type": "markdown",
   "metadata": {},
   "source": [
    "Протестируйте вашу реализацию без дропаута (проконтролируйте качество и сравните время обучения с временем обучения `torch.nn.LSTM` и `RNNLayer`), а также с `dropout=0.25`. Сравните качество модели с таким дропаутом с качеством модели с дропаутом Гала и Гарамани."
   ]
  },
  {
   "cell_type": "markdown",
   "metadata": {},
   "source": [
    "**Сохраните все метрики и время работы модели. Это потребуется в конце первой части для построения графиков обучения и сравнения времени работы для всех моделей в этой секции**"
   ]
  },
  {
   "cell_type": "code",
   "execution_count": 95,
   "metadata": {},
   "outputs": [],
   "source": [
    "model = RNNClassifier(\n",
    "    embedding_dim=embedding_dim, hidden_dim=hidden_dim, output_size=10, vocab=vocab,\n",
    "    rec_layer=RNNLayer, dropout=None\n",
    ").to(device)"
   ]
  },
  {
   "cell_type": "code",
   "execution_count": 96,
   "metadata": {},
   "outputs": [],
   "source": [
    "loss_fn = torch.nn.CrossEntropyLoss(reduction='mean')\n",
    "optimizer = torch.optim.Adam(model.parameters(), lr=learning_rate)"
   ]
  },
  {
   "cell_type": "code",
   "execution_count": null,
   "metadata": {},
   "outputs": [],
   "source": [
    "%%time\n",
    "\n",
    "train_losses_do31, train_accuracies_do31, test_losses_do31, test_accuracies_do31 = train(\n",
    "    train_dataloader, test_dataloader, model, loss_fn, optimizer, device, num_epochs\n",
    ")"
   ]
  },
  {
   "cell_type": "code",
   "execution_count": 41,
   "metadata": {
    "ExecuteTime": {
     "end_time": "2021-04-01T23:33:28.808063Z",
     "start_time": "2021-04-01T23:01:53.049547Z"
    }
   },
   "outputs": [
    {
     "name": "stdout",
     "output_type": "stream",
     "text": [
      "Epoch: 1/15. Loss (Train/Test): 2.031/2.032. Accuracy (Train/Test): 0.216/0.213\n",
      "Epoch: 2/15. Loss (Train/Test): 1.857/1.873. Accuracy (Train/Test): 0.317/0.320\n",
      "Epoch: 3/15. Loss (Train/Test): 1.688/1.724. Accuracy (Train/Test): 0.351/0.352\n",
      "Epoch: 4/15. Loss (Train/Test): 1.632/1.677. Accuracy (Train/Test): 0.363/0.344\n",
      "Epoch: 5/15. Loss (Train/Test): 1.551/1.610. Accuracy (Train/Test): 0.394/0.374\n",
      "Epoch: 6/15. Loss (Train/Test): 1.524/1.586. Accuracy (Train/Test): 0.404/0.379\n",
      "Epoch: 7/15. Loss (Train/Test): 1.486/1.562. Accuracy (Train/Test): 0.416/0.393\n",
      "Epoch: 8/15. Loss (Train/Test): 1.455/1.552. Accuracy (Train/Test): 0.427/0.398\n",
      "Epoch: 9/15. Loss (Train/Test): 1.434/1.552. Accuracy (Train/Test): 0.435/0.397\n",
      "Epoch: 10/15. Loss (Train/Test): 1.402/1.522. Accuracy (Train/Test): 0.444/0.405\n",
      "Epoch: 11/15. Loss (Train/Test): 1.391/1.527. Accuracy (Train/Test): 0.450/0.408\n",
      "Epoch: 12/15. Loss (Train/Test): 1.369/1.526. Accuracy (Train/Test): 0.459/0.405\n",
      "Epoch: 13/15. Loss (Train/Test): 1.360/1.522. Accuracy (Train/Test): 0.463/0.414\n",
      "Epoch: 14/15. Loss (Train/Test): 1.351/1.528. Accuracy (Train/Test): 0.466/0.410\n",
      "Epoch: 15/15. Loss (Train/Test): 1.327/1.520. Accuracy (Train/Test): 0.472/0.417\n"
     ]
    }
   ],
   "source": [
    "# YOUR CODE HERE"
   ]
  },
  {
   "cell_type": "markdown",
   "metadata": {
    "ExecuteTime": {
     "end_time": "2021-04-01T23:33:28.831346Z",
     "start_time": "2021-04-01T23:33:28.810453Z"
    }
   },
   "source": [
    "## Сравнение всех предложенных моделей. (1 балл)"
   ]
  },
  {
   "cell_type": "markdown",
   "metadata": {
    "ExecuteTime": {
     "end_time": "2021-04-01T23:48:05.361634Z",
     "start_time": "2021-04-01T23:48:05.333901Z"
    }
   },
   "source": [
    "Используя замеры времени заполните табличку с временем работы четырёх реализованных моделей в следующей ячейке:"
   ]
  },
  {
   "cell_type": "markdown",
   "metadata": {},
   "source": [
    "| torch.nn.LSTM | RNNLayer | FastRNNLayer | HandmadeLSTM |\n",
    "|---------------|----------|--------------|--------------|\n",
    "| 1min 57s      | 10min 2s | 2min 12s     | 31m 44s      |"
   ]
  },
  {
   "cell_type": "code",
   "execution_count": 104,
   "metadata": {
    "ExecuteTime": {
     "end_time": "2021-04-02T00:05:14.722913Z",
     "start_time": "2021-04-02T00:05:14.448857Z"
    }
   },
   "outputs": [],
   "source": [
    "import matplotlib.pyplot as plt"
   ]
  },
  {
   "cell_type": "markdown",
   "metadata": {},
   "source": [
    "Крайне желательно рисовать графики в векторном формате. \n",
    "\n",
    "Если по каким-то причинам, отрисовка не будет работать, закомментируйте следующую ячейку."
   ]
  },
  {
   "cell_type": "code",
   "execution_count": 99,
   "metadata": {
    "ExecuteTime": {
     "end_time": "2021-04-02T00:05:14.745238Z",
     "start_time": "2021-04-02T00:05:14.724188Z"
    }
   },
   "outputs": [],
   "source": [
    "%matplotlib inline\n",
    "\n",
    "from IPython.display import set_matplotlib_formats\n",
    "\n",
    "set_matplotlib_formats('pdf', 'svg')"
   ]
  },
  {
   "cell_type": "markdown",
   "metadata": {},
   "source": [
    "Нарисуйте два графика -- функция потерь и качество на обучающей и тестовой выборке для всех 7 моделей обученных выше."
   ]
  },
  {
   "cell_type": "code",
   "execution_count": 105,
   "metadata": {
    "ExecuteTime": {
     "end_time": "2021-04-01T23:40:37.809057Z",
     "start_time": "2021-04-01T23:40:36.694896Z"
    }
   },
   "outputs": [
    {
     "name": "stderr",
     "output_type": "stream",
     "text": [
      "The PDF backend does not currently support the selected font.\n"
     ]
    },
    {
     "ename": "RuntimeError",
     "evalue": "Failed to open TrueType font",
     "output_type": "error",
     "traceback": [
      "\u001b[1;31m---------------------------------------------------------------------------\u001b[0m",
      "\u001b[1;31mRuntimeError\u001b[0m                              Traceback (most recent call last)",
      "\u001b[1;32mc:\\users\\илья\\appdata\\local\\programs\\python\\python38\\lib\\site-packages\\IPython\\core\\formatters.py\u001b[0m in \u001b[0;36m__call__\u001b[1;34m(self, obj)\u001b[0m\n\u001b[0;32m    339\u001b[0m                 \u001b[1;32mpass\u001b[0m\u001b[1;33m\u001b[0m\u001b[1;33m\u001b[0m\u001b[0m\n\u001b[0;32m    340\u001b[0m             \u001b[1;32melse\u001b[0m\u001b[1;33m:\u001b[0m\u001b[1;33m\u001b[0m\u001b[1;33m\u001b[0m\u001b[0m\n\u001b[1;32m--> 341\u001b[1;33m                 \u001b[1;32mreturn\u001b[0m \u001b[0mprinter\u001b[0m\u001b[1;33m(\u001b[0m\u001b[0mobj\u001b[0m\u001b[1;33m)\u001b[0m\u001b[1;33m\u001b[0m\u001b[1;33m\u001b[0m\u001b[0m\n\u001b[0m\u001b[0;32m    342\u001b[0m             \u001b[1;31m# Finally look for special method names\u001b[0m\u001b[1;33m\u001b[0m\u001b[1;33m\u001b[0m\u001b[1;33m\u001b[0m\u001b[0m\n\u001b[0;32m    343\u001b[0m             \u001b[0mmethod\u001b[0m \u001b[1;33m=\u001b[0m \u001b[0mget_real_method\u001b[0m\u001b[1;33m(\u001b[0m\u001b[0mobj\u001b[0m\u001b[1;33m,\u001b[0m \u001b[0mself\u001b[0m\u001b[1;33m.\u001b[0m\u001b[0mprint_method\u001b[0m\u001b[1;33m)\u001b[0m\u001b[1;33m\u001b[0m\u001b[1;33m\u001b[0m\u001b[0m\n",
      "\u001b[1;32mc:\\users\\илья\\appdata\\local\\programs\\python\\python38\\lib\\site-packages\\IPython\\core\\pylabtools.py\u001b[0m in \u001b[0;36m<lambda>\u001b[1;34m(fig)\u001b[0m\n\u001b[0;32m    254\u001b[0m         \u001b[0msvg_formatter\u001b[0m\u001b[1;33m.\u001b[0m\u001b[0mfor_type\u001b[0m\u001b[1;33m(\u001b[0m\u001b[0mFigure\u001b[0m\u001b[1;33m,\u001b[0m \u001b[1;32mlambda\u001b[0m \u001b[0mfig\u001b[0m\u001b[1;33m:\u001b[0m \u001b[0mprint_figure\u001b[0m\u001b[1;33m(\u001b[0m\u001b[0mfig\u001b[0m\u001b[1;33m,\u001b[0m \u001b[1;34m'svg'\u001b[0m\u001b[1;33m,\u001b[0m \u001b[1;33m**\u001b[0m\u001b[0mkwargs\u001b[0m\u001b[1;33m)\u001b[0m\u001b[1;33m)\u001b[0m\u001b[1;33m\u001b[0m\u001b[1;33m\u001b[0m\u001b[0m\n\u001b[0;32m    255\u001b[0m     \u001b[1;32mif\u001b[0m \u001b[1;34m'pdf'\u001b[0m \u001b[1;32min\u001b[0m \u001b[0mformats\u001b[0m\u001b[1;33m:\u001b[0m\u001b[1;33m\u001b[0m\u001b[1;33m\u001b[0m\u001b[0m\n\u001b[1;32m--> 256\u001b[1;33m         \u001b[0mpdf_formatter\u001b[0m\u001b[1;33m.\u001b[0m\u001b[0mfor_type\u001b[0m\u001b[1;33m(\u001b[0m\u001b[0mFigure\u001b[0m\u001b[1;33m,\u001b[0m \u001b[1;32mlambda\u001b[0m \u001b[0mfig\u001b[0m\u001b[1;33m:\u001b[0m \u001b[0mprint_figure\u001b[0m\u001b[1;33m(\u001b[0m\u001b[0mfig\u001b[0m\u001b[1;33m,\u001b[0m \u001b[1;34m'pdf'\u001b[0m\u001b[1;33m,\u001b[0m \u001b[1;33m**\u001b[0m\u001b[0mkwargs\u001b[0m\u001b[1;33m)\u001b[0m\u001b[1;33m)\u001b[0m\u001b[1;33m\u001b[0m\u001b[1;33m\u001b[0m\u001b[0m\n\u001b[0m\u001b[0;32m    257\u001b[0m \u001b[1;33m\u001b[0m\u001b[0m\n\u001b[0;32m    258\u001b[0m \u001b[1;31m#-----------------------------------------------------------------------------\u001b[0m\u001b[1;33m\u001b[0m\u001b[1;33m\u001b[0m\u001b[1;33m\u001b[0m\u001b[0m\n",
      "\u001b[1;32mc:\\users\\илья\\appdata\\local\\programs\\python\\python38\\lib\\site-packages\\IPython\\core\\pylabtools.py\u001b[0m in \u001b[0;36mprint_figure\u001b[1;34m(fig, fmt, bbox_inches, **kwargs)\u001b[0m\n\u001b[0;32m    130\u001b[0m         \u001b[0mFigureCanvasBase\u001b[0m\u001b[1;33m(\u001b[0m\u001b[0mfig\u001b[0m\u001b[1;33m)\u001b[0m\u001b[1;33m\u001b[0m\u001b[1;33m\u001b[0m\u001b[0m\n\u001b[0;32m    131\u001b[0m \u001b[1;33m\u001b[0m\u001b[0m\n\u001b[1;32m--> 132\u001b[1;33m     \u001b[0mfig\u001b[0m\u001b[1;33m.\u001b[0m\u001b[0mcanvas\u001b[0m\u001b[1;33m.\u001b[0m\u001b[0mprint_figure\u001b[0m\u001b[1;33m(\u001b[0m\u001b[0mbytes_io\u001b[0m\u001b[1;33m,\u001b[0m \u001b[1;33m**\u001b[0m\u001b[0mkw\u001b[0m\u001b[1;33m)\u001b[0m\u001b[1;33m\u001b[0m\u001b[1;33m\u001b[0m\u001b[0m\n\u001b[0m\u001b[0;32m    133\u001b[0m     \u001b[0mdata\u001b[0m \u001b[1;33m=\u001b[0m \u001b[0mbytes_io\u001b[0m\u001b[1;33m.\u001b[0m\u001b[0mgetvalue\u001b[0m\u001b[1;33m(\u001b[0m\u001b[1;33m)\u001b[0m\u001b[1;33m\u001b[0m\u001b[1;33m\u001b[0m\u001b[0m\n\u001b[0;32m    134\u001b[0m     \u001b[1;32mif\u001b[0m \u001b[0mfmt\u001b[0m \u001b[1;33m==\u001b[0m \u001b[1;34m'svg'\u001b[0m\u001b[1;33m:\u001b[0m\u001b[1;33m\u001b[0m\u001b[1;33m\u001b[0m\u001b[0m\n",
      "\u001b[1;32mc:\\users\\илья\\appdata\\local\\programs\\python\\python38\\lib\\site-packages\\matplotlib\\backend_bases.py\u001b[0m in \u001b[0;36mprint_figure\u001b[1;34m(self, filename, dpi, facecolor, edgecolor, orientation, format, bbox_inches, **kwargs)\u001b[0m\n\u001b[0;32m   2096\u001b[0m \u001b[1;33m\u001b[0m\u001b[0m\n\u001b[0;32m   2097\u001b[0m             \u001b[1;32mtry\u001b[0m\u001b[1;33m:\u001b[0m\u001b[1;33m\u001b[0m\u001b[1;33m\u001b[0m\u001b[0m\n\u001b[1;32m-> 2098\u001b[1;33m                 result = print_method(\n\u001b[0m\u001b[0;32m   2099\u001b[0m                     \u001b[0mfilename\u001b[0m\u001b[1;33m,\u001b[0m\u001b[1;33m\u001b[0m\u001b[1;33m\u001b[0m\u001b[0m\n\u001b[0;32m   2100\u001b[0m                     \u001b[0mdpi\u001b[0m\u001b[1;33m=\u001b[0m\u001b[0mdpi\u001b[0m\u001b[1;33m,\u001b[0m\u001b[1;33m\u001b[0m\u001b[1;33m\u001b[0m\u001b[0m\n",
      "\u001b[1;32mc:\\users\\илья\\appdata\\local\\programs\\python\\python38\\lib\\site-packages\\matplotlib\\backends\\backend_pdf.py\u001b[0m in \u001b[0;36mprint_pdf\u001b[1;34m(self, filename, dpi, bbox_inches_restore, metadata, **kwargs)\u001b[0m\n\u001b[0;32m   2549\u001b[0m             \u001b[0mrenderer\u001b[0m\u001b[1;33m.\u001b[0m\u001b[0mfinalize\u001b[0m\u001b[1;33m(\u001b[0m\u001b[1;33m)\u001b[0m\u001b[1;33m\u001b[0m\u001b[1;33m\u001b[0m\u001b[0m\n\u001b[0;32m   2550\u001b[0m             \u001b[1;32mif\u001b[0m \u001b[1;32mnot\u001b[0m \u001b[0misinstance\u001b[0m\u001b[1;33m(\u001b[0m\u001b[0mfilename\u001b[0m\u001b[1;33m,\u001b[0m \u001b[0mPdfPages\u001b[0m\u001b[1;33m)\u001b[0m\u001b[1;33m:\u001b[0m\u001b[1;33m\u001b[0m\u001b[1;33m\u001b[0m\u001b[0m\n\u001b[1;32m-> 2551\u001b[1;33m                 \u001b[0mfile\u001b[0m\u001b[1;33m.\u001b[0m\u001b[0mfinalize\u001b[0m\u001b[1;33m(\u001b[0m\u001b[1;33m)\u001b[0m\u001b[1;33m\u001b[0m\u001b[1;33m\u001b[0m\u001b[0m\n\u001b[0m\u001b[0;32m   2552\u001b[0m         \u001b[1;32mfinally\u001b[0m\u001b[1;33m:\u001b[0m\u001b[1;33m\u001b[0m\u001b[1;33m\u001b[0m\u001b[0m\n\u001b[0;32m   2553\u001b[0m             \u001b[1;32mif\u001b[0m \u001b[0misinstance\u001b[0m\u001b[1;33m(\u001b[0m\u001b[0mfilename\u001b[0m\u001b[1;33m,\u001b[0m \u001b[0mPdfPages\u001b[0m\u001b[1;33m)\u001b[0m\u001b[1;33m:\u001b[0m  \u001b[1;31m# finish off this page\u001b[0m\u001b[1;33m\u001b[0m\u001b[1;33m\u001b[0m\u001b[0m\n",
      "\u001b[1;32mc:\\users\\илья\\appdata\\local\\programs\\python\\python38\\lib\\site-packages\\matplotlib\\backends\\backend_pdf.py\u001b[0m in \u001b[0;36mfinalize\u001b[1;34m(self)\u001b[0m\n\u001b[0;32m    594\u001b[0m \u001b[1;33m\u001b[0m\u001b[0m\n\u001b[0;32m    595\u001b[0m         \u001b[0mself\u001b[0m\u001b[1;33m.\u001b[0m\u001b[0mendStream\u001b[0m\u001b[1;33m(\u001b[0m\u001b[1;33m)\u001b[0m\u001b[1;33m\u001b[0m\u001b[1;33m\u001b[0m\u001b[0m\n\u001b[1;32m--> 596\u001b[1;33m         \u001b[0mself\u001b[0m\u001b[1;33m.\u001b[0m\u001b[0mwriteFonts\u001b[0m\u001b[1;33m(\u001b[0m\u001b[1;33m)\u001b[0m\u001b[1;33m\u001b[0m\u001b[1;33m\u001b[0m\u001b[0m\n\u001b[0m\u001b[0;32m    597\u001b[0m         \u001b[0mself\u001b[0m\u001b[1;33m.\u001b[0m\u001b[0mwriteExtGSTates\u001b[0m\u001b[1;33m(\u001b[0m\u001b[1;33m)\u001b[0m\u001b[1;33m\u001b[0m\u001b[1;33m\u001b[0m\u001b[0m\n\u001b[0;32m    598\u001b[0m         \u001b[0mself\u001b[0m\u001b[1;33m.\u001b[0m\u001b[0m_write_soft_mask_groups\u001b[0m\u001b[1;33m(\u001b[0m\u001b[1;33m)\u001b[0m\u001b[1;33m\u001b[0m\u001b[1;33m\u001b[0m\u001b[0m\n",
      "\u001b[1;32mc:\\users\\илья\\appdata\\local\\programs\\python\\python38\\lib\\site-packages\\matplotlib\\backends\\backend_pdf.py\u001b[0m in \u001b[0;36mwriteFonts\u001b[1;34m(self)\u001b[0m\n\u001b[0;32m    728\u001b[0m                 \u001b[0mchars\u001b[0m \u001b[1;33m=\u001b[0m \u001b[0mself\u001b[0m\u001b[1;33m.\u001b[0m\u001b[0mused_characters\u001b[0m\u001b[1;33m.\u001b[0m\u001b[0mget\u001b[0m\u001b[1;33m(\u001b[0m\u001b[0mstat_key\u001b[0m\u001b[1;33m)\u001b[0m\u001b[1;33m\u001b[0m\u001b[1;33m\u001b[0m\u001b[0m\n\u001b[0;32m    729\u001b[0m                 \u001b[1;32mif\u001b[0m \u001b[0mchars\u001b[0m \u001b[1;32mis\u001b[0m \u001b[1;32mnot\u001b[0m \u001b[1;32mNone\u001b[0m \u001b[1;32mand\u001b[0m \u001b[0mlen\u001b[0m\u001b[1;33m(\u001b[0m\u001b[0mchars\u001b[0m\u001b[1;33m[\u001b[0m\u001b[1;36m1\u001b[0m\u001b[1;33m]\u001b[0m\u001b[1;33m)\u001b[0m\u001b[1;33m:\u001b[0m\u001b[1;33m\u001b[0m\u001b[1;33m\u001b[0m\u001b[0m\n\u001b[1;32m--> 730\u001b[1;33m                     \u001b[0mfonts\u001b[0m\u001b[1;33m[\u001b[0m\u001b[0mFx\u001b[0m\u001b[1;33m]\u001b[0m \u001b[1;33m=\u001b[0m \u001b[0mself\u001b[0m\u001b[1;33m.\u001b[0m\u001b[0membedTTF\u001b[0m\u001b[1;33m(\u001b[0m\u001b[0mrealpath\u001b[0m\u001b[1;33m,\u001b[0m \u001b[0mchars\u001b[0m\u001b[1;33m[\u001b[0m\u001b[1;36m1\u001b[0m\u001b[1;33m]\u001b[0m\u001b[1;33m)\u001b[0m\u001b[1;33m\u001b[0m\u001b[1;33m\u001b[0m\u001b[0m\n\u001b[0m\u001b[0;32m    731\u001b[0m         \u001b[0mself\u001b[0m\u001b[1;33m.\u001b[0m\u001b[0mwriteObject\u001b[0m\u001b[1;33m(\u001b[0m\u001b[0mself\u001b[0m\u001b[1;33m.\u001b[0m\u001b[0mfontObject\u001b[0m\u001b[1;33m,\u001b[0m \u001b[0mfonts\u001b[0m\u001b[1;33m)\u001b[0m\u001b[1;33m\u001b[0m\u001b[1;33m\u001b[0m\u001b[0m\n\u001b[0;32m    732\u001b[0m \u001b[1;33m\u001b[0m\u001b[0m\n",
      "\u001b[1;32mc:\\users\\илья\\appdata\\local\\programs\\python\\python38\\lib\\site-packages\\matplotlib\\backends\\backend_pdf.py\u001b[0m in \u001b[0;36membedTTF\u001b[1;34m(self, filename, characters)\u001b[0m\n\u001b[0;32m   1194\u001b[0m \u001b[1;33m\u001b[0m\u001b[0m\n\u001b[0;32m   1195\u001b[0m         \u001b[1;32mif\u001b[0m \u001b[0mfonttype\u001b[0m \u001b[1;33m==\u001b[0m \u001b[1;36m3\u001b[0m\u001b[1;33m:\u001b[0m\u001b[1;33m\u001b[0m\u001b[1;33m\u001b[0m\u001b[0m\n\u001b[1;32m-> 1196\u001b[1;33m             \u001b[1;32mreturn\u001b[0m \u001b[0membedTTFType3\u001b[0m\u001b[1;33m(\u001b[0m\u001b[0mfont\u001b[0m\u001b[1;33m,\u001b[0m \u001b[0mcharacters\u001b[0m\u001b[1;33m,\u001b[0m \u001b[0mdescriptor\u001b[0m\u001b[1;33m)\u001b[0m\u001b[1;33m\u001b[0m\u001b[1;33m\u001b[0m\u001b[0m\n\u001b[0m\u001b[0;32m   1197\u001b[0m         \u001b[1;32melif\u001b[0m \u001b[0mfonttype\u001b[0m \u001b[1;33m==\u001b[0m \u001b[1;36m42\u001b[0m\u001b[1;33m:\u001b[0m\u001b[1;33m\u001b[0m\u001b[1;33m\u001b[0m\u001b[0m\n\u001b[0;32m   1198\u001b[0m             \u001b[1;32mreturn\u001b[0m \u001b[0membedTTFType42\u001b[0m\u001b[1;33m(\u001b[0m\u001b[0mfont\u001b[0m\u001b[1;33m,\u001b[0m \u001b[0mcharacters\u001b[0m\u001b[1;33m,\u001b[0m \u001b[0mdescriptor\u001b[0m\u001b[1;33m)\u001b[0m\u001b[1;33m\u001b[0m\u001b[1;33m\u001b[0m\u001b[0m\n",
      "\u001b[1;32mc:\\users\\илья\\appdata\\local\\programs\\python\\python38\\lib\\site-packages\\matplotlib\\backends\\backend_pdf.py\u001b[0m in \u001b[0;36membedTTFType3\u001b[1;34m(font, characters, descriptor)\u001b[0m\n\u001b[0;32m    983\u001b[0m             \u001b[1;31m# actual outlines)\u001b[0m\u001b[1;33m\u001b[0m\u001b[1;33m\u001b[0m\u001b[1;33m\u001b[0m\u001b[0m\n\u001b[0;32m    984\u001b[0m             \u001b[1;32mtry\u001b[0m\u001b[1;33m:\u001b[0m\u001b[1;33m\u001b[0m\u001b[1;33m\u001b[0m\u001b[0m\n\u001b[1;32m--> 985\u001b[1;33m                 rawcharprocs = ttconv.get_pdf_charprocs(\n\u001b[0m\u001b[0;32m    986\u001b[0m                     os.fsencode(filename), glyph_ids)\n\u001b[0;32m    987\u001b[0m             \u001b[1;32mexcept\u001b[0m \u001b[0mRuntimeError\u001b[0m\u001b[1;33m:\u001b[0m\u001b[1;33m\u001b[0m\u001b[1;33m\u001b[0m\u001b[0m\n",
      "\u001b[1;31mRuntimeError\u001b[0m: Failed to open TrueType font"
     ]
    },
    {
     "data": {
      "image/svg+xml": [
       "<?xml version=\"1.0\" encoding=\"utf-8\" standalone=\"no\"?>\r\n",
       "<!DOCTYPE svg PUBLIC \"-//W3C//DTD SVG 1.1//EN\"\r\n",
       "  \"http://www.w3.org/Graphics/SVG/1.1/DTD/svg11.dtd\">\r\n",
       "<!-- Created with matplotlib (https://matplotlib.org/) -->\r\n",
       "<svg height=\"711.274375pt\" version=\"1.1\" viewBox=\"0 0 712.665625 711.274375\" width=\"712.665625pt\" xmlns=\"http://www.w3.org/2000/svg\" xmlns:xlink=\"http://www.w3.org/1999/xlink\">\r\n",
       " <defs>\r\n",
       "  <style type=\"text/css\">\r\n",
       "*{stroke-linecap:butt;stroke-linejoin:round;}\r\n",
       "  </style>\r\n",
       " </defs>\r\n",
       " <g id=\"figure_1\">\r\n",
       "  <g id=\"patch_1\">\r\n",
       "   <path d=\"M 0 711.274375 \r\n",
       "L 712.665625 711.274375 \r\n",
       "L 712.665625 0 \r\n",
       "L 0 0 \r\n",
       "z\r\n",
       "\" style=\"fill:none;\"/>\r\n",
       "  </g>\r\n",
       "  <g id=\"axes_1\">\r\n",
       "   <g id=\"patch_2\">\r\n",
       "    <path d=\"M 49.190625 319.118125 \r\n",
       "L 705.465625 319.118125 \r\n",
       "L 705.465625 22.318125 \r\n",
       "L 49.190625 22.318125 \r\n",
       "z\r\n",
       "\" style=\"fill:#ffffff;\"/>\r\n",
       "   </g>\r\n",
       "   <g id=\"matplotlib.axis_1\">\r\n",
       "    <g id=\"xtick_1\">\r\n",
       "     <g id=\"line2d_1\">\r\n",
       "      <path clip-path=\"url(#pddb4fe7396)\" d=\"M 121.636567 319.118125 \r\n",
       "L 121.636567 22.318125 \r\n",
       "\" style=\"fill:none;stroke:#b0b0b0;stroke-linecap:square;stroke-width:0.8;\"/>\r\n",
       "     </g>\r\n",
       "     <g id=\"line2d_2\">\r\n",
       "      <defs>\r\n",
       "       <path d=\"M 0 0 \r\n",
       "L 0 3.5 \r\n",
       "\" id=\"m3880eeb1f8\" style=\"stroke:#000000;stroke-width:0.8;\"/>\r\n",
       "      </defs>\r\n",
       "      <g>\r\n",
       "       <use style=\"stroke:#000000;stroke-width:0.8;\" x=\"121.636567\" xlink:href=\"#m3880eeb1f8\" y=\"319.118125\"/>\r\n",
       "      </g>\r\n",
       "     </g>\r\n",
       "     <g id=\"text_1\">\r\n",
       "      <!-- 2 -->\r\n",
       "      <defs>\r\n",
       "       <path d=\"M 19.1875 8.296875 \r\n",
       "L 53.609375 8.296875 \r\n",
       "L 53.609375 0 \r\n",
       "L 7.328125 0 \r\n",
       "L 7.328125 8.296875 \r\n",
       "Q 12.9375 14.109375 22.625 23.890625 \r\n",
       "Q 32.328125 33.6875 34.8125 36.53125 \r\n",
       "Q 39.546875 41.84375 41.421875 45.53125 \r\n",
       "Q 43.3125 49.21875 43.3125 52.78125 \r\n",
       "Q 43.3125 58.59375 39.234375 62.25 \r\n",
       "Q 35.15625 65.921875 28.609375 65.921875 \r\n",
       "Q 23.96875 65.921875 18.8125 64.3125 \r\n",
       "Q 13.671875 62.703125 7.8125 59.421875 \r\n",
       "L 7.8125 69.390625 \r\n",
       "Q 13.765625 71.78125 18.9375 73 \r\n",
       "Q 24.125 74.21875 28.421875 74.21875 \r\n",
       "Q 39.75 74.21875 46.484375 68.546875 \r\n",
       "Q 53.21875 62.890625 53.21875 53.421875 \r\n",
       "Q 53.21875 48.921875 51.53125 44.890625 \r\n",
       "Q 49.859375 40.875 45.40625 35.40625 \r\n",
       "Q 44.1875 33.984375 37.640625 27.21875 \r\n",
       "Q 31.109375 20.453125 19.1875 8.296875 \r\n",
       "z\r\n",
       "\" id=\"DejaVuSans-50\"/>\r\n",
       "      </defs>\r\n",
       "      <g transform=\"translate(118.455317 333.716562)scale(0.1 -0.1)\">\r\n",
       "       <use xlink:href=\"#DejaVuSans-50\"/>\r\n",
       "      </g>\r\n",
       "     </g>\r\n",
       "    </g>\r\n",
       "    <g id=\"xtick_2\">\r\n",
       "     <g id=\"line2d_3\">\r\n",
       "      <path clip-path=\"url(#pddb4fe7396)\" d=\"M 206.867086 319.118125 \r\n",
       "L 206.867086 22.318125 \r\n",
       "\" style=\"fill:none;stroke:#b0b0b0;stroke-linecap:square;stroke-width:0.8;\"/>\r\n",
       "     </g>\r\n",
       "     <g id=\"line2d_4\">\r\n",
       "      <g>\r\n",
       "       <use style=\"stroke:#000000;stroke-width:0.8;\" x=\"206.867086\" xlink:href=\"#m3880eeb1f8\" y=\"319.118125\"/>\r\n",
       "      </g>\r\n",
       "     </g>\r\n",
       "     <g id=\"text_2\">\r\n",
       "      <!-- 4 -->\r\n",
       "      <defs>\r\n",
       "       <path d=\"M 37.796875 64.3125 \r\n",
       "L 12.890625 25.390625 \r\n",
       "L 37.796875 25.390625 \r\n",
       "z\r\n",
       "M 35.203125 72.90625 \r\n",
       "L 47.609375 72.90625 \r\n",
       "L 47.609375 25.390625 \r\n",
       "L 58.015625 25.390625 \r\n",
       "L 58.015625 17.1875 \r\n",
       "L 47.609375 17.1875 \r\n",
       "L 47.609375 0 \r\n",
       "L 37.796875 0 \r\n",
       "L 37.796875 17.1875 \r\n",
       "L 4.890625 17.1875 \r\n",
       "L 4.890625 26.703125 \r\n",
       "z\r\n",
       "\" id=\"DejaVuSans-52\"/>\r\n",
       "      </defs>\r\n",
       "      <g transform=\"translate(203.685836 333.716562)scale(0.1 -0.1)\">\r\n",
       "       <use xlink:href=\"#DejaVuSans-52\"/>\r\n",
       "      </g>\r\n",
       "     </g>\r\n",
       "    </g>\r\n",
       "    <g id=\"xtick_3\">\r\n",
       "     <g id=\"line2d_5\">\r\n",
       "      <path clip-path=\"url(#pddb4fe7396)\" d=\"M 292.097606 319.118125 \r\n",
       "L 292.097606 22.318125 \r\n",
       "\" style=\"fill:none;stroke:#b0b0b0;stroke-linecap:square;stroke-width:0.8;\"/>\r\n",
       "     </g>\r\n",
       "     <g id=\"line2d_6\">\r\n",
       "      <g>\r\n",
       "       <use style=\"stroke:#000000;stroke-width:0.8;\" x=\"292.097606\" xlink:href=\"#m3880eeb1f8\" y=\"319.118125\"/>\r\n",
       "      </g>\r\n",
       "     </g>\r\n",
       "     <g id=\"text_3\">\r\n",
       "      <!-- 6 -->\r\n",
       "      <defs>\r\n",
       "       <path d=\"M 33.015625 40.375 \r\n",
       "Q 26.375 40.375 22.484375 35.828125 \r\n",
       "Q 18.609375 31.296875 18.609375 23.390625 \r\n",
       "Q 18.609375 15.53125 22.484375 10.953125 \r\n",
       "Q 26.375 6.390625 33.015625 6.390625 \r\n",
       "Q 39.65625 6.390625 43.53125 10.953125 \r\n",
       "Q 47.40625 15.53125 47.40625 23.390625 \r\n",
       "Q 47.40625 31.296875 43.53125 35.828125 \r\n",
       "Q 39.65625 40.375 33.015625 40.375 \r\n",
       "z\r\n",
       "M 52.59375 71.296875 \r\n",
       "L 52.59375 62.3125 \r\n",
       "Q 48.875 64.0625 45.09375 64.984375 \r\n",
       "Q 41.3125 65.921875 37.59375 65.921875 \r\n",
       "Q 27.828125 65.921875 22.671875 59.328125 \r\n",
       "Q 17.53125 52.734375 16.796875 39.40625 \r\n",
       "Q 19.671875 43.65625 24.015625 45.921875 \r\n",
       "Q 28.375 48.1875 33.59375 48.1875 \r\n",
       "Q 44.578125 48.1875 50.953125 41.515625 \r\n",
       "Q 57.328125 34.859375 57.328125 23.390625 \r\n",
       "Q 57.328125 12.15625 50.6875 5.359375 \r\n",
       "Q 44.046875 -1.421875 33.015625 -1.421875 \r\n",
       "Q 20.359375 -1.421875 13.671875 8.265625 \r\n",
       "Q 6.984375 17.96875 6.984375 36.375 \r\n",
       "Q 6.984375 53.65625 15.1875 63.9375 \r\n",
       "Q 23.390625 74.21875 37.203125 74.21875 \r\n",
       "Q 40.921875 74.21875 44.703125 73.484375 \r\n",
       "Q 48.484375 72.75 52.59375 71.296875 \r\n",
       "z\r\n",
       "\" id=\"DejaVuSans-54\"/>\r\n",
       "      </defs>\r\n",
       "      <g transform=\"translate(288.916356 333.716562)scale(0.1 -0.1)\">\r\n",
       "       <use xlink:href=\"#DejaVuSans-54\"/>\r\n",
       "      </g>\r\n",
       "     </g>\r\n",
       "    </g>\r\n",
       "    <g id=\"xtick_4\">\r\n",
       "     <g id=\"line2d_7\">\r\n",
       "      <path clip-path=\"url(#pddb4fe7396)\" d=\"M 377.328125 319.118125 \r\n",
       "L 377.328125 22.318125 \r\n",
       "\" style=\"fill:none;stroke:#b0b0b0;stroke-linecap:square;stroke-width:0.8;\"/>\r\n",
       "     </g>\r\n",
       "     <g id=\"line2d_8\">\r\n",
       "      <g>\r\n",
       "       <use style=\"stroke:#000000;stroke-width:0.8;\" x=\"377.328125\" xlink:href=\"#m3880eeb1f8\" y=\"319.118125\"/>\r\n",
       "      </g>\r\n",
       "     </g>\r\n",
       "     <g id=\"text_4\">\r\n",
       "      <!-- 8 -->\r\n",
       "      <defs>\r\n",
       "       <path d=\"M 31.78125 34.625 \r\n",
       "Q 24.75 34.625 20.71875 30.859375 \r\n",
       "Q 16.703125 27.09375 16.703125 20.515625 \r\n",
       "Q 16.703125 13.921875 20.71875 10.15625 \r\n",
       "Q 24.75 6.390625 31.78125 6.390625 \r\n",
       "Q 38.8125 6.390625 42.859375 10.171875 \r\n",
       "Q 46.921875 13.96875 46.921875 20.515625 \r\n",
       "Q 46.921875 27.09375 42.890625 30.859375 \r\n",
       "Q 38.875 34.625 31.78125 34.625 \r\n",
       "z\r\n",
       "M 21.921875 38.8125 \r\n",
       "Q 15.578125 40.375 12.03125 44.71875 \r\n",
       "Q 8.5 49.078125 8.5 55.328125 \r\n",
       "Q 8.5 64.0625 14.71875 69.140625 \r\n",
       "Q 20.953125 74.21875 31.78125 74.21875 \r\n",
       "Q 42.671875 74.21875 48.875 69.140625 \r\n",
       "Q 55.078125 64.0625 55.078125 55.328125 \r\n",
       "Q 55.078125 49.078125 51.53125 44.71875 \r\n",
       "Q 48 40.375 41.703125 38.8125 \r\n",
       "Q 48.828125 37.15625 52.796875 32.3125 \r\n",
       "Q 56.78125 27.484375 56.78125 20.515625 \r\n",
       "Q 56.78125 9.90625 50.3125 4.234375 \r\n",
       "Q 43.84375 -1.421875 31.78125 -1.421875 \r\n",
       "Q 19.734375 -1.421875 13.25 4.234375 \r\n",
       "Q 6.78125 9.90625 6.78125 20.515625 \r\n",
       "Q 6.78125 27.484375 10.78125 32.3125 \r\n",
       "Q 14.796875 37.15625 21.921875 38.8125 \r\n",
       "z\r\n",
       "M 18.3125 54.390625 \r\n",
       "Q 18.3125 48.734375 21.84375 45.5625 \r\n",
       "Q 25.390625 42.390625 31.78125 42.390625 \r\n",
       "Q 38.140625 42.390625 41.71875 45.5625 \r\n",
       "Q 45.3125 48.734375 45.3125 54.390625 \r\n",
       "Q 45.3125 60.0625 41.71875 63.234375 \r\n",
       "Q 38.140625 66.40625 31.78125 66.40625 \r\n",
       "Q 25.390625 66.40625 21.84375 63.234375 \r\n",
       "Q 18.3125 60.0625 18.3125 54.390625 \r\n",
       "z\r\n",
       "\" id=\"DejaVuSans-56\"/>\r\n",
       "      </defs>\r\n",
       "      <g transform=\"translate(374.146875 333.716562)scale(0.1 -0.1)\">\r\n",
       "       <use xlink:href=\"#DejaVuSans-56\"/>\r\n",
       "      </g>\r\n",
       "     </g>\r\n",
       "    </g>\r\n",
       "    <g id=\"xtick_5\">\r\n",
       "     <g id=\"line2d_9\">\r\n",
       "      <path clip-path=\"url(#pddb4fe7396)\" d=\"M 462.558644 319.118125 \r\n",
       "L 462.558644 22.318125 \r\n",
       "\" style=\"fill:none;stroke:#b0b0b0;stroke-linecap:square;stroke-width:0.8;\"/>\r\n",
       "     </g>\r\n",
       "     <g id=\"line2d_10\">\r\n",
       "      <g>\r\n",
       "       <use style=\"stroke:#000000;stroke-width:0.8;\" x=\"462.558644\" xlink:href=\"#m3880eeb1f8\" y=\"319.118125\"/>\r\n",
       "      </g>\r\n",
       "     </g>\r\n",
       "     <g id=\"text_5\">\r\n",
       "      <!-- 10 -->\r\n",
       "      <defs>\r\n",
       "       <path d=\"M 12.40625 8.296875 \r\n",
       "L 28.515625 8.296875 \r\n",
       "L 28.515625 63.921875 \r\n",
       "L 10.984375 60.40625 \r\n",
       "L 10.984375 69.390625 \r\n",
       "L 28.421875 72.90625 \r\n",
       "L 38.28125 72.90625 \r\n",
       "L 38.28125 8.296875 \r\n",
       "L 54.390625 8.296875 \r\n",
       "L 54.390625 0 \r\n",
       "L 12.40625 0 \r\n",
       "z\r\n",
       "\" id=\"DejaVuSans-49\"/>\r\n",
       "       <path d=\"M 31.78125 66.40625 \r\n",
       "Q 24.171875 66.40625 20.328125 58.90625 \r\n",
       "Q 16.5 51.421875 16.5 36.375 \r\n",
       "Q 16.5 21.390625 20.328125 13.890625 \r\n",
       "Q 24.171875 6.390625 31.78125 6.390625 \r\n",
       "Q 39.453125 6.390625 43.28125 13.890625 \r\n",
       "Q 47.125 21.390625 47.125 36.375 \r\n",
       "Q 47.125 51.421875 43.28125 58.90625 \r\n",
       "Q 39.453125 66.40625 31.78125 66.40625 \r\n",
       "z\r\n",
       "M 31.78125 74.21875 \r\n",
       "Q 44.046875 74.21875 50.515625 64.515625 \r\n",
       "Q 56.984375 54.828125 56.984375 36.375 \r\n",
       "Q 56.984375 17.96875 50.515625 8.265625 \r\n",
       "Q 44.046875 -1.421875 31.78125 -1.421875 \r\n",
       "Q 19.53125 -1.421875 13.0625 8.265625 \r\n",
       "Q 6.59375 17.96875 6.59375 36.375 \r\n",
       "Q 6.59375 54.828125 13.0625 64.515625 \r\n",
       "Q 19.53125 74.21875 31.78125 74.21875 \r\n",
       "z\r\n",
       "\" id=\"DejaVuSans-48\"/>\r\n",
       "      </defs>\r\n",
       "      <g transform=\"translate(456.196144 333.716562)scale(0.1 -0.1)\">\r\n",
       "       <use xlink:href=\"#DejaVuSans-49\"/>\r\n",
       "       <use x=\"63.623047\" xlink:href=\"#DejaVuSans-48\"/>\r\n",
       "      </g>\r\n",
       "     </g>\r\n",
       "    </g>\r\n",
       "    <g id=\"xtick_6\">\r\n",
       "     <g id=\"line2d_11\">\r\n",
       "      <path clip-path=\"url(#pddb4fe7396)\" d=\"M 547.789164 319.118125 \r\n",
       "L 547.789164 22.318125 \r\n",
       "\" style=\"fill:none;stroke:#b0b0b0;stroke-linecap:square;stroke-width:0.8;\"/>\r\n",
       "     </g>\r\n",
       "     <g id=\"line2d_12\">\r\n",
       "      <g>\r\n",
       "       <use style=\"stroke:#000000;stroke-width:0.8;\" x=\"547.789164\" xlink:href=\"#m3880eeb1f8\" y=\"319.118125\"/>\r\n",
       "      </g>\r\n",
       "     </g>\r\n",
       "     <g id=\"text_6\">\r\n",
       "      <!-- 12 -->\r\n",
       "      <g transform=\"translate(541.426664 333.716562)scale(0.1 -0.1)\">\r\n",
       "       <use xlink:href=\"#DejaVuSans-49\"/>\r\n",
       "       <use x=\"63.623047\" xlink:href=\"#DejaVuSans-50\"/>\r\n",
       "      </g>\r\n",
       "     </g>\r\n",
       "    </g>\r\n",
       "    <g id=\"xtick_7\">\r\n",
       "     <g id=\"line2d_13\">\r\n",
       "      <path clip-path=\"url(#pddb4fe7396)\" d=\"M 633.019683 319.118125 \r\n",
       "L 633.019683 22.318125 \r\n",
       "\" style=\"fill:none;stroke:#b0b0b0;stroke-linecap:square;stroke-width:0.8;\"/>\r\n",
       "     </g>\r\n",
       "     <g id=\"line2d_14\">\r\n",
       "      <g>\r\n",
       "       <use style=\"stroke:#000000;stroke-width:0.8;\" x=\"633.019683\" xlink:href=\"#m3880eeb1f8\" y=\"319.118125\"/>\r\n",
       "      </g>\r\n",
       "     </g>\r\n",
       "     <g id=\"text_7\">\r\n",
       "      <!-- 14 -->\r\n",
       "      <g transform=\"translate(626.657183 333.716562)scale(0.1 -0.1)\">\r\n",
       "       <use xlink:href=\"#DejaVuSans-49\"/>\r\n",
       "       <use x=\"63.623047\" xlink:href=\"#DejaVuSans-52\"/>\r\n",
       "      </g>\r\n",
       "     </g>\r\n",
       "    </g>\r\n",
       "    <g id=\"text_8\">\r\n",
       "     <!-- Epoch -->\r\n",
       "     <defs>\r\n",
       "      <path d=\"M 9.8125 72.90625 \r\n",
       "L 55.90625 72.90625 \r\n",
       "L 55.90625 64.59375 \r\n",
       "L 19.671875 64.59375 \r\n",
       "L 19.671875 43.015625 \r\n",
       "L 54.390625 43.015625 \r\n",
       "L 54.390625 34.71875 \r\n",
       "L 19.671875 34.71875 \r\n",
       "L 19.671875 8.296875 \r\n",
       "L 56.78125 8.296875 \r\n",
       "L 56.78125 0 \r\n",
       "L 9.8125 0 \r\n",
       "z\r\n",
       "\" id=\"DejaVuSans-69\"/>\r\n",
       "      <path d=\"M 18.109375 8.203125 \r\n",
       "L 18.109375 -20.796875 \r\n",
       "L 9.078125 -20.796875 \r\n",
       "L 9.078125 54.6875 \r\n",
       "L 18.109375 54.6875 \r\n",
       "L 18.109375 46.390625 \r\n",
       "Q 20.953125 51.265625 25.265625 53.625 \r\n",
       "Q 29.59375 56 35.59375 56 \r\n",
       "Q 45.5625 56 51.78125 48.09375 \r\n",
       "Q 58.015625 40.1875 58.015625 27.296875 \r\n",
       "Q 58.015625 14.40625 51.78125 6.484375 \r\n",
       "Q 45.5625 -1.421875 35.59375 -1.421875 \r\n",
       "Q 29.59375 -1.421875 25.265625 0.953125 \r\n",
       "Q 20.953125 3.328125 18.109375 8.203125 \r\n",
       "z\r\n",
       "M 48.6875 27.296875 \r\n",
       "Q 48.6875 37.203125 44.609375 42.84375 \r\n",
       "Q 40.53125 48.484375 33.40625 48.484375 \r\n",
       "Q 26.265625 48.484375 22.1875 42.84375 \r\n",
       "Q 18.109375 37.203125 18.109375 27.296875 \r\n",
       "Q 18.109375 17.390625 22.1875 11.75 \r\n",
       "Q 26.265625 6.109375 33.40625 6.109375 \r\n",
       "Q 40.53125 6.109375 44.609375 11.75 \r\n",
       "Q 48.6875 17.390625 48.6875 27.296875 \r\n",
       "z\r\n",
       "\" id=\"DejaVuSans-112\"/>\r\n",
       "      <path d=\"M 30.609375 48.390625 \r\n",
       "Q 23.390625 48.390625 19.1875 42.75 \r\n",
       "Q 14.984375 37.109375 14.984375 27.296875 \r\n",
       "Q 14.984375 17.484375 19.15625 11.84375 \r\n",
       "Q 23.34375 6.203125 30.609375 6.203125 \r\n",
       "Q 37.796875 6.203125 41.984375 11.859375 \r\n",
       "Q 46.1875 17.53125 46.1875 27.296875 \r\n",
       "Q 46.1875 37.015625 41.984375 42.703125 \r\n",
       "Q 37.796875 48.390625 30.609375 48.390625 \r\n",
       "z\r\n",
       "M 30.609375 56 \r\n",
       "Q 42.328125 56 49.015625 48.375 \r\n",
       "Q 55.71875 40.765625 55.71875 27.296875 \r\n",
       "Q 55.71875 13.875 49.015625 6.21875 \r\n",
       "Q 42.328125 -1.421875 30.609375 -1.421875 \r\n",
       "Q 18.84375 -1.421875 12.171875 6.21875 \r\n",
       "Q 5.515625 13.875 5.515625 27.296875 \r\n",
       "Q 5.515625 40.765625 12.171875 48.375 \r\n",
       "Q 18.84375 56 30.609375 56 \r\n",
       "z\r\n",
       "\" id=\"DejaVuSans-111\"/>\r\n",
       "      <path d=\"M 48.78125 52.59375 \r\n",
       "L 48.78125 44.1875 \r\n",
       "Q 44.96875 46.296875 41.140625 47.34375 \r\n",
       "Q 37.3125 48.390625 33.40625 48.390625 \r\n",
       "Q 24.65625 48.390625 19.8125 42.84375 \r\n",
       "Q 14.984375 37.3125 14.984375 27.296875 \r\n",
       "Q 14.984375 17.28125 19.8125 11.734375 \r\n",
       "Q 24.65625 6.203125 33.40625 6.203125 \r\n",
       "Q 37.3125 6.203125 41.140625 7.25 \r\n",
       "Q 44.96875 8.296875 48.78125 10.40625 \r\n",
       "L 48.78125 2.09375 \r\n",
       "Q 45.015625 0.34375 40.984375 -0.53125 \r\n",
       "Q 36.96875 -1.421875 32.421875 -1.421875 \r\n",
       "Q 20.0625 -1.421875 12.78125 6.34375 \r\n",
       "Q 5.515625 14.109375 5.515625 27.296875 \r\n",
       "Q 5.515625 40.671875 12.859375 48.328125 \r\n",
       "Q 20.21875 56 33.015625 56 \r\n",
       "Q 37.15625 56 41.109375 55.140625 \r\n",
       "Q 45.0625 54.296875 48.78125 52.59375 \r\n",
       "z\r\n",
       "\" id=\"DejaVuSans-99\"/>\r\n",
       "      <path d=\"M 54.890625 33.015625 \r\n",
       "L 54.890625 0 \r\n",
       "L 45.90625 0 \r\n",
       "L 45.90625 32.71875 \r\n",
       "Q 45.90625 40.484375 42.875 44.328125 \r\n",
       "Q 39.84375 48.1875 33.796875 48.1875 \r\n",
       "Q 26.515625 48.1875 22.3125 43.546875 \r\n",
       "Q 18.109375 38.921875 18.109375 30.90625 \r\n",
       "L 18.109375 0 \r\n",
       "L 9.078125 0 \r\n",
       "L 9.078125 75.984375 \r\n",
       "L 18.109375 75.984375 \r\n",
       "L 18.109375 46.1875 \r\n",
       "Q 21.34375 51.125 25.703125 53.5625 \r\n",
       "Q 30.078125 56 35.796875 56 \r\n",
       "Q 45.21875 56 50.046875 50.171875 \r\n",
       "Q 54.890625 44.34375 54.890625 33.015625 \r\n",
       "z\r\n",
       "\" id=\"DejaVuSans-104\"/>\r\n",
       "     </defs>\r\n",
       "     <g transform=\"translate(362.017187 347.394687)scale(0.1 -0.1)\">\r\n",
       "      <use xlink:href=\"#DejaVuSans-69\"/>\r\n",
       "      <use x=\"63.183594\" xlink:href=\"#DejaVuSans-112\"/>\r\n",
       "      <use x=\"126.660156\" xlink:href=\"#DejaVuSans-111\"/>\r\n",
       "      <use x=\"187.841797\" xlink:href=\"#DejaVuSans-99\"/>\r\n",
       "      <use x=\"242.822266\" xlink:href=\"#DejaVuSans-104\"/>\r\n",
       "     </g>\r\n",
       "    </g>\r\n",
       "   </g>\r\n",
       "   <g id=\"matplotlib.axis_2\">\r\n",
       "    <g id=\"ytick_1\">\r\n",
       "     <g id=\"line2d_15\">\r\n",
       "      <path clip-path=\"url(#pddb4fe7396)\" d=\"M 49.190625 295.214756 \r\n",
       "L 705.465625 295.214756 \r\n",
       "\" style=\"fill:none;stroke:#b0b0b0;stroke-linecap:square;stroke-width:0.8;\"/>\r\n",
       "     </g>\r\n",
       "     <g id=\"line2d_16\">\r\n",
       "      <defs>\r\n",
       "       <path d=\"M 0 0 \r\n",
       "L -3.5 0 \r\n",
       "\" id=\"mf6dc5f7b2f\" style=\"stroke:#000000;stroke-width:0.8;\"/>\r\n",
       "      </defs>\r\n",
       "      <g>\r\n",
       "       <use style=\"stroke:#000000;stroke-width:0.8;\" x=\"49.190625\" xlink:href=\"#mf6dc5f7b2f\" y=\"295.214756\"/>\r\n",
       "      </g>\r\n",
       "     </g>\r\n",
       "     <g id=\"text_9\">\r\n",
       "      <!-- 0.0125 -->\r\n",
       "      <defs>\r\n",
       "       <path d=\"M 10.6875 12.40625 \r\n",
       "L 21 12.40625 \r\n",
       "L 21 0 \r\n",
       "L 10.6875 0 \r\n",
       "z\r\n",
       "\" id=\"DejaVuSans-46\"/>\r\n",
       "       <path d=\"M 10.796875 72.90625 \r\n",
       "L 49.515625 72.90625 \r\n",
       "L 49.515625 64.59375 \r\n",
       "L 19.828125 64.59375 \r\n",
       "L 19.828125 46.734375 \r\n",
       "Q 21.96875 47.46875 24.109375 47.828125 \r\n",
       "Q 26.265625 48.1875 28.421875 48.1875 \r\n",
       "Q 40.625 48.1875 47.75 41.5 \r\n",
       "Q 54.890625 34.8125 54.890625 23.390625 \r\n",
       "Q 54.890625 11.625 47.5625 5.09375 \r\n",
       "Q 40.234375 -1.421875 26.90625 -1.421875 \r\n",
       "Q 22.3125 -1.421875 17.546875 -0.640625 \r\n",
       "Q 12.796875 0.140625 7.71875 1.703125 \r\n",
       "L 7.71875 11.625 \r\n",
       "Q 12.109375 9.234375 16.796875 8.0625 \r\n",
       "Q 21.484375 6.890625 26.703125 6.890625 \r\n",
       "Q 35.15625 6.890625 40.078125 11.328125 \r\n",
       "Q 45.015625 15.765625 45.015625 23.390625 \r\n",
       "Q 45.015625 31 40.078125 35.4375 \r\n",
       "Q 35.15625 39.890625 26.703125 39.890625 \r\n",
       "Q 22.75 39.890625 18.8125 39.015625 \r\n",
       "Q 14.890625 38.140625 10.796875 36.28125 \r\n",
       "z\r\n",
       "\" id=\"DejaVuSans-53\"/>\r\n",
       "      </defs>\r\n",
       "      <g transform=\"translate(7.2 299.013975)scale(0.1 -0.1)\">\r\n",
       "       <use xlink:href=\"#DejaVuSans-48\"/>\r\n",
       "       <use x=\"63.623047\" xlink:href=\"#DejaVuSans-46\"/>\r\n",
       "       <use x=\"95.410156\" xlink:href=\"#DejaVuSans-48\"/>\r\n",
       "       <use x=\"159.033203\" xlink:href=\"#DejaVuSans-49\"/>\r\n",
       "       <use x=\"222.65625\" xlink:href=\"#DejaVuSans-50\"/>\r\n",
       "       <use x=\"286.279297\" xlink:href=\"#DejaVuSans-53\"/>\r\n",
       "      </g>\r\n",
       "     </g>\r\n",
       "    </g>\r\n",
       "    <g id=\"ytick_2\">\r\n",
       "     <g id=\"line2d_17\">\r\n",
       "      <path clip-path=\"url(#pddb4fe7396)\" d=\"M 49.190625 261.217882 \r\n",
       "L 705.465625 261.217882 \r\n",
       "\" style=\"fill:none;stroke:#b0b0b0;stroke-linecap:square;stroke-width:0.8;\"/>\r\n",
       "     </g>\r\n",
       "     <g id=\"line2d_18\">\r\n",
       "      <g>\r\n",
       "       <use style=\"stroke:#000000;stroke-width:0.8;\" x=\"49.190625\" xlink:href=\"#mf6dc5f7b2f\" y=\"261.217882\"/>\r\n",
       "      </g>\r\n",
       "     </g>\r\n",
       "     <g id=\"text_10\">\r\n",
       "      <!-- 0.0150 -->\r\n",
       "      <g transform=\"translate(7.2 265.017101)scale(0.1 -0.1)\">\r\n",
       "       <use xlink:href=\"#DejaVuSans-48\"/>\r\n",
       "       <use x=\"63.623047\" xlink:href=\"#DejaVuSans-46\"/>\r\n",
       "       <use x=\"95.410156\" xlink:href=\"#DejaVuSans-48\"/>\r\n",
       "       <use x=\"159.033203\" xlink:href=\"#DejaVuSans-49\"/>\r\n",
       "       <use x=\"222.65625\" xlink:href=\"#DejaVuSans-53\"/>\r\n",
       "       <use x=\"286.279297\" xlink:href=\"#DejaVuSans-48\"/>\r\n",
       "      </g>\r\n",
       "     </g>\r\n",
       "    </g>\r\n",
       "    <g id=\"ytick_3\">\r\n",
       "     <g id=\"line2d_19\">\r\n",
       "      <path clip-path=\"url(#pddb4fe7396)\" d=\"M 49.190625 227.221008 \r\n",
       "L 705.465625 227.221008 \r\n",
       "\" style=\"fill:none;stroke:#b0b0b0;stroke-linecap:square;stroke-width:0.8;\"/>\r\n",
       "     </g>\r\n",
       "     <g id=\"line2d_20\">\r\n",
       "      <g>\r\n",
       "       <use style=\"stroke:#000000;stroke-width:0.8;\" x=\"49.190625\" xlink:href=\"#mf6dc5f7b2f\" y=\"227.221008\"/>\r\n",
       "      </g>\r\n",
       "     </g>\r\n",
       "     <g id=\"text_11\">\r\n",
       "      <!-- 0.0175 -->\r\n",
       "      <defs>\r\n",
       "       <path d=\"M 8.203125 72.90625 \r\n",
       "L 55.078125 72.90625 \r\n",
       "L 55.078125 68.703125 \r\n",
       "L 28.609375 0 \r\n",
       "L 18.3125 0 \r\n",
       "L 43.21875 64.59375 \r\n",
       "L 8.203125 64.59375 \r\n",
       "z\r\n",
       "\" id=\"DejaVuSans-55\"/>\r\n",
       "      </defs>\r\n",
       "      <g transform=\"translate(7.2 231.020227)scale(0.1 -0.1)\">\r\n",
       "       <use xlink:href=\"#DejaVuSans-48\"/>\r\n",
       "       <use x=\"63.623047\" xlink:href=\"#DejaVuSans-46\"/>\r\n",
       "       <use x=\"95.410156\" xlink:href=\"#DejaVuSans-48\"/>\r\n",
       "       <use x=\"159.033203\" xlink:href=\"#DejaVuSans-49\"/>\r\n",
       "       <use x=\"222.65625\" xlink:href=\"#DejaVuSans-55\"/>\r\n",
       "       <use x=\"286.279297\" xlink:href=\"#DejaVuSans-53\"/>\r\n",
       "      </g>\r\n",
       "     </g>\r\n",
       "    </g>\r\n",
       "    <g id=\"ytick_4\">\r\n",
       "     <g id=\"line2d_21\">\r\n",
       "      <path clip-path=\"url(#pddb4fe7396)\" d=\"M 49.190625 193.224135 \r\n",
       "L 705.465625 193.224135 \r\n",
       "\" style=\"fill:none;stroke:#b0b0b0;stroke-linecap:square;stroke-width:0.8;\"/>\r\n",
       "     </g>\r\n",
       "     <g id=\"line2d_22\">\r\n",
       "      <g>\r\n",
       "       <use style=\"stroke:#000000;stroke-width:0.8;\" x=\"49.190625\" xlink:href=\"#mf6dc5f7b2f\" y=\"193.224135\"/>\r\n",
       "      </g>\r\n",
       "     </g>\r\n",
       "     <g id=\"text_12\">\r\n",
       "      <!-- 0.0200 -->\r\n",
       "      <g transform=\"translate(7.2 197.023353)scale(0.1 -0.1)\">\r\n",
       "       <use xlink:href=\"#DejaVuSans-48\"/>\r\n",
       "       <use x=\"63.623047\" xlink:href=\"#DejaVuSans-46\"/>\r\n",
       "       <use x=\"95.410156\" xlink:href=\"#DejaVuSans-48\"/>\r\n",
       "       <use x=\"159.033203\" xlink:href=\"#DejaVuSans-50\"/>\r\n",
       "       <use x=\"222.65625\" xlink:href=\"#DejaVuSans-48\"/>\r\n",
       "       <use x=\"286.279297\" xlink:href=\"#DejaVuSans-48\"/>\r\n",
       "      </g>\r\n",
       "     </g>\r\n",
       "    </g>\r\n",
       "    <g id=\"ytick_5\">\r\n",
       "     <g id=\"line2d_23\">\r\n",
       "      <path clip-path=\"url(#pddb4fe7396)\" d=\"M 49.190625 159.227261 \r\n",
       "L 705.465625 159.227261 \r\n",
       "\" style=\"fill:none;stroke:#b0b0b0;stroke-linecap:square;stroke-width:0.8;\"/>\r\n",
       "     </g>\r\n",
       "     <g id=\"line2d_24\">\r\n",
       "      <g>\r\n",
       "       <use style=\"stroke:#000000;stroke-width:0.8;\" x=\"49.190625\" xlink:href=\"#mf6dc5f7b2f\" y=\"159.227261\"/>\r\n",
       "      </g>\r\n",
       "     </g>\r\n",
       "     <g id=\"text_13\">\r\n",
       "      <!-- 0.0225 -->\r\n",
       "      <g transform=\"translate(7.2 163.02648)scale(0.1 -0.1)\">\r\n",
       "       <use xlink:href=\"#DejaVuSans-48\"/>\r\n",
       "       <use x=\"63.623047\" xlink:href=\"#DejaVuSans-46\"/>\r\n",
       "       <use x=\"95.410156\" xlink:href=\"#DejaVuSans-48\"/>\r\n",
       "       <use x=\"159.033203\" xlink:href=\"#DejaVuSans-50\"/>\r\n",
       "       <use x=\"222.65625\" xlink:href=\"#DejaVuSans-50\"/>\r\n",
       "       <use x=\"286.279297\" xlink:href=\"#DejaVuSans-53\"/>\r\n",
       "      </g>\r\n",
       "     </g>\r\n",
       "    </g>\r\n",
       "    <g id=\"ytick_6\">\r\n",
       "     <g id=\"line2d_25\">\r\n",
       "      <path clip-path=\"url(#pddb4fe7396)\" d=\"M 49.190625 125.230387 \r\n",
       "L 705.465625 125.230387 \r\n",
       "\" style=\"fill:none;stroke:#b0b0b0;stroke-linecap:square;stroke-width:0.8;\"/>\r\n",
       "     </g>\r\n",
       "     <g id=\"line2d_26\">\r\n",
       "      <g>\r\n",
       "       <use style=\"stroke:#000000;stroke-width:0.8;\" x=\"49.190625\" xlink:href=\"#mf6dc5f7b2f\" y=\"125.230387\"/>\r\n",
       "      </g>\r\n",
       "     </g>\r\n",
       "     <g id=\"text_14\">\r\n",
       "      <!-- 0.0250 -->\r\n",
       "      <g transform=\"translate(7.2 129.029606)scale(0.1 -0.1)\">\r\n",
       "       <use xlink:href=\"#DejaVuSans-48\"/>\r\n",
       "       <use x=\"63.623047\" xlink:href=\"#DejaVuSans-46\"/>\r\n",
       "       <use x=\"95.410156\" xlink:href=\"#DejaVuSans-48\"/>\r\n",
       "       <use x=\"159.033203\" xlink:href=\"#DejaVuSans-50\"/>\r\n",
       "       <use x=\"222.65625\" xlink:href=\"#DejaVuSans-53\"/>\r\n",
       "       <use x=\"286.279297\" xlink:href=\"#DejaVuSans-48\"/>\r\n",
       "      </g>\r\n",
       "     </g>\r\n",
       "    </g>\r\n",
       "    <g id=\"ytick_7\">\r\n",
       "     <g id=\"line2d_27\">\r\n",
       "      <path clip-path=\"url(#pddb4fe7396)\" d=\"M 49.190625 91.233513 \r\n",
       "L 705.465625 91.233513 \r\n",
       "\" style=\"fill:none;stroke:#b0b0b0;stroke-linecap:square;stroke-width:0.8;\"/>\r\n",
       "     </g>\r\n",
       "     <g id=\"line2d_28\">\r\n",
       "      <g>\r\n",
       "       <use style=\"stroke:#000000;stroke-width:0.8;\" x=\"49.190625\" xlink:href=\"#mf6dc5f7b2f\" y=\"91.233513\"/>\r\n",
       "      </g>\r\n",
       "     </g>\r\n",
       "     <g id=\"text_15\">\r\n",
       "      <!-- 0.0275 -->\r\n",
       "      <g transform=\"translate(7.2 95.032732)scale(0.1 -0.1)\">\r\n",
       "       <use xlink:href=\"#DejaVuSans-48\"/>\r\n",
       "       <use x=\"63.623047\" xlink:href=\"#DejaVuSans-46\"/>\r\n",
       "       <use x=\"95.410156\" xlink:href=\"#DejaVuSans-48\"/>\r\n",
       "       <use x=\"159.033203\" xlink:href=\"#DejaVuSans-50\"/>\r\n",
       "       <use x=\"222.65625\" xlink:href=\"#DejaVuSans-55\"/>\r\n",
       "       <use x=\"286.279297\" xlink:href=\"#DejaVuSans-53\"/>\r\n",
       "      </g>\r\n",
       "     </g>\r\n",
       "    </g>\r\n",
       "    <g id=\"ytick_8\">\r\n",
       "     <g id=\"line2d_29\">\r\n",
       "      <path clip-path=\"url(#pddb4fe7396)\" d=\"M 49.190625 57.23664 \r\n",
       "L 705.465625 57.23664 \r\n",
       "\" style=\"fill:none;stroke:#b0b0b0;stroke-linecap:square;stroke-width:0.8;\"/>\r\n",
       "     </g>\r\n",
       "     <g id=\"line2d_30\">\r\n",
       "      <g>\r\n",
       "       <use style=\"stroke:#000000;stroke-width:0.8;\" x=\"49.190625\" xlink:href=\"#mf6dc5f7b2f\" y=\"57.23664\"/>\r\n",
       "      </g>\r\n",
       "     </g>\r\n",
       "     <g id=\"text_16\">\r\n",
       "      <!-- 0.0300 -->\r\n",
       "      <defs>\r\n",
       "       <path d=\"M 40.578125 39.3125 \r\n",
       "Q 47.65625 37.796875 51.625 33 \r\n",
       "Q 55.609375 28.21875 55.609375 21.1875 \r\n",
       "Q 55.609375 10.40625 48.1875 4.484375 \r\n",
       "Q 40.765625 -1.421875 27.09375 -1.421875 \r\n",
       "Q 22.515625 -1.421875 17.65625 -0.515625 \r\n",
       "Q 12.796875 0.390625 7.625 2.203125 \r\n",
       "L 7.625 11.71875 \r\n",
       "Q 11.71875 9.328125 16.59375 8.109375 \r\n",
       "Q 21.484375 6.890625 26.8125 6.890625 \r\n",
       "Q 36.078125 6.890625 40.9375 10.546875 \r\n",
       "Q 45.796875 14.203125 45.796875 21.1875 \r\n",
       "Q 45.796875 27.640625 41.28125 31.265625 \r\n",
       "Q 36.765625 34.90625 28.71875 34.90625 \r\n",
       "L 20.21875 34.90625 \r\n",
       "L 20.21875 43.015625 \r\n",
       "L 29.109375 43.015625 \r\n",
       "Q 36.375 43.015625 40.234375 45.921875 \r\n",
       "Q 44.09375 48.828125 44.09375 54.296875 \r\n",
       "Q 44.09375 59.90625 40.109375 62.90625 \r\n",
       "Q 36.140625 65.921875 28.71875 65.921875 \r\n",
       "Q 24.65625 65.921875 20.015625 65.03125 \r\n",
       "Q 15.375 64.15625 9.8125 62.3125 \r\n",
       "L 9.8125 71.09375 \r\n",
       "Q 15.4375 72.65625 20.34375 73.4375 \r\n",
       "Q 25.25 74.21875 29.59375 74.21875 \r\n",
       "Q 40.828125 74.21875 47.359375 69.109375 \r\n",
       "Q 53.90625 64.015625 53.90625 55.328125 \r\n",
       "Q 53.90625 49.265625 50.4375 45.09375 \r\n",
       "Q 46.96875 40.921875 40.578125 39.3125 \r\n",
       "z\r\n",
       "\" id=\"DejaVuSans-51\"/>\r\n",
       "      </defs>\r\n",
       "      <g transform=\"translate(7.2 61.035858)scale(0.1 -0.1)\">\r\n",
       "       <use xlink:href=\"#DejaVuSans-48\"/>\r\n",
       "       <use x=\"63.623047\" xlink:href=\"#DejaVuSans-46\"/>\r\n",
       "       <use x=\"95.410156\" xlink:href=\"#DejaVuSans-48\"/>\r\n",
       "       <use x=\"159.033203\" xlink:href=\"#DejaVuSans-51\"/>\r\n",
       "       <use x=\"222.65625\" xlink:href=\"#DejaVuSans-48\"/>\r\n",
       "       <use x=\"286.279297\" xlink:href=\"#DejaVuSans-48\"/>\r\n",
       "      </g>\r\n",
       "     </g>\r\n",
       "    </g>\r\n",
       "    <g id=\"ytick_9\">\r\n",
       "     <g id=\"line2d_31\">\r\n",
       "      <path clip-path=\"url(#pddb4fe7396)\" d=\"M 49.190625 23.239766 \r\n",
       "L 705.465625 23.239766 \r\n",
       "\" style=\"fill:none;stroke:#b0b0b0;stroke-linecap:square;stroke-width:0.8;\"/>\r\n",
       "     </g>\r\n",
       "     <g id=\"line2d_32\">\r\n",
       "      <g>\r\n",
       "       <use style=\"stroke:#000000;stroke-width:0.8;\" x=\"49.190625\" xlink:href=\"#mf6dc5f7b2f\" y=\"23.239766\"/>\r\n",
       "      </g>\r\n",
       "     </g>\r\n",
       "     <g id=\"text_17\">\r\n",
       "      <!-- 0.0325 -->\r\n",
       "      <g transform=\"translate(7.2 27.038985)scale(0.1 -0.1)\">\r\n",
       "       <use xlink:href=\"#DejaVuSans-48\"/>\r\n",
       "       <use x=\"63.623047\" xlink:href=\"#DejaVuSans-46\"/>\r\n",
       "       <use x=\"95.410156\" xlink:href=\"#DejaVuSans-48\"/>\r\n",
       "       <use x=\"159.033203\" xlink:href=\"#DejaVuSans-51\"/>\r\n",
       "       <use x=\"222.65625\" xlink:href=\"#DejaVuSans-50\"/>\r\n",
       "       <use x=\"286.279297\" xlink:href=\"#DejaVuSans-53\"/>\r\n",
       "      </g>\r\n",
       "     </g>\r\n",
       "    </g>\r\n",
       "   </g>\r\n",
       "   <g id=\"line2d_33\">\r\n",
       "    <path clip-path=\"url(#pddb4fe7396)\" d=\"M 79.021307 40.148927 \r\n",
       "L 121.636567 101.089762 \r\n",
       "L 164.251826 127.763836 \r\n",
       "L 206.867086 146.270261 \r\n",
       "L 249.482346 159.374113 \r\n",
       "L 292.097606 171.211793 \r\n",
       "L 334.712865 181.980655 \r\n",
       "L 377.328125 197.782188 \r\n",
       "L 419.943385 207.448476 \r\n",
       "L 462.558644 221.849584 \r\n",
       "L 505.173904 236.614461 \r\n",
       "L 547.789164 252.499507 \r\n",
       "L 590.404424 269.698039 \r\n",
       "L 633.019683 285.529746 \r\n",
       "L 675.634943 305.627216 \r\n",
       "\" style=\"fill:none;stroke:#0000ff;stroke-linecap:square;stroke-width:1.5;\"/>\r\n",
       "   </g>\r\n",
       "   <g id=\"line2d_34\">\r\n",
       "    <path clip-path=\"url(#pddb4fe7396)\" d=\"M 79.021307 39.770717 \r\n",
       "L 121.636567 96.145806 \r\n",
       "L 164.251826 117.268901 \r\n",
       "L 206.867086 128.661945 \r\n",
       "L 249.482346 134.258594 \r\n",
       "L 292.097606 134.645727 \r\n",
       "L 334.712865 135.044236 \r\n",
       "L 377.328125 133.041701 \r\n",
       "L 419.943385 126.99721 \r\n",
       "L 462.558644 119.971599 \r\n",
       "L 505.173904 116.178514 \r\n",
       "L 547.789164 97.497744 \r\n",
       "L 590.404424 81.417606 \r\n",
       "L 633.019683 60.170219 \r\n",
       "L 675.634943 38.437263 \r\n",
       "\" style=\"fill:none;stroke:#0000ff;stroke-dasharray:5.55,2.4;stroke-dashoffset:0;stroke-width:1.5;\"/>\r\n",
       "   </g>\r\n",
       "   <g id=\"line2d_35\">\r\n",
       "    <path clip-path=\"url(#pddb4fe7396)\" d=\"M 79.021307 62.874944 \r\n",
       "L 121.636567 108.563564 \r\n",
       "L 164.251826 129.101069 \r\n",
       "L 206.867086 147.776763 \r\n",
       "L 249.482346 159.036477 \r\n",
       "L 292.097606 172.820673 \r\n",
       "L 334.712865 181.305192 \r\n",
       "L 377.328125 195.517627 \r\n",
       "L 419.943385 205.398594 \r\n",
       "L 462.558644 220.31131 \r\n",
       "L 505.173904 234.293523 \r\n",
       "L 547.789164 249.967848 \r\n",
       "L 590.404424 263.749455 \r\n",
       "L 633.019683 282.673491 \r\n",
       "L 675.634943 301.070092 \r\n",
       "\" style=\"fill:none;stroke:#ff0000;stroke-linecap:square;stroke-width:1.5;\"/>\r\n",
       "   </g>\r\n",
       "   <g id=\"line2d_36\">\r\n",
       "    <path clip-path=\"url(#pddb4fe7396)\" d=\"M 79.021307 60.915295 \r\n",
       "L 121.636567 100.939079 \r\n",
       "L 164.251826 113.786463 \r\n",
       "L 206.867086 127.080489 \r\n",
       "L 249.482346 131.733007 \r\n",
       "L 292.097606 132.941089 \r\n",
       "L 334.712865 130.924967 \r\n",
       "L 377.328125 129.865252 \r\n",
       "L 419.943385 127.991793 \r\n",
       "L 462.558644 117.438537 \r\n",
       "L 505.173904 107.453631 \r\n",
       "L 547.789164 100.829062 \r\n",
       "L 590.404424 80.427446 \r\n",
       "L 633.019683 65.563984 \r\n",
       "L 675.634943 43.87876 \r\n",
       "\" style=\"fill:none;stroke:#ff0000;stroke-dasharray:5.55,2.4;stroke-dashoffset:0;stroke-width:1.5;\"/>\r\n",
       "   </g>\r\n",
       "   <g id=\"line2d_37\">\r\n",
       "    <path clip-path=\"url(#pddb4fe7396)\" d=\"M 79.021307 36.454461 \r\n",
       "L 121.636567 59.112846 \r\n",
       "L 164.251826 91.237057 \r\n",
       "L 206.867086 108.069802 \r\n",
       "L 249.482346 120.423599 \r\n",
       "L 292.097606 130.651148 \r\n",
       "L 334.712865 135.049395 \r\n",
       "L 377.328125 145.321714 \r\n",
       "L 419.943385 150.241848 \r\n",
       "L 462.558644 154.914507 \r\n",
       "L 505.173904 160.848498 \r\n",
       "L 547.789164 165.163592 \r\n",
       "L 590.404424 169.858201 \r\n",
       "L 633.019683 174.700733 \r\n",
       "L 675.634943 176.912795 \r\n",
       "\" style=\"fill:none;stroke:#ffa500;stroke-linecap:square;stroke-width:1.5;\"/>\r\n",
       "   </g>\r\n",
       "   <g id=\"line2d_38\">\r\n",
       "    <path clip-path=\"url(#pddb4fe7396)\" d=\"M 79.021307 35.809034 \r\n",
       "L 121.636567 55.938285 \r\n",
       "L 164.251826 87.038625 \r\n",
       "L 206.867086 102.186744 \r\n",
       "L 249.482346 111.489916 \r\n",
       "L 292.097606 115.857984 \r\n",
       "L 334.712865 119.015821 \r\n",
       "L 377.328125 126.933307 \r\n",
       "L 419.943385 128.673314 \r\n",
       "L 462.558644 131.071105 \r\n",
       "L 505.173904 131.958478 \r\n",
       "L 547.789164 130.853767 \r\n",
       "L 590.404424 133.991535 \r\n",
       "L 633.019683 135.033961 \r\n",
       "L 675.634943 133.423953 \r\n",
       "\" style=\"fill:none;stroke:#ffa500;stroke-dasharray:5.55,2.4;stroke-dashoffset:0;stroke-width:1.5;\"/>\r\n",
       "   </g>\r\n",
       "   <g id=\"line2d_39\">\r\n",
       "    <path clip-path=\"url(#pddb4fe7396)\" d=\"M 79.021307 41.799445 \r\n",
       "L 121.636567 93.530543 \r\n",
       "L 164.251826 124.522332 \r\n",
       "L 206.867086 140.520694 \r\n",
       "L 249.482346 157.424238 \r\n",
       "L 292.097606 168.761211 \r\n",
       "L 334.712865 177.107653 \r\n",
       "L 377.328125 189.463131 \r\n",
       "L 419.943385 202.938242 \r\n",
       "L 462.558644 215.938825 \r\n",
       "L 505.173904 229.1797 \r\n",
       "L 547.789164 241.257441 \r\n",
       "L 590.404424 258.057248 \r\n",
       "L 633.019683 272.878882 \r\n",
       "L 675.634943 290.578777 \r\n",
       "\" style=\"fill:none;stroke:#000000;stroke-linecap:square;stroke-width:1.5;\"/>\r\n",
       "   </g>\r\n",
       "   <g id=\"line2d_40\">\r\n",
       "    <path clip-path=\"url(#pddb4fe7396)\" d=\"M 79.021307 40.955045 \r\n",
       "L 121.636567 87.114868 \r\n",
       "L 164.251826 111.996653 \r\n",
       "L 206.867086 122.817023 \r\n",
       "L 249.482346 132.288687 \r\n",
       "L 292.097606 135.405265 \r\n",
       "L 334.712865 131.689847 \r\n",
       "L 377.328125 135.016045 \r\n",
       "L 419.943385 131.102007 \r\n",
       "L 462.558644 122.355835 \r\n",
       "L 505.173904 112.581823 \r\n",
       "L 547.789164 98.33068 \r\n",
       "L 590.404424 89.624868 \r\n",
       "L 633.019683 73.313467 \r\n",
       "L 675.634943 58.694722 \r\n",
       "\" style=\"fill:none;stroke:#000000;stroke-dasharray:5.55,2.4;stroke-dashoffset:0;stroke-width:1.5;\"/>\r\n",
       "   </g>\r\n",
       "   <g id=\"line2d_41\">\r\n",
       "    <path clip-path=\"url(#pddb4fe7396)\" d=\"M 79.021307 38.725182 \r\n",
       "L 121.636567 69.92703 \r\n",
       "L 164.251826 89.186718 \r\n",
       "L 206.867086 111.906532 \r\n",
       "L 249.482346 121.577499 \r\n",
       "L 292.097606 133.373464 \r\n",
       "L 334.712865 137.450259 \r\n",
       "L 377.328125 144.984991 \r\n",
       "L 419.943385 151.995362 \r\n",
       "L 462.558644 156.549058 \r\n",
       "L 505.173904 158.994734 \r\n",
       "L 547.789164 164.838816 \r\n",
       "L 590.404424 170.291811 \r\n",
       "L 633.019683 171.590339 \r\n",
       "L 675.634943 177.708927 \r\n",
       "\" style=\"fill:none;stroke:#008000;stroke-linecap:square;stroke-width:1.5;\"/>\r\n",
       "   </g>\r\n",
       "   <g id=\"line2d_42\">\r\n",
       "    <path clip-path=\"url(#pddb4fe7396)\" d=\"M 79.021307 38.031428 \r\n",
       "L 121.636567 65.26774 \r\n",
       "L 164.251826 83.47355 \r\n",
       "L 206.867086 101.200262 \r\n",
       "L 249.482346 109.504516 \r\n",
       "L 292.097606 118.692245 \r\n",
       "L 334.712865 121.868671 \r\n",
       "L 377.328125 126.194401 \r\n",
       "L 419.943385 129.406397 \r\n",
       "L 462.558644 131.491673 \r\n",
       "L 505.173904 130.082754 \r\n",
       "L 547.789164 132.449807 \r\n",
       "L 590.404424 132.856019 \r\n",
       "L 633.019683 130.786801 \r\n",
       "L 675.634943 132.606799 \r\n",
       "\" style=\"fill:none;stroke:#008000;stroke-dasharray:5.55,2.4;stroke-dashoffset:0;stroke-width:1.5;\"/>\r\n",
       "   </g>\r\n",
       "   <g id=\"patch_3\">\r\n",
       "    <path d=\"M 49.190625 319.118125 \r\n",
       "L 49.190625 22.318125 \r\n",
       "\" style=\"fill:none;stroke:#000000;stroke-linecap:square;stroke-linejoin:miter;stroke-width:0.8;\"/>\r\n",
       "   </g>\r\n",
       "   <g id=\"patch_4\">\r\n",
       "    <path d=\"M 705.465625 319.118125 \r\n",
       "L 705.465625 22.318125 \r\n",
       "\" style=\"fill:none;stroke:#000000;stroke-linecap:square;stroke-linejoin:miter;stroke-width:0.8;\"/>\r\n",
       "   </g>\r\n",
       "   <g id=\"patch_5\">\r\n",
       "    <path d=\"M 49.190625 319.118125 \r\n",
       "L 705.465625 319.118125 \r\n",
       "\" style=\"fill:none;stroke:#000000;stroke-linecap:square;stroke-linejoin:miter;stroke-width:0.8;\"/>\r\n",
       "   </g>\r\n",
       "   <g id=\"patch_6\">\r\n",
       "    <path d=\"M 49.190625 22.318125 \r\n",
       "L 705.465625 22.318125 \r\n",
       "\" style=\"fill:none;stroke:#000000;stroke-linecap:square;stroke-linejoin:miter;stroke-width:0.8;\"/>\r\n",
       "   </g>\r\n",
       "   <g id=\"text_18\">\r\n",
       "    <!-- CrossEntropy Loss -->\r\n",
       "    <defs>\r\n",
       "     <path d=\"M 64.40625 67.28125 \r\n",
       "L 64.40625 56.890625 \r\n",
       "Q 59.421875 61.53125 53.78125 63.8125 \r\n",
       "Q 48.140625 66.109375 41.796875 66.109375 \r\n",
       "Q 29.296875 66.109375 22.65625 58.46875 \r\n",
       "Q 16.015625 50.828125 16.015625 36.375 \r\n",
       "Q 16.015625 21.96875 22.65625 14.328125 \r\n",
       "Q 29.296875 6.6875 41.796875 6.6875 \r\n",
       "Q 48.140625 6.6875 53.78125 8.984375 \r\n",
       "Q 59.421875 11.28125 64.40625 15.921875 \r\n",
       "L 64.40625 5.609375 \r\n",
       "Q 59.234375 2.09375 53.4375 0.328125 \r\n",
       "Q 47.65625 -1.421875 41.21875 -1.421875 \r\n",
       "Q 24.65625 -1.421875 15.125 8.703125 \r\n",
       "Q 5.609375 18.84375 5.609375 36.375 \r\n",
       "Q 5.609375 53.953125 15.125 64.078125 \r\n",
       "Q 24.65625 74.21875 41.21875 74.21875 \r\n",
       "Q 47.75 74.21875 53.53125 72.484375 \r\n",
       "Q 59.328125 70.75 64.40625 67.28125 \r\n",
       "z\r\n",
       "\" id=\"DejaVuSans-67\"/>\r\n",
       "     <path d=\"M 41.109375 46.296875 \r\n",
       "Q 39.59375 47.171875 37.8125 47.578125 \r\n",
       "Q 36.03125 48 33.890625 48 \r\n",
       "Q 26.265625 48 22.1875 43.046875 \r\n",
       "Q 18.109375 38.09375 18.109375 28.8125 \r\n",
       "L 18.109375 0 \r\n",
       "L 9.078125 0 \r\n",
       "L 9.078125 54.6875 \r\n",
       "L 18.109375 54.6875 \r\n",
       "L 18.109375 46.1875 \r\n",
       "Q 20.953125 51.171875 25.484375 53.578125 \r\n",
       "Q 30.03125 56 36.53125 56 \r\n",
       "Q 37.453125 56 38.578125 55.875 \r\n",
       "Q 39.703125 55.765625 41.0625 55.515625 \r\n",
       "z\r\n",
       "\" id=\"DejaVuSans-114\"/>\r\n",
       "     <path d=\"M 44.28125 53.078125 \r\n",
       "L 44.28125 44.578125 \r\n",
       "Q 40.484375 46.53125 36.375 47.5 \r\n",
       "Q 32.28125 48.484375 27.875 48.484375 \r\n",
       "Q 21.1875 48.484375 17.84375 46.4375 \r\n",
       "Q 14.5 44.390625 14.5 40.28125 \r\n",
       "Q 14.5 37.15625 16.890625 35.375 \r\n",
       "Q 19.28125 33.59375 26.515625 31.984375 \r\n",
       "L 29.59375 31.296875 \r\n",
       "Q 39.15625 29.25 43.1875 25.515625 \r\n",
       "Q 47.21875 21.78125 47.21875 15.09375 \r\n",
       "Q 47.21875 7.46875 41.1875 3.015625 \r\n",
       "Q 35.15625 -1.421875 24.609375 -1.421875 \r\n",
       "Q 20.21875 -1.421875 15.453125 -0.5625 \r\n",
       "Q 10.6875 0.296875 5.421875 2 \r\n",
       "L 5.421875 11.28125 \r\n",
       "Q 10.40625 8.6875 15.234375 7.390625 \r\n",
       "Q 20.0625 6.109375 24.8125 6.109375 \r\n",
       "Q 31.15625 6.109375 34.5625 8.28125 \r\n",
       "Q 37.984375 10.453125 37.984375 14.40625 \r\n",
       "Q 37.984375 18.0625 35.515625 20.015625 \r\n",
       "Q 33.0625 21.96875 24.703125 23.78125 \r\n",
       "L 21.578125 24.515625 \r\n",
       "Q 13.234375 26.265625 9.515625 29.90625 \r\n",
       "Q 5.8125 33.546875 5.8125 39.890625 \r\n",
       "Q 5.8125 47.609375 11.28125 51.796875 \r\n",
       "Q 16.75 56 26.8125 56 \r\n",
       "Q 31.78125 56 36.171875 55.265625 \r\n",
       "Q 40.578125 54.546875 44.28125 53.078125 \r\n",
       "z\r\n",
       "\" id=\"DejaVuSans-115\"/>\r\n",
       "     <path d=\"M 54.890625 33.015625 \r\n",
       "L 54.890625 0 \r\n",
       "L 45.90625 0 \r\n",
       "L 45.90625 32.71875 \r\n",
       "Q 45.90625 40.484375 42.875 44.328125 \r\n",
       "Q 39.84375 48.1875 33.796875 48.1875 \r\n",
       "Q 26.515625 48.1875 22.3125 43.546875 \r\n",
       "Q 18.109375 38.921875 18.109375 30.90625 \r\n",
       "L 18.109375 0 \r\n",
       "L 9.078125 0 \r\n",
       "L 9.078125 54.6875 \r\n",
       "L 18.109375 54.6875 \r\n",
       "L 18.109375 46.1875 \r\n",
       "Q 21.34375 51.125 25.703125 53.5625 \r\n",
       "Q 30.078125 56 35.796875 56 \r\n",
       "Q 45.21875 56 50.046875 50.171875 \r\n",
       "Q 54.890625 44.34375 54.890625 33.015625 \r\n",
       "z\r\n",
       "\" id=\"DejaVuSans-110\"/>\r\n",
       "     <path d=\"M 18.3125 70.21875 \r\n",
       "L 18.3125 54.6875 \r\n",
       "L 36.8125 54.6875 \r\n",
       "L 36.8125 47.703125 \r\n",
       "L 18.3125 47.703125 \r\n",
       "L 18.3125 18.015625 \r\n",
       "Q 18.3125 11.328125 20.140625 9.421875 \r\n",
       "Q 21.96875 7.515625 27.59375 7.515625 \r\n",
       "L 36.8125 7.515625 \r\n",
       "L 36.8125 0 \r\n",
       "L 27.59375 0 \r\n",
       "Q 17.1875 0 13.234375 3.875 \r\n",
       "Q 9.28125 7.765625 9.28125 18.015625 \r\n",
       "L 9.28125 47.703125 \r\n",
       "L 2.6875 47.703125 \r\n",
       "L 2.6875 54.6875 \r\n",
       "L 9.28125 54.6875 \r\n",
       "L 9.28125 70.21875 \r\n",
       "z\r\n",
       "\" id=\"DejaVuSans-116\"/>\r\n",
       "     <path d=\"M 32.171875 -5.078125 \r\n",
       "Q 28.375 -14.84375 24.75 -17.8125 \r\n",
       "Q 21.140625 -20.796875 15.09375 -20.796875 \r\n",
       "L 7.90625 -20.796875 \r\n",
       "L 7.90625 -13.28125 \r\n",
       "L 13.1875 -13.28125 \r\n",
       "Q 16.890625 -13.28125 18.9375 -11.515625 \r\n",
       "Q 21 -9.765625 23.484375 -3.21875 \r\n",
       "L 25.09375 0.875 \r\n",
       "L 2.984375 54.6875 \r\n",
       "L 12.5 54.6875 \r\n",
       "L 29.59375 11.921875 \r\n",
       "L 46.6875 54.6875 \r\n",
       "L 56.203125 54.6875 \r\n",
       "z\r\n",
       "\" id=\"DejaVuSans-121\"/>\r\n",
       "     <path id=\"DejaVuSans-32\"/>\r\n",
       "     <path d=\"M 9.8125 72.90625 \r\n",
       "L 19.671875 72.90625 \r\n",
       "L 19.671875 8.296875 \r\n",
       "L 55.171875 8.296875 \r\n",
       "L 55.171875 0 \r\n",
       "L 9.8125 0 \r\n",
       "z\r\n",
       "\" id=\"DejaVuSans-76\"/>\r\n",
       "    </defs>\r\n",
       "    <g transform=\"translate(322.507812 16.318125)scale(0.12 -0.12)\">\r\n",
       "     <use xlink:href=\"#DejaVuSans-67\"/>\r\n",
       "     <use x=\"69.824219\" xlink:href=\"#DejaVuSans-114\"/>\r\n",
       "     <use x=\"108.6875\" xlink:href=\"#DejaVuSans-111\"/>\r\n",
       "     <use x=\"169.869141\" xlink:href=\"#DejaVuSans-115\"/>\r\n",
       "     <use x=\"221.96875\" xlink:href=\"#DejaVuSans-115\"/>\r\n",
       "     <use x=\"274.068359\" xlink:href=\"#DejaVuSans-69\"/>\r\n",
       "     <use x=\"337.251953\" xlink:href=\"#DejaVuSans-110\"/>\r\n",
       "     <use x=\"400.630859\" xlink:href=\"#DejaVuSans-116\"/>\r\n",
       "     <use x=\"439.839844\" xlink:href=\"#DejaVuSans-114\"/>\r\n",
       "     <use x=\"478.703125\" xlink:href=\"#DejaVuSans-111\"/>\r\n",
       "     <use x=\"539.884766\" xlink:href=\"#DejaVuSans-112\"/>\r\n",
       "     <use x=\"603.361328\" xlink:href=\"#DejaVuSans-121\"/>\r\n",
       "     <use x=\"662.541016\" xlink:href=\"#DejaVuSans-32\"/>\r\n",
       "     <use x=\"694.328125\" xlink:href=\"#DejaVuSans-76\"/>\r\n",
       "     <use x=\"748.291016\" xlink:href=\"#DejaVuSans-111\"/>\r\n",
       "     <use x=\"809.472656\" xlink:href=\"#DejaVuSans-115\"/>\r\n",
       "     <use x=\"861.572266\" xlink:href=\"#DejaVuSans-115\"/>\r\n",
       "    </g>\r\n",
       "   </g>\r\n",
       "   <g id=\"legend_1\">\r\n",
       "    <g id=\"patch_7\">\r\n",
       "     <path d=\"M 56.190625 314.118125 \r\n",
       "L 179.407813 314.118125 \r\n",
       "Q 181.407813 314.118125 181.407813 312.118125 \r\n",
       "L 181.407813 166.336875 \r\n",
       "Q 181.407813 164.336875 179.407813 164.336875 \r\n",
       "L 56.190625 164.336875 \r\n",
       "Q 54.190625 164.336875 54.190625 166.336875 \r\n",
       "L 54.190625 312.118125 \r\n",
       "Q 54.190625 314.118125 56.190625 314.118125 \r\n",
       "z\r\n",
       "\" style=\"fill:#ffffff;opacity:0.8;stroke:#cccccc;stroke-linejoin:miter;\"/>\r\n",
       "    </g>\r\n",
       "    <g id=\"line2d_43\">\r\n",
       "     <path d=\"M 58.190625 172.435312 \r\n",
       "L 78.190625 172.435312 \r\n",
       "\" style=\"fill:none;stroke:#0000ff;stroke-linecap:square;stroke-width:1.5;\"/>\r\n",
       "    </g>\r\n",
       "    <g id=\"line2d_44\"/>\r\n",
       "    <g id=\"text_19\">\r\n",
       "     <!-- Base -->\r\n",
       "     <defs>\r\n",
       "      <path d=\"M 19.671875 34.8125 \r\n",
       "L 19.671875 8.109375 \r\n",
       "L 35.5 8.109375 \r\n",
       "Q 43.453125 8.109375 47.28125 11.40625 \r\n",
       "Q 51.125 14.703125 51.125 21.484375 \r\n",
       "Q 51.125 28.328125 47.28125 31.5625 \r\n",
       "Q 43.453125 34.8125 35.5 34.8125 \r\n",
       "z\r\n",
       "M 19.671875 64.796875 \r\n",
       "L 19.671875 42.828125 \r\n",
       "L 34.28125 42.828125 \r\n",
       "Q 41.5 42.828125 45.03125 45.53125 \r\n",
       "Q 48.578125 48.25 48.578125 53.8125 \r\n",
       "Q 48.578125 59.328125 45.03125 62.0625 \r\n",
       "Q 41.5 64.796875 34.28125 64.796875 \r\n",
       "z\r\n",
       "M 9.8125 72.90625 \r\n",
       "L 35.015625 72.90625 \r\n",
       "Q 46.296875 72.90625 52.390625 68.21875 \r\n",
       "Q 58.5 63.53125 58.5 54.890625 \r\n",
       "Q 58.5 48.1875 55.375 44.234375 \r\n",
       "Q 52.25 40.28125 46.1875 39.3125 \r\n",
       "Q 53.46875 37.75 57.5 32.78125 \r\n",
       "Q 61.53125 27.828125 61.53125 20.40625 \r\n",
       "Q 61.53125 10.640625 54.890625 5.3125 \r\n",
       "Q 48.25 0 35.984375 0 \r\n",
       "L 9.8125 0 \r\n",
       "z\r\n",
       "\" id=\"DejaVuSans-66\"/>\r\n",
       "      <path d=\"M 34.28125 27.484375 \r\n",
       "Q 23.390625 27.484375 19.1875 25 \r\n",
       "Q 14.984375 22.515625 14.984375 16.5 \r\n",
       "Q 14.984375 11.71875 18.140625 8.90625 \r\n",
       "Q 21.296875 6.109375 26.703125 6.109375 \r\n",
       "Q 34.1875 6.109375 38.703125 11.40625 \r\n",
       "Q 43.21875 16.703125 43.21875 25.484375 \r\n",
       "L 43.21875 27.484375 \r\n",
       "z\r\n",
       "M 52.203125 31.203125 \r\n",
       "L 52.203125 0 \r\n",
       "L 43.21875 0 \r\n",
       "L 43.21875 8.296875 \r\n",
       "Q 40.140625 3.328125 35.546875 0.953125 \r\n",
       "Q 30.953125 -1.421875 24.3125 -1.421875 \r\n",
       "Q 15.921875 -1.421875 10.953125 3.296875 \r\n",
       "Q 6 8.015625 6 15.921875 \r\n",
       "Q 6 25.140625 12.171875 29.828125 \r\n",
       "Q 18.359375 34.515625 30.609375 34.515625 \r\n",
       "L 43.21875 34.515625 \r\n",
       "L 43.21875 35.40625 \r\n",
       "Q 43.21875 41.609375 39.140625 45 \r\n",
       "Q 35.0625 48.390625 27.6875 48.390625 \r\n",
       "Q 23 48.390625 18.546875 47.265625 \r\n",
       "Q 14.109375 46.140625 10.015625 43.890625 \r\n",
       "L 10.015625 52.203125 \r\n",
       "Q 14.9375 54.109375 19.578125 55.046875 \r\n",
       "Q 24.21875 56 28.609375 56 \r\n",
       "Q 40.484375 56 46.34375 49.84375 \r\n",
       "Q 52.203125 43.703125 52.203125 31.203125 \r\n",
       "z\r\n",
       "\" id=\"DejaVuSans-97\"/>\r\n",
       "      <path d=\"M 56.203125 29.59375 \r\n",
       "L 56.203125 25.203125 \r\n",
       "L 14.890625 25.203125 \r\n",
       "Q 15.484375 15.921875 20.484375 11.0625 \r\n",
       "Q 25.484375 6.203125 34.421875 6.203125 \r\n",
       "Q 39.59375 6.203125 44.453125 7.46875 \r\n",
       "Q 49.3125 8.734375 54.109375 11.28125 \r\n",
       "L 54.109375 2.78125 \r\n",
       "Q 49.265625 0.734375 44.1875 -0.34375 \r\n",
       "Q 39.109375 -1.421875 33.890625 -1.421875 \r\n",
       "Q 20.796875 -1.421875 13.15625 6.1875 \r\n",
       "Q 5.515625 13.8125 5.515625 26.8125 \r\n",
       "Q 5.515625 40.234375 12.765625 48.109375 \r\n",
       "Q 20.015625 56 32.328125 56 \r\n",
       "Q 43.359375 56 49.78125 48.890625 \r\n",
       "Q 56.203125 41.796875 56.203125 29.59375 \r\n",
       "z\r\n",
       "M 47.21875 32.234375 \r\n",
       "Q 47.125 39.59375 43.09375 43.984375 \r\n",
       "Q 39.0625 48.390625 32.421875 48.390625 \r\n",
       "Q 24.90625 48.390625 20.390625 44.140625 \r\n",
       "Q 15.875 39.890625 15.1875 32.171875 \r\n",
       "z\r\n",
       "\" id=\"DejaVuSans-101\"/>\r\n",
       "     </defs>\r\n",
       "     <g transform=\"translate(86.190625 175.935312)scale(0.1 -0.1)\">\r\n",
       "      <use xlink:href=\"#DejaVuSans-66\"/>\r\n",
       "      <use x=\"68.603516\" xlink:href=\"#DejaVuSans-97\"/>\r\n",
       "      <use x=\"129.882812\" xlink:href=\"#DejaVuSans-115\"/>\r\n",
       "      <use x=\"181.982422\" xlink:href=\"#DejaVuSans-101\"/>\r\n",
       "     </g>\r\n",
       "    </g>\r\n",
       "    <g id=\"line2d_45\">\r\n",
       "     <path d=\"M 58.190625 187.113437 \r\n",
       "L 78.190625 187.113437 \r\n",
       "\" style=\"fill:none;stroke:#0000ff;stroke-dasharray:5.55,2.4;stroke-dashoffset:0;stroke-width:1.5;\"/>\r\n",
       "    </g>\r\n",
       "    <g id=\"line2d_46\"/>\r\n",
       "    <g id=\"text_20\">\r\n",
       "     <!-- Base -->\r\n",
       "     <g transform=\"translate(86.190625 190.613437)scale(0.1 -0.1)\">\r\n",
       "      <use xlink:href=\"#DejaVuSans-66\"/>\r\n",
       "      <use x=\"68.603516\" xlink:href=\"#DejaVuSans-97\"/>\r\n",
       "      <use x=\"129.882812\" xlink:href=\"#DejaVuSans-115\"/>\r\n",
       "      <use x=\"181.982422\" xlink:href=\"#DejaVuSans-101\"/>\r\n",
       "     </g>\r\n",
       "    </g>\r\n",
       "    <g id=\"line2d_47\">\r\n",
       "     <path d=\"M 58.190625 201.791562 \r\n",
       "L 78.190625 201.791562 \r\n",
       "\" style=\"fill:none;stroke:#ff0000;stroke-linecap:square;stroke-width:1.5;\"/>\r\n",
       "    </g>\r\n",
       "    <g id=\"line2d_48\"/>\r\n",
       "    <g id=\"text_21\">\r\n",
       "     <!-- VarDropCheck -->\r\n",
       "     <defs>\r\n",
       "      <path d=\"M 28.609375 0 \r\n",
       "L 0.78125 72.90625 \r\n",
       "L 11.078125 72.90625 \r\n",
       "L 34.1875 11.53125 \r\n",
       "L 57.328125 72.90625 \r\n",
       "L 67.578125 72.90625 \r\n",
       "L 39.796875 0 \r\n",
       "z\r\n",
       "\" id=\"DejaVuSans-86\"/>\r\n",
       "      <path d=\"M 19.671875 64.796875 \r\n",
       "L 19.671875 8.109375 \r\n",
       "L 31.59375 8.109375 \r\n",
       "Q 46.6875 8.109375 53.6875 14.9375 \r\n",
       "Q 60.6875 21.78125 60.6875 36.53125 \r\n",
       "Q 60.6875 51.171875 53.6875 57.984375 \r\n",
       "Q 46.6875 64.796875 31.59375 64.796875 \r\n",
       "z\r\n",
       "M 9.8125 72.90625 \r\n",
       "L 30.078125 72.90625 \r\n",
       "Q 51.265625 72.90625 61.171875 64.09375 \r\n",
       "Q 71.09375 55.28125 71.09375 36.53125 \r\n",
       "Q 71.09375 17.671875 61.125 8.828125 \r\n",
       "Q 51.171875 0 30.078125 0 \r\n",
       "L 9.8125 0 \r\n",
       "z\r\n",
       "\" id=\"DejaVuSans-68\"/>\r\n",
       "      <path d=\"M 9.078125 75.984375 \r\n",
       "L 18.109375 75.984375 \r\n",
       "L 18.109375 31.109375 \r\n",
       "L 44.921875 54.6875 \r\n",
       "L 56.390625 54.6875 \r\n",
       "L 27.390625 29.109375 \r\n",
       "L 57.625 0 \r\n",
       "L 45.90625 0 \r\n",
       "L 18.109375 26.703125 \r\n",
       "L 18.109375 0 \r\n",
       "L 9.078125 0 \r\n",
       "z\r\n",
       "\" id=\"DejaVuSans-107\"/>\r\n",
       "     </defs>\r\n",
       "     <g transform=\"translate(86.190625 205.291562)scale(0.1 -0.1)\">\r\n",
       "      <use xlink:href=\"#DejaVuSans-86\"/>\r\n",
       "      <use x=\"60.658203\" xlink:href=\"#DejaVuSans-97\"/>\r\n",
       "      <use x=\"121.9375\" xlink:href=\"#DejaVuSans-114\"/>\r\n",
       "      <use x=\"163.050781\" xlink:href=\"#DejaVuSans-68\"/>\r\n",
       "      <use x=\"240.052734\" xlink:href=\"#DejaVuSans-114\"/>\r\n",
       "      <use x=\"278.916016\" xlink:href=\"#DejaVuSans-111\"/>\r\n",
       "      <use x=\"340.097656\" xlink:href=\"#DejaVuSans-112\"/>\r\n",
       "      <use x=\"403.574219\" xlink:href=\"#DejaVuSans-67\"/>\r\n",
       "      <use x=\"473.398438\" xlink:href=\"#DejaVuSans-104\"/>\r\n",
       "      <use x=\"536.777344\" xlink:href=\"#DejaVuSans-101\"/>\r\n",
       "      <use x=\"598.300781\" xlink:href=\"#DejaVuSans-99\"/>\r\n",
       "      <use x=\"653.28125\" xlink:href=\"#DejaVuSans-107\"/>\r\n",
       "     </g>\r\n",
       "    </g>\r\n",
       "    <g id=\"line2d_49\">\r\n",
       "     <path d=\"M 58.190625 216.469687 \r\n",
       "L 78.190625 216.469687 \r\n",
       "\" style=\"fill:none;stroke:#ff0000;stroke-dasharray:5.55,2.4;stroke-dashoffset:0;stroke-width:1.5;\"/>\r\n",
       "    </g>\r\n",
       "    <g id=\"line2d_50\"/>\r\n",
       "    <g id=\"text_22\">\r\n",
       "     <!-- VarDropCheck -->\r\n",
       "     <g transform=\"translate(86.190625 219.969687)scale(0.1 -0.1)\">\r\n",
       "      <use xlink:href=\"#DejaVuSans-86\"/>\r\n",
       "      <use x=\"60.658203\" xlink:href=\"#DejaVuSans-97\"/>\r\n",
       "      <use x=\"121.9375\" xlink:href=\"#DejaVuSans-114\"/>\r\n",
       "      <use x=\"163.050781\" xlink:href=\"#DejaVuSans-68\"/>\r\n",
       "      <use x=\"240.052734\" xlink:href=\"#DejaVuSans-114\"/>\r\n",
       "      <use x=\"278.916016\" xlink:href=\"#DejaVuSans-111\"/>\r\n",
       "      <use x=\"340.097656\" xlink:href=\"#DejaVuSans-112\"/>\r\n",
       "      <use x=\"403.574219\" xlink:href=\"#DejaVuSans-67\"/>\r\n",
       "      <use x=\"473.398438\" xlink:href=\"#DejaVuSans-104\"/>\r\n",
       "      <use x=\"536.777344\" xlink:href=\"#DejaVuSans-101\"/>\r\n",
       "      <use x=\"598.300781\" xlink:href=\"#DejaVuSans-99\"/>\r\n",
       "      <use x=\"653.28125\" xlink:href=\"#DejaVuSans-107\"/>\r\n",
       "     </g>\r\n",
       "    </g>\r\n",
       "    <g id=\"line2d_51\">\r\n",
       "     <path d=\"M 58.190625 231.147812 \r\n",
       "L 78.190625 231.147812 \r\n",
       "\" style=\"fill:none;stroke:#ffa500;stroke-linecap:square;stroke-width:1.5;\"/>\r\n",
       "    </g>\r\n",
       "    <g id=\"line2d_52\"/>\r\n",
       "    <g id=\"text_23\">\r\n",
       "     <!-- VarDrop -->\r\n",
       "     <g transform=\"translate(86.190625 234.647812)scale(0.1 -0.1)\">\r\n",
       "      <use xlink:href=\"#DejaVuSans-86\"/>\r\n",
       "      <use x=\"60.658203\" xlink:href=\"#DejaVuSans-97\"/>\r\n",
       "      <use x=\"121.9375\" xlink:href=\"#DejaVuSans-114\"/>\r\n",
       "      <use x=\"163.050781\" xlink:href=\"#DejaVuSans-68\"/>\r\n",
       "      <use x=\"240.052734\" xlink:href=\"#DejaVuSans-114\"/>\r\n",
       "      <use x=\"278.916016\" xlink:href=\"#DejaVuSans-111\"/>\r\n",
       "      <use x=\"340.097656\" xlink:href=\"#DejaVuSans-112\"/>\r\n",
       "     </g>\r\n",
       "    </g>\r\n",
       "    <g id=\"line2d_53\">\r\n",
       "     <path d=\"M 58.190625 245.825937 \r\n",
       "L 78.190625 245.825937 \r\n",
       "\" style=\"fill:none;stroke:#ffa500;stroke-dasharray:5.55,2.4;stroke-dashoffset:0;stroke-width:1.5;\"/>\r\n",
       "    </g>\r\n",
       "    <g id=\"line2d_54\"/>\r\n",
       "    <g id=\"text_24\">\r\n",
       "     <!-- VarDrop -->\r\n",
       "     <g transform=\"translate(86.190625 249.325937)scale(0.1 -0.1)\">\r\n",
       "      <use xlink:href=\"#DejaVuSans-86\"/>\r\n",
       "      <use x=\"60.658203\" xlink:href=\"#DejaVuSans-97\"/>\r\n",
       "      <use x=\"121.9375\" xlink:href=\"#DejaVuSans-114\"/>\r\n",
       "      <use x=\"163.050781\" xlink:href=\"#DejaVuSans-68\"/>\r\n",
       "      <use x=\"240.052734\" xlink:href=\"#DejaVuSans-114\"/>\r\n",
       "      <use x=\"278.916016\" xlink:href=\"#DejaVuSans-111\"/>\r\n",
       "      <use x=\"340.097656\" xlink:href=\"#DejaVuSans-112\"/>\r\n",
       "     </g>\r\n",
       "    </g>\r\n",
       "    <g id=\"line2d_55\">\r\n",
       "     <path d=\"M 58.190625 260.504062 \r\n",
       "L 78.190625 260.504062 \r\n",
       "\" style=\"fill:none;stroke:#000000;stroke-linecap:square;stroke-width:1.5;\"/>\r\n",
       "    </g>\r\n",
       "    <g id=\"line2d_56\"/>\r\n",
       "    <g id=\"text_25\">\r\n",
       "     <!-- FastVarDropCheck -->\r\n",
       "     <defs>\r\n",
       "      <path d=\"M 9.8125 72.90625 \r\n",
       "L 51.703125 72.90625 \r\n",
       "L 51.703125 64.59375 \r\n",
       "L 19.671875 64.59375 \r\n",
       "L 19.671875 43.109375 \r\n",
       "L 48.578125 43.109375 \r\n",
       "L 48.578125 34.8125 \r\n",
       "L 19.671875 34.8125 \r\n",
       "L 19.671875 0 \r\n",
       "L 9.8125 0 \r\n",
       "z\r\n",
       "\" id=\"DejaVuSans-70\"/>\r\n",
       "     </defs>\r\n",
       "     <g transform=\"translate(86.190625 264.004062)scale(0.1 -0.1)\">\r\n",
       "      <use xlink:href=\"#DejaVuSans-70\"/>\r\n",
       "      <use x=\"48.394531\" xlink:href=\"#DejaVuSans-97\"/>\r\n",
       "      <use x=\"109.673828\" xlink:href=\"#DejaVuSans-115\"/>\r\n",
       "      <use x=\"161.773438\" xlink:href=\"#DejaVuSans-116\"/>\r\n",
       "      <use x=\"200.982422\" xlink:href=\"#DejaVuSans-86\"/>\r\n",
       "      <use x=\"261.640625\" xlink:href=\"#DejaVuSans-97\"/>\r\n",
       "      <use x=\"322.919922\" xlink:href=\"#DejaVuSans-114\"/>\r\n",
       "      <use x=\"364.033203\" xlink:href=\"#DejaVuSans-68\"/>\r\n",
       "      <use x=\"441.035156\" xlink:href=\"#DejaVuSans-114\"/>\r\n",
       "      <use x=\"479.898438\" xlink:href=\"#DejaVuSans-111\"/>\r\n",
       "      <use x=\"541.080078\" xlink:href=\"#DejaVuSans-112\"/>\r\n",
       "      <use x=\"604.556641\" xlink:href=\"#DejaVuSans-67\"/>\r\n",
       "      <use x=\"674.380859\" xlink:href=\"#DejaVuSans-104\"/>\r\n",
       "      <use x=\"737.759766\" xlink:href=\"#DejaVuSans-101\"/>\r\n",
       "      <use x=\"799.283203\" xlink:href=\"#DejaVuSans-99\"/>\r\n",
       "      <use x=\"854.263672\" xlink:href=\"#DejaVuSans-107\"/>\r\n",
       "     </g>\r\n",
       "    </g>\r\n",
       "    <g id=\"line2d_57\">\r\n",
       "     <path d=\"M 58.190625 275.182187 \r\n",
       "L 78.190625 275.182187 \r\n",
       "\" style=\"fill:none;stroke:#000000;stroke-dasharray:5.55,2.4;stroke-dashoffset:0;stroke-width:1.5;\"/>\r\n",
       "    </g>\r\n",
       "    <g id=\"line2d_58\"/>\r\n",
       "    <g id=\"text_26\">\r\n",
       "     <!-- FastVarDropCheck -->\r\n",
       "     <g transform=\"translate(86.190625 278.682187)scale(0.1 -0.1)\">\r\n",
       "      <use xlink:href=\"#DejaVuSans-70\"/>\r\n",
       "      <use x=\"48.394531\" xlink:href=\"#DejaVuSans-97\"/>\r\n",
       "      <use x=\"109.673828\" xlink:href=\"#DejaVuSans-115\"/>\r\n",
       "      <use x=\"161.773438\" xlink:href=\"#DejaVuSans-116\"/>\r\n",
       "      <use x=\"200.982422\" xlink:href=\"#DejaVuSans-86\"/>\r\n",
       "      <use x=\"261.640625\" xlink:href=\"#DejaVuSans-97\"/>\r\n",
       "      <use x=\"322.919922\" xlink:href=\"#DejaVuSans-114\"/>\r\n",
       "      <use x=\"364.033203\" xlink:href=\"#DejaVuSans-68\"/>\r\n",
       "      <use x=\"441.035156\" xlink:href=\"#DejaVuSans-114\"/>\r\n",
       "      <use x=\"479.898438\" xlink:href=\"#DejaVuSans-111\"/>\r\n",
       "      <use x=\"541.080078\" xlink:href=\"#DejaVuSans-112\"/>\r\n",
       "      <use x=\"604.556641\" xlink:href=\"#DejaVuSans-67\"/>\r\n",
       "      <use x=\"674.380859\" xlink:href=\"#DejaVuSans-104\"/>\r\n",
       "      <use x=\"737.759766\" xlink:href=\"#DejaVuSans-101\"/>\r\n",
       "      <use x=\"799.283203\" xlink:href=\"#DejaVuSans-99\"/>\r\n",
       "      <use x=\"854.263672\" xlink:href=\"#DejaVuSans-107\"/>\r\n",
       "     </g>\r\n",
       "    </g>\r\n",
       "    <g id=\"line2d_59\">\r\n",
       "     <path d=\"M 58.190625 289.860312 \r\n",
       "L 78.190625 289.860312 \r\n",
       "\" style=\"fill:none;stroke:#008000;stroke-linecap:square;stroke-width:1.5;\"/>\r\n",
       "    </g>\r\n",
       "    <g id=\"line2d_60\"/>\r\n",
       "    <g id=\"text_27\">\r\n",
       "     <!-- FastVarDrop -->\r\n",
       "     <g transform=\"translate(86.190625 293.360312)scale(0.1 -0.1)\">\r\n",
       "      <use xlink:href=\"#DejaVuSans-70\"/>\r\n",
       "      <use x=\"48.394531\" xlink:href=\"#DejaVuSans-97\"/>\r\n",
       "      <use x=\"109.673828\" xlink:href=\"#DejaVuSans-115\"/>\r\n",
       "      <use x=\"161.773438\" xlink:href=\"#DejaVuSans-116\"/>\r\n",
       "      <use x=\"200.982422\" xlink:href=\"#DejaVuSans-86\"/>\r\n",
       "      <use x=\"261.640625\" xlink:href=\"#DejaVuSans-97\"/>\r\n",
       "      <use x=\"322.919922\" xlink:href=\"#DejaVuSans-114\"/>\r\n",
       "      <use x=\"364.033203\" xlink:href=\"#DejaVuSans-68\"/>\r\n",
       "      <use x=\"441.035156\" xlink:href=\"#DejaVuSans-114\"/>\r\n",
       "      <use x=\"479.898438\" xlink:href=\"#DejaVuSans-111\"/>\r\n",
       "      <use x=\"541.080078\" xlink:href=\"#DejaVuSans-112\"/>\r\n",
       "     </g>\r\n",
       "    </g>\r\n",
       "    <g id=\"line2d_61\">\r\n",
       "     <path d=\"M 58.190625 304.538437 \r\n",
       "L 78.190625 304.538437 \r\n",
       "\" style=\"fill:none;stroke:#008000;stroke-dasharray:5.55,2.4;stroke-dashoffset:0;stroke-width:1.5;\"/>\r\n",
       "    </g>\r\n",
       "    <g id=\"line2d_62\"/>\r\n",
       "    <g id=\"text_28\">\r\n",
       "     <!-- FastVarDrop -->\r\n",
       "     <g transform=\"translate(86.190625 308.038437)scale(0.1 -0.1)\">\r\n",
       "      <use xlink:href=\"#DejaVuSans-70\"/>\r\n",
       "      <use x=\"48.394531\" xlink:href=\"#DejaVuSans-97\"/>\r\n",
       "      <use x=\"109.673828\" xlink:href=\"#DejaVuSans-115\"/>\r\n",
       "      <use x=\"161.773438\" xlink:href=\"#DejaVuSans-116\"/>\r\n",
       "      <use x=\"200.982422\" xlink:href=\"#DejaVuSans-86\"/>\r\n",
       "      <use x=\"261.640625\" xlink:href=\"#DejaVuSans-97\"/>\r\n",
       "      <use x=\"322.919922\" xlink:href=\"#DejaVuSans-114\"/>\r\n",
       "      <use x=\"364.033203\" xlink:href=\"#DejaVuSans-68\"/>\r\n",
       "      <use x=\"441.035156\" xlink:href=\"#DejaVuSans-114\"/>\r\n",
       "      <use x=\"479.898438\" xlink:href=\"#DejaVuSans-111\"/>\r\n",
       "      <use x=\"541.080078\" xlink:href=\"#DejaVuSans-112\"/>\r\n",
       "     </g>\r\n",
       "    </g>\r\n",
       "   </g>\r\n",
       "  </g>\r\n",
       "  <g id=\"axes_2\">\r\n",
       "   <g id=\"patch_8\">\r\n",
       "    <path d=\"M 49.190625 673.718125 \r\n",
       "L 705.465625 673.718125 \r\n",
       "L 705.465625 376.918125 \r\n",
       "L 49.190625 376.918125 \r\n",
       "z\r\n",
       "\" style=\"fill:#ffffff;\"/>\r\n",
       "   </g>\r\n",
       "   <g id=\"matplotlib.axis_3\">\r\n",
       "    <g id=\"xtick_8\">\r\n",
       "     <g id=\"line2d_63\">\r\n",
       "      <path clip-path=\"url(#p4ebea9d42c)\" d=\"M 121.636567 673.718125 \r\n",
       "L 121.636567 376.918125 \r\n",
       "\" style=\"fill:none;stroke:#b0b0b0;stroke-linecap:square;stroke-width:0.8;\"/>\r\n",
       "     </g>\r\n",
       "     <g id=\"line2d_64\">\r\n",
       "      <g>\r\n",
       "       <use style=\"stroke:#000000;stroke-width:0.8;\" x=\"121.636567\" xlink:href=\"#m3880eeb1f8\" y=\"673.718125\"/>\r\n",
       "      </g>\r\n",
       "     </g>\r\n",
       "     <g id=\"text_29\">\r\n",
       "      <!-- 2 -->\r\n",
       "      <g transform=\"translate(118.455317 688.316562)scale(0.1 -0.1)\">\r\n",
       "       <use xlink:href=\"#DejaVuSans-50\"/>\r\n",
       "      </g>\r\n",
       "     </g>\r\n",
       "    </g>\r\n",
       "    <g id=\"xtick_9\">\r\n",
       "     <g id=\"line2d_65\">\r\n",
       "      <path clip-path=\"url(#p4ebea9d42c)\" d=\"M 206.867086 673.718125 \r\n",
       "L 206.867086 376.918125 \r\n",
       "\" style=\"fill:none;stroke:#b0b0b0;stroke-linecap:square;stroke-width:0.8;\"/>\r\n",
       "     </g>\r\n",
       "     <g id=\"line2d_66\">\r\n",
       "      <g>\r\n",
       "       <use style=\"stroke:#000000;stroke-width:0.8;\" x=\"206.867086\" xlink:href=\"#m3880eeb1f8\" y=\"673.718125\"/>\r\n",
       "      </g>\r\n",
       "     </g>\r\n",
       "     <g id=\"text_30\">\r\n",
       "      <!-- 4 -->\r\n",
       "      <g transform=\"translate(203.685836 688.316562)scale(0.1 -0.1)\">\r\n",
       "       <use xlink:href=\"#DejaVuSans-52\"/>\r\n",
       "      </g>\r\n",
       "     </g>\r\n",
       "    </g>\r\n",
       "    <g id=\"xtick_10\">\r\n",
       "     <g id=\"line2d_67\">\r\n",
       "      <path clip-path=\"url(#p4ebea9d42c)\" d=\"M 292.097606 673.718125 \r\n",
       "L 292.097606 376.918125 \r\n",
       "\" style=\"fill:none;stroke:#b0b0b0;stroke-linecap:square;stroke-width:0.8;\"/>\r\n",
       "     </g>\r\n",
       "     <g id=\"line2d_68\">\r\n",
       "      <g>\r\n",
       "       <use style=\"stroke:#000000;stroke-width:0.8;\" x=\"292.097606\" xlink:href=\"#m3880eeb1f8\" y=\"673.718125\"/>\r\n",
       "      </g>\r\n",
       "     </g>\r\n",
       "     <g id=\"text_31\">\r\n",
       "      <!-- 6 -->\r\n",
       "      <g transform=\"translate(288.916356 688.316562)scale(0.1 -0.1)\">\r\n",
       "       <use xlink:href=\"#DejaVuSans-54\"/>\r\n",
       "      </g>\r\n",
       "     </g>\r\n",
       "    </g>\r\n",
       "    <g id=\"xtick_11\">\r\n",
       "     <g id=\"line2d_69\">\r\n",
       "      <path clip-path=\"url(#p4ebea9d42c)\" d=\"M 377.328125 673.718125 \r\n",
       "L 377.328125 376.918125 \r\n",
       "\" style=\"fill:none;stroke:#b0b0b0;stroke-linecap:square;stroke-width:0.8;\"/>\r\n",
       "     </g>\r\n",
       "     <g id=\"line2d_70\">\r\n",
       "      <g>\r\n",
       "       <use style=\"stroke:#000000;stroke-width:0.8;\" x=\"377.328125\" xlink:href=\"#m3880eeb1f8\" y=\"673.718125\"/>\r\n",
       "      </g>\r\n",
       "     </g>\r\n",
       "     <g id=\"text_32\">\r\n",
       "      <!-- 8 -->\r\n",
       "      <g transform=\"translate(374.146875 688.316562)scale(0.1 -0.1)\">\r\n",
       "       <use xlink:href=\"#DejaVuSans-56\"/>\r\n",
       "      </g>\r\n",
       "     </g>\r\n",
       "    </g>\r\n",
       "    <g id=\"xtick_12\">\r\n",
       "     <g id=\"line2d_71\">\r\n",
       "      <path clip-path=\"url(#p4ebea9d42c)\" d=\"M 462.558644 673.718125 \r\n",
       "L 462.558644 376.918125 \r\n",
       "\" style=\"fill:none;stroke:#b0b0b0;stroke-linecap:square;stroke-width:0.8;\"/>\r\n",
       "     </g>\r\n",
       "     <g id=\"line2d_72\">\r\n",
       "      <g>\r\n",
       "       <use style=\"stroke:#000000;stroke-width:0.8;\" x=\"462.558644\" xlink:href=\"#m3880eeb1f8\" y=\"673.718125\"/>\r\n",
       "      </g>\r\n",
       "     </g>\r\n",
       "     <g id=\"text_33\">\r\n",
       "      <!-- 10 -->\r\n",
       "      <g transform=\"translate(456.196144 688.316562)scale(0.1 -0.1)\">\r\n",
       "       <use xlink:href=\"#DejaVuSans-49\"/>\r\n",
       "       <use x=\"63.623047\" xlink:href=\"#DejaVuSans-48\"/>\r\n",
       "      </g>\r\n",
       "     </g>\r\n",
       "    </g>\r\n",
       "    <g id=\"xtick_13\">\r\n",
       "     <g id=\"line2d_73\">\r\n",
       "      <path clip-path=\"url(#p4ebea9d42c)\" d=\"M 547.789164 673.718125 \r\n",
       "L 547.789164 376.918125 \r\n",
       "\" style=\"fill:none;stroke:#b0b0b0;stroke-linecap:square;stroke-width:0.8;\"/>\r\n",
       "     </g>\r\n",
       "     <g id=\"line2d_74\">\r\n",
       "      <g>\r\n",
       "       <use style=\"stroke:#000000;stroke-width:0.8;\" x=\"547.789164\" xlink:href=\"#m3880eeb1f8\" y=\"673.718125\"/>\r\n",
       "      </g>\r\n",
       "     </g>\r\n",
       "     <g id=\"text_34\">\r\n",
       "      <!-- 12 -->\r\n",
       "      <g transform=\"translate(541.426664 688.316562)scale(0.1 -0.1)\">\r\n",
       "       <use xlink:href=\"#DejaVuSans-49\"/>\r\n",
       "       <use x=\"63.623047\" xlink:href=\"#DejaVuSans-50\"/>\r\n",
       "      </g>\r\n",
       "     </g>\r\n",
       "    </g>\r\n",
       "    <g id=\"xtick_14\">\r\n",
       "     <g id=\"line2d_75\">\r\n",
       "      <path clip-path=\"url(#p4ebea9d42c)\" d=\"M 633.019683 673.718125 \r\n",
       "L 633.019683 376.918125 \r\n",
       "\" style=\"fill:none;stroke:#b0b0b0;stroke-linecap:square;stroke-width:0.8;\"/>\r\n",
       "     </g>\r\n",
       "     <g id=\"line2d_76\">\r\n",
       "      <g>\r\n",
       "       <use style=\"stroke:#000000;stroke-width:0.8;\" x=\"633.019683\" xlink:href=\"#m3880eeb1f8\" y=\"673.718125\"/>\r\n",
       "      </g>\r\n",
       "     </g>\r\n",
       "     <g id=\"text_35\">\r\n",
       "      <!-- 14 -->\r\n",
       "      <g transform=\"translate(626.657183 688.316562)scale(0.1 -0.1)\">\r\n",
       "       <use xlink:href=\"#DejaVuSans-49\"/>\r\n",
       "       <use x=\"63.623047\" xlink:href=\"#DejaVuSans-52\"/>\r\n",
       "      </g>\r\n",
       "     </g>\r\n",
       "    </g>\r\n",
       "    <g id=\"text_36\">\r\n",
       "     <!-- Epoch -->\r\n",
       "     <g transform=\"translate(362.017187 701.994687)scale(0.1 -0.1)\">\r\n",
       "      <use xlink:href=\"#DejaVuSans-69\"/>\r\n",
       "      <use x=\"63.183594\" xlink:href=\"#DejaVuSans-112\"/>\r\n",
       "      <use x=\"126.660156\" xlink:href=\"#DejaVuSans-111\"/>\r\n",
       "      <use x=\"187.841797\" xlink:href=\"#DejaVuSans-99\"/>\r\n",
       "      <use x=\"242.822266\" xlink:href=\"#DejaVuSans-104\"/>\r\n",
       "     </g>\r\n",
       "    </g>\r\n",
       "   </g>\r\n",
       "   <g id=\"matplotlib.axis_4\">\r\n",
       "    <g id=\"ytick_10\">\r\n",
       "     <g id=\"line2d_77\">\r\n",
       "      <path clip-path=\"url(#p4ebea9d42c)\" d=\"M 49.190625 628.092298 \r\n",
       "L 705.465625 628.092298 \r\n",
       "\" style=\"fill:none;stroke:#b0b0b0;stroke-linecap:square;stroke-width:0.8;\"/>\r\n",
       "     </g>\r\n",
       "     <g id=\"line2d_78\">\r\n",
       "      <g>\r\n",
       "       <use style=\"stroke:#000000;stroke-width:0.8;\" x=\"49.190625\" xlink:href=\"#mf6dc5f7b2f\" y=\"628.092298\"/>\r\n",
       "      </g>\r\n",
       "     </g>\r\n",
       "     <g id=\"text_37\">\r\n",
       "      <!-- 0.6 -->\r\n",
       "      <g transform=\"translate(26.2875 631.891517)scale(0.1 -0.1)\">\r\n",
       "       <use xlink:href=\"#DejaVuSans-48\"/>\r\n",
       "       <use x=\"63.623047\" xlink:href=\"#DejaVuSans-46\"/>\r\n",
       "       <use x=\"95.410156\" xlink:href=\"#DejaVuSans-54\"/>\r\n",
       "      </g>\r\n",
       "     </g>\r\n",
       "    </g>\r\n",
       "    <g id=\"ytick_11\">\r\n",
       "     <g id=\"line2d_79\">\r\n",
       "      <path clip-path=\"url(#p4ebea9d42c)\" d=\"M 49.190625 565.524313 \r\n",
       "L 705.465625 565.524313 \r\n",
       "\" style=\"fill:none;stroke:#b0b0b0;stroke-linecap:square;stroke-width:0.8;\"/>\r\n",
       "     </g>\r\n",
       "     <g id=\"line2d_80\">\r\n",
       "      <g>\r\n",
       "       <use style=\"stroke:#000000;stroke-width:0.8;\" x=\"49.190625\" xlink:href=\"#mf6dc5f7b2f\" y=\"565.524313\"/>\r\n",
       "      </g>\r\n",
       "     </g>\r\n",
       "     <g id=\"text_38\">\r\n",
       "      <!-- 0.7 -->\r\n",
       "      <g transform=\"translate(26.2875 569.323531)scale(0.1 -0.1)\">\r\n",
       "       <use xlink:href=\"#DejaVuSans-48\"/>\r\n",
       "       <use x=\"63.623047\" xlink:href=\"#DejaVuSans-46\"/>\r\n",
       "       <use x=\"95.410156\" xlink:href=\"#DejaVuSans-55\"/>\r\n",
       "      </g>\r\n",
       "     </g>\r\n",
       "    </g>\r\n",
       "    <g id=\"ytick_12\">\r\n",
       "     <g id=\"line2d_81\">\r\n",
       "      <path clip-path=\"url(#p4ebea9d42c)\" d=\"M 49.190625 502.956327 \r\n",
       "L 705.465625 502.956327 \r\n",
       "\" style=\"fill:none;stroke:#b0b0b0;stroke-linecap:square;stroke-width:0.8;\"/>\r\n",
       "     </g>\r\n",
       "     <g id=\"line2d_82\">\r\n",
       "      <g>\r\n",
       "       <use style=\"stroke:#000000;stroke-width:0.8;\" x=\"49.190625\" xlink:href=\"#mf6dc5f7b2f\" y=\"502.956327\"/>\r\n",
       "      </g>\r\n",
       "     </g>\r\n",
       "     <g id=\"text_39\">\r\n",
       "      <!-- 0.8 -->\r\n",
       "      <g transform=\"translate(26.2875 506.755546)scale(0.1 -0.1)\">\r\n",
       "       <use xlink:href=\"#DejaVuSans-48\"/>\r\n",
       "       <use x=\"63.623047\" xlink:href=\"#DejaVuSans-46\"/>\r\n",
       "       <use x=\"95.410156\" xlink:href=\"#DejaVuSans-56\"/>\r\n",
       "      </g>\r\n",
       "     </g>\r\n",
       "    </g>\r\n",
       "    <g id=\"ytick_13\">\r\n",
       "     <g id=\"line2d_83\">\r\n",
       "      <path clip-path=\"url(#p4ebea9d42c)\" d=\"M 49.190625 440.388341 \r\n",
       "L 705.465625 440.388341 \r\n",
       "\" style=\"fill:none;stroke:#b0b0b0;stroke-linecap:square;stroke-width:0.8;\"/>\r\n",
       "     </g>\r\n",
       "     <g id=\"line2d_84\">\r\n",
       "      <g>\r\n",
       "       <use style=\"stroke:#000000;stroke-width:0.8;\" x=\"49.190625\" xlink:href=\"#mf6dc5f7b2f\" y=\"440.388341\"/>\r\n",
       "      </g>\r\n",
       "     </g>\r\n",
       "     <g id=\"text_40\">\r\n",
       "      <!-- 0.9 -->\r\n",
       "      <defs>\r\n",
       "       <path d=\"M 10.984375 1.515625 \r\n",
       "L 10.984375 10.5 \r\n",
       "Q 14.703125 8.734375 18.5 7.8125 \r\n",
       "Q 22.3125 6.890625 25.984375 6.890625 \r\n",
       "Q 35.75 6.890625 40.890625 13.453125 \r\n",
       "Q 46.046875 20.015625 46.78125 33.40625 \r\n",
       "Q 43.953125 29.203125 39.59375 26.953125 \r\n",
       "Q 35.25 24.703125 29.984375 24.703125 \r\n",
       "Q 19.046875 24.703125 12.671875 31.3125 \r\n",
       "Q 6.296875 37.9375 6.296875 49.421875 \r\n",
       "Q 6.296875 60.640625 12.9375 67.421875 \r\n",
       "Q 19.578125 74.21875 30.609375 74.21875 \r\n",
       "Q 43.265625 74.21875 49.921875 64.515625 \r\n",
       "Q 56.59375 54.828125 56.59375 36.375 \r\n",
       "Q 56.59375 19.140625 48.40625 8.859375 \r\n",
       "Q 40.234375 -1.421875 26.421875 -1.421875 \r\n",
       "Q 22.703125 -1.421875 18.890625 -0.6875 \r\n",
       "Q 15.09375 0.046875 10.984375 1.515625 \r\n",
       "z\r\n",
       "M 30.609375 32.421875 \r\n",
       "Q 37.25 32.421875 41.125 36.953125 \r\n",
       "Q 45.015625 41.5 45.015625 49.421875 \r\n",
       "Q 45.015625 57.28125 41.125 61.84375 \r\n",
       "Q 37.25 66.40625 30.609375 66.40625 \r\n",
       "Q 23.96875 66.40625 20.09375 61.84375 \r\n",
       "Q 16.21875 57.28125 16.21875 49.421875 \r\n",
       "Q 16.21875 41.5 20.09375 36.953125 \r\n",
       "Q 23.96875 32.421875 30.609375 32.421875 \r\n",
       "z\r\n",
       "\" id=\"DejaVuSans-57\"/>\r\n",
       "      </defs>\r\n",
       "      <g transform=\"translate(26.2875 444.18756)scale(0.1 -0.1)\">\r\n",
       "       <use xlink:href=\"#DejaVuSans-48\"/>\r\n",
       "       <use x=\"63.623047\" xlink:href=\"#DejaVuSans-46\"/>\r\n",
       "       <use x=\"95.410156\" xlink:href=\"#DejaVuSans-57\"/>\r\n",
       "      </g>\r\n",
       "     </g>\r\n",
       "    </g>\r\n",
       "    <g id=\"ytick_14\">\r\n",
       "     <g id=\"line2d_85\">\r\n",
       "      <path clip-path=\"url(#p4ebea9d42c)\" d=\"M 49.190625 377.820355 \r\n",
       "L 705.465625 377.820355 \r\n",
       "\" style=\"fill:none;stroke:#b0b0b0;stroke-linecap:square;stroke-width:0.8;\"/>\r\n",
       "     </g>\r\n",
       "     <g id=\"line2d_86\">\r\n",
       "      <g>\r\n",
       "       <use style=\"stroke:#000000;stroke-width:0.8;\" x=\"49.190625\" xlink:href=\"#mf6dc5f7b2f\" y=\"377.820355\"/>\r\n",
       "      </g>\r\n",
       "     </g>\r\n",
       "     <g id=\"text_41\">\r\n",
       "      <!-- 1.0 -->\r\n",
       "      <g transform=\"translate(26.2875 381.619574)scale(0.1 -0.1)\">\r\n",
       "       <use xlink:href=\"#DejaVuSans-49\"/>\r\n",
       "       <use x=\"63.623047\" xlink:href=\"#DejaVuSans-46\"/>\r\n",
       "       <use x=\"95.410156\" xlink:href=\"#DejaVuSans-48\"/>\r\n",
       "      </g>\r\n",
       "     </g>\r\n",
       "    </g>\r\n",
       "   </g>\r\n",
       "   <g id=\"line2d_87\">\r\n",
       "    <path clip-path=\"url(#p4ebea9d42c)\" d=\"M 79.021307 638.553666 \r\n",
       "L 121.636567 500.028145 \r\n",
       "L 164.251826 466.466678 \r\n",
       "L 206.867086 454.428597 \r\n",
       "L 249.482346 447.395956 \r\n",
       "L 292.097606 437.910649 \r\n",
       "L 334.712865 434.481923 \r\n",
       "L 377.328125 422.594006 \r\n",
       "L 419.943385 419.941123 \r\n",
       "L 462.558644 411.456905 \r\n",
       "L 505.173904 409.304566 \r\n",
       "L 547.789164 400.069531 \r\n",
       "L 590.404424 399.093471 \r\n",
       "L 633.019683 398.91828 \r\n",
       "L 675.634943 393.162025 \r\n",
       "\" style=\"fill:none;stroke:#0000ff;stroke-linecap:square;stroke-width:1.5;\"/>\r\n",
       "   </g>\r\n",
       "   <g id=\"line2d_88\">\r\n",
       "    <path clip-path=\"url(#p4ebea9d42c)\" d=\"M 79.021307 638.528638 \r\n",
       "L 121.636567 506.535216 \r\n",
       "L 164.251826 481.583103 \r\n",
       "L 206.867086 472.973748 \r\n",
       "L 249.482346 471.672334 \r\n",
       "L 292.097606 465.440563 \r\n",
       "L 334.712865 469.269723 \r\n",
       "L 377.328125 463.763741 \r\n",
       "L 419.943385 465.615753 \r\n",
       "L 462.558644 465.46559 \r\n",
       "L 505.173904 468.393772 \r\n",
       "L 547.789164 466.691922 \r\n",
       "L 590.404424 470.245784 \r\n",
       "L 633.019683 473.824673 \r\n",
       "L 675.634943 473.098884 \r\n",
       "\" style=\"fill:none;stroke:#0000ff;stroke-dasharray:5.55,2.4;stroke-dashoffset:0;stroke-width:1.5;\"/>\r\n",
       "   </g>\r\n",
       "   <g id=\"line2d_89\">\r\n",
       "    <path clip-path=\"url(#p4ebea9d42c)\" d=\"M 79.021307 559.017242 \r\n",
       "L 121.636567 486.588542 \r\n",
       "L 164.251826 464.314339 \r\n",
       "L 206.867086 453.402482 \r\n",
       "L 249.482346 446.64514 \r\n",
       "L 292.097606 436.358963 \r\n",
       "L 334.712865 431.979204 \r\n",
       "L 377.328125 422.118489 \r\n",
       "L 419.943385 418.639709 \r\n",
       "L 462.558644 408.979212 \r\n",
       "L 505.173904 403.848637 \r\n",
       "L 547.789164 399.644069 \r\n",
       "L 590.404424 397.216431 \r\n",
       "L 633.019683 393.512406 \r\n",
       "L 675.634943 390.409034 \r\n",
       "\" style=\"fill:none;stroke:#ff0000;stroke-linecap:square;stroke-width:1.5;\"/>\r\n",
       "   </g>\r\n",
       "   <g id=\"line2d_90\">\r\n",
       "    <path clip-path=\"url(#p4ebea9d42c)\" d=\"M 79.021307 561.570016 \r\n",
       "L 121.636567 497.725643 \r\n",
       "L 164.251826 482.584191 \r\n",
       "L 206.867086 475.801821 \r\n",
       "L 249.482346 472.047742 \r\n",
       "L 292.097606 469.219669 \r\n",
       "L 334.712865 468.644043 \r\n",
       "L 377.328125 466.241433 \r\n",
       "L 419.943385 468.418799 \r\n",
       "L 462.558644 467.718037 \r\n",
       "L 505.173904 469.169615 \r\n",
       "L 547.789164 469.269723 \r\n",
       "L 590.404424 471.947633 \r\n",
       "L 633.019683 471.597252 \r\n",
       "L 675.634943 473.949809 \r\n",
       "\" style=\"fill:none;stroke:#ff0000;stroke-dasharray:5.55,2.4;stroke-dashoffset:0;stroke-width:1.5;\"/>\r\n",
       "   </g>\r\n",
       "   <g id=\"line2d_91\">\r\n",
       "    <path clip-path=\"url(#p4ebea9d42c)\" d=\"M 79.021307 656.973681 \r\n",
       "L 121.636567 579.114079 \r\n",
       "L 164.251826 515.094516 \r\n",
       "L 206.867086 496.77461 \r\n",
       "L 249.482346 481.407913 \r\n",
       "L 292.097606 469.219669 \r\n",
       "L 334.712865 469.895403 \r\n",
       "L 377.328125 457.356779 \r\n",
       "L 419.943385 455.704984 \r\n",
       "L 462.558644 450.399219 \r\n",
       "L 505.173904 449.623376 \r\n",
       "L 547.789164 446.845357 \r\n",
       "L 590.404424 442.815979 \r\n",
       "L 633.019683 440.113042 \r\n",
       "L 675.634943 440.48845 \r\n",
       "\" style=\"fill:none;stroke:#ffa500;stroke-linecap:square;stroke-width:1.5;\"/>\r\n",
       "   </g>\r\n",
       "   <g id=\"line2d_92\">\r\n",
       "    <path clip-path=\"url(#p4ebea9d42c)\" d=\"M 79.021307 660.227216 \r\n",
       "L 121.636567 589.625501 \r\n",
       "L 164.251826 518.573296 \r\n",
       "L 206.867086 502.981354 \r\n",
       "L 249.482346 489.091261 \r\n",
       "L 292.097606 484.961774 \r\n",
       "L 334.712865 483.435115 \r\n",
       "L 377.328125 473.123911 \r\n",
       "L 419.943385 475.676685 \r\n",
       "L 462.558644 470.871464 \r\n",
       "L 505.173904 470.446001 \r\n",
       "L 547.789164 470.471029 \r\n",
       "L 590.404424 467.492793 \r\n",
       "L 633.019683 466.666895 \r\n",
       "L 675.634943 465.815971 \r\n",
       "\" style=\"fill:none;stroke:#ffa500;stroke-dasharray:5.55,2.4;stroke-dashoffset:0;stroke-width:1.5;\"/>\r\n",
       "   </g>\r\n",
       "   <g id=\"line2d_93\">\r\n",
       "    <path clip-path=\"url(#p4ebea9d42c)\" d=\"M 79.021307 621.635282 \r\n",
       "L 121.636567 510.264268 \r\n",
       "L 164.251826 473.824673 \r\n",
       "L 206.867086 464.714774 \r\n",
       "L 249.482346 447.6212 \r\n",
       "L 292.097606 439.812716 \r\n",
       "L 334.712865 435.75831 \r\n",
       "L 377.328125 428.675614 \r\n",
       "L 419.943385 423.294767 \r\n",
       "L 462.558644 416.887806 \r\n",
       "L 505.173904 412.057557 \r\n",
       "L 547.789164 410.330681 \r\n",
       "L 590.404424 404.048855 \r\n",
       "L 633.019683 407.30239 \r\n",
       "L 675.634943 397.366594 \r\n",
       "\" style=\"fill:none;stroke:#000000;stroke-linecap:square;stroke-width:1.5;\"/>\r\n",
       "   </g>\r\n",
       "   <g id=\"line2d_94\">\r\n",
       "    <path clip-path=\"url(#p4ebea9d42c)\" d=\"M 79.021307 628.217434 \r\n",
       "L 121.636567 518.197888 \r\n",
       "L 164.251826 487.889956 \r\n",
       "L 206.867086 482.659272 \r\n",
       "L 249.482346 468.593989 \r\n",
       "L 292.097606 465.165263 \r\n",
       "L 334.712865 467.818146 \r\n",
       "L 377.328125 463.113034 \r\n",
       "L 419.943385 462.862762 \r\n",
       "L 462.558644 464.314339 \r\n",
       "L 505.173904 465.665807 \r\n",
       "L 547.789164 468.093445 \r\n",
       "L 590.404424 467.617929 \r\n",
       "L 633.019683 472.673422 \r\n",
       "L 675.634943 469.144587 \r\n",
       "\" style=\"fill:none;stroke:#000000;stroke-dasharray:5.55,2.4;stroke-dashoffset:0;stroke-width:1.5;\"/>\r\n",
       "   </g>\r\n",
       "   <g id=\"line2d_95\">\r\n",
       "    <path clip-path=\"url(#p4ebea9d42c)\" d=\"M 79.021307 640.83114 \r\n",
       "L 121.636567 549.106473 \r\n",
       "L 164.251826 519.774601 \r\n",
       "L 206.867086 490.893219 \r\n",
       "L 249.482346 477.278426 \r\n",
       "L 292.097606 466.216406 \r\n",
       "L 334.712865 463.23817 \r\n",
       "L 377.328125 455.679957 \r\n",
       "L 419.943385 452.376367 \r\n",
       "L 462.558644 451.125007 \r\n",
       "L 505.173904 447.846445 \r\n",
       "L 547.789164 445.493889 \r\n",
       "L 590.404424 441.439483 \r\n",
       "L 633.019683 443.541768 \r\n",
       "L 675.634943 437.410105 \r\n",
       "\" style=\"fill:none;stroke:#008000;stroke-linecap:square;stroke-width:1.5;\"/>\r\n",
       "   </g>\r\n",
       "   <g id=\"line2d_96\">\r\n",
       "    <path clip-path=\"url(#p4ebea9d42c)\" d=\"M 79.021307 642.933425 \r\n",
       "L 121.636567 553.936722 \r\n",
       "L 164.251826 526.65708 \r\n",
       "L 206.867086 503.682116 \r\n",
       "L 249.482346 490.642947 \r\n",
       "L 292.097606 480.782233 \r\n",
       "L 334.712865 478.955248 \r\n",
       "L 377.328125 474.82576 \r\n",
       "L 419.943385 472.648395 \r\n",
       "L 462.558644 471.046654 \r\n",
       "L 505.173904 469.74524 \r\n",
       "L 547.789164 467.117385 \r\n",
       "L 590.404424 465.665807 \r\n",
       "L 633.019683 468.593989 \r\n",
       "L 675.634943 466.566786 \r\n",
       "\" style=\"fill:none;stroke:#008000;stroke-dasharray:5.55,2.4;stroke-dashoffset:0;stroke-width:1.5;\"/>\r\n",
       "   </g>\r\n",
       "   <g id=\"patch_9\">\r\n",
       "    <path d=\"M 49.190625 673.718125 \r\n",
       "L 49.190625 376.918125 \r\n",
       "\" style=\"fill:none;stroke:#000000;stroke-linecap:square;stroke-linejoin:miter;stroke-width:0.8;\"/>\r\n",
       "   </g>\r\n",
       "   <g id=\"patch_10\">\r\n",
       "    <path d=\"M 705.465625 673.718125 \r\n",
       "L 705.465625 376.918125 \r\n",
       "\" style=\"fill:none;stroke:#000000;stroke-linecap:square;stroke-linejoin:miter;stroke-width:0.8;\"/>\r\n",
       "   </g>\r\n",
       "   <g id=\"patch_11\">\r\n",
       "    <path d=\"M 49.190625 673.718125 \r\n",
       "L 705.465625 673.718125 \r\n",
       "\" style=\"fill:none;stroke:#000000;stroke-linecap:square;stroke-linejoin:miter;stroke-width:0.8;\"/>\r\n",
       "   </g>\r\n",
       "   <g id=\"patch_12\">\r\n",
       "    <path d=\"M 49.190625 376.918125 \r\n",
       "L 705.465625 376.918125 \r\n",
       "\" style=\"fill:none;stroke:#000000;stroke-linecap:square;stroke-linejoin:miter;stroke-width:0.8;\"/>\r\n",
       "   </g>\r\n",
       "   <g id=\"text_42\">\r\n",
       "    <!-- Accuracy -->\r\n",
       "    <defs>\r\n",
       "     <path d=\"M 34.1875 63.1875 \r\n",
       "L 20.796875 26.90625 \r\n",
       "L 47.609375 26.90625 \r\n",
       "z\r\n",
       "M 28.609375 72.90625 \r\n",
       "L 39.796875 72.90625 \r\n",
       "L 67.578125 0 \r\n",
       "L 57.328125 0 \r\n",
       "L 50.6875 18.703125 \r\n",
       "L 17.828125 18.703125 \r\n",
       "L 11.1875 0 \r\n",
       "L 0.78125 0 \r\n",
       "z\r\n",
       "\" id=\"DejaVuSans-65\"/>\r\n",
       "     <path d=\"M 8.5 21.578125 \r\n",
       "L 8.5 54.6875 \r\n",
       "L 17.484375 54.6875 \r\n",
       "L 17.484375 21.921875 \r\n",
       "Q 17.484375 14.15625 20.5 10.265625 \r\n",
       "Q 23.53125 6.390625 29.59375 6.390625 \r\n",
       "Q 36.859375 6.390625 41.078125 11.03125 \r\n",
       "Q 45.3125 15.671875 45.3125 23.6875 \r\n",
       "L 45.3125 54.6875 \r\n",
       "L 54.296875 54.6875 \r\n",
       "L 54.296875 0 \r\n",
       "L 45.3125 0 \r\n",
       "L 45.3125 8.40625 \r\n",
       "Q 42.046875 3.421875 37.71875 1 \r\n",
       "Q 33.40625 -1.421875 27.6875 -1.421875 \r\n",
       "Q 18.265625 -1.421875 13.375 4.4375 \r\n",
       "Q 8.5 10.296875 8.5 21.578125 \r\n",
       "z\r\n",
       "M 31.109375 56 \r\n",
       "z\r\n",
       "\" id=\"DejaVuSans-117\"/>\r\n",
       "    </defs>\r\n",
       "    <g transform=\"translate(349.934375 370.918125)scale(0.12 -0.12)\">\r\n",
       "     <use xlink:href=\"#DejaVuSans-65\"/>\r\n",
       "     <use x=\"66.658203\" xlink:href=\"#DejaVuSans-99\"/>\r\n",
       "     <use x=\"121.638672\" xlink:href=\"#DejaVuSans-99\"/>\r\n",
       "     <use x=\"176.619141\" xlink:href=\"#DejaVuSans-117\"/>\r\n",
       "     <use x=\"239.998047\" xlink:href=\"#DejaVuSans-114\"/>\r\n",
       "     <use x=\"281.111328\" xlink:href=\"#DejaVuSans-97\"/>\r\n",
       "     <use x=\"342.390625\" xlink:href=\"#DejaVuSans-99\"/>\r\n",
       "     <use x=\"397.371094\" xlink:href=\"#DejaVuSans-121\"/>\r\n",
       "    </g>\r\n",
       "   </g>\r\n",
       "   <g id=\"legend_2\">\r\n",
       "    <g id=\"patch_13\">\r\n",
       "     <path d=\"M 575.248437 668.718125 \r\n",
       "L 698.465625 668.718125 \r\n",
       "Q 700.465625 668.718125 700.465625 666.718125 \r\n",
       "L 700.465625 520.936875 \r\n",
       "Q 700.465625 518.936875 698.465625 518.936875 \r\n",
       "L 575.248437 518.936875 \r\n",
       "Q 573.248437 518.936875 573.248437 520.936875 \r\n",
       "L 573.248437 666.718125 \r\n",
       "Q 573.248437 668.718125 575.248437 668.718125 \r\n",
       "z\r\n",
       "\" style=\"fill:#ffffff;opacity:0.8;stroke:#cccccc;stroke-linejoin:miter;\"/>\r\n",
       "    </g>\r\n",
       "    <g id=\"line2d_97\">\r\n",
       "     <path d=\"M 577.248437 527.035312 \r\n",
       "L 597.248437 527.035312 \r\n",
       "\" style=\"fill:none;stroke:#0000ff;stroke-linecap:square;stroke-width:1.5;\"/>\r\n",
       "    </g>\r\n",
       "    <g id=\"line2d_98\"/>\r\n",
       "    <g id=\"text_43\">\r\n",
       "     <!-- Base -->\r\n",
       "     <g transform=\"translate(605.248437 530.535312)scale(0.1 -0.1)\">\r\n",
       "      <use xlink:href=\"#DejaVuSans-66\"/>\r\n",
       "      <use x=\"68.603516\" xlink:href=\"#DejaVuSans-97\"/>\r\n",
       "      <use x=\"129.882812\" xlink:href=\"#DejaVuSans-115\"/>\r\n",
       "      <use x=\"181.982422\" xlink:href=\"#DejaVuSans-101\"/>\r\n",
       "     </g>\r\n",
       "    </g>\r\n",
       "    <g id=\"line2d_99\">\r\n",
       "     <path d=\"M 577.248437 541.713437 \r\n",
       "L 597.248437 541.713437 \r\n",
       "\" style=\"fill:none;stroke:#0000ff;stroke-dasharray:5.55,2.4;stroke-dashoffset:0;stroke-width:1.5;\"/>\r\n",
       "    </g>\r\n",
       "    <g id=\"line2d_100\"/>\r\n",
       "    <g id=\"text_44\">\r\n",
       "     <!-- Base -->\r\n",
       "     <g transform=\"translate(605.248437 545.213437)scale(0.1 -0.1)\">\r\n",
       "      <use xlink:href=\"#DejaVuSans-66\"/>\r\n",
       "      <use x=\"68.603516\" xlink:href=\"#DejaVuSans-97\"/>\r\n",
       "      <use x=\"129.882812\" xlink:href=\"#DejaVuSans-115\"/>\r\n",
       "      <use x=\"181.982422\" xlink:href=\"#DejaVuSans-101\"/>\r\n",
       "     </g>\r\n",
       "    </g>\r\n",
       "    <g id=\"line2d_101\">\r\n",
       "     <path d=\"M 577.248437 556.391562 \r\n",
       "L 597.248437 556.391562 \r\n",
       "\" style=\"fill:none;stroke:#ff0000;stroke-linecap:square;stroke-width:1.5;\"/>\r\n",
       "    </g>\r\n",
       "    <g id=\"line2d_102\"/>\r\n",
       "    <g id=\"text_45\">\r\n",
       "     <!-- VarDropCheck -->\r\n",
       "     <g transform=\"translate(605.248437 559.891562)scale(0.1 -0.1)\">\r\n",
       "      <use xlink:href=\"#DejaVuSans-86\"/>\r\n",
       "      <use x=\"60.658203\" xlink:href=\"#DejaVuSans-97\"/>\r\n",
       "      <use x=\"121.9375\" xlink:href=\"#DejaVuSans-114\"/>\r\n",
       "      <use x=\"163.050781\" xlink:href=\"#DejaVuSans-68\"/>\r\n",
       "      <use x=\"240.052734\" xlink:href=\"#DejaVuSans-114\"/>\r\n",
       "      <use x=\"278.916016\" xlink:href=\"#DejaVuSans-111\"/>\r\n",
       "      <use x=\"340.097656\" xlink:href=\"#DejaVuSans-112\"/>\r\n",
       "      <use x=\"403.574219\" xlink:href=\"#DejaVuSans-67\"/>\r\n",
       "      <use x=\"473.398438\" xlink:href=\"#DejaVuSans-104\"/>\r\n",
       "      <use x=\"536.777344\" xlink:href=\"#DejaVuSans-101\"/>\r\n",
       "      <use x=\"598.300781\" xlink:href=\"#DejaVuSans-99\"/>\r\n",
       "      <use x=\"653.28125\" xlink:href=\"#DejaVuSans-107\"/>\r\n",
       "     </g>\r\n",
       "    </g>\r\n",
       "    <g id=\"line2d_103\">\r\n",
       "     <path d=\"M 577.248437 571.069687 \r\n",
       "L 597.248437 571.069687 \r\n",
       "\" style=\"fill:none;stroke:#ff0000;stroke-dasharray:5.55,2.4;stroke-dashoffset:0;stroke-width:1.5;\"/>\r\n",
       "    </g>\r\n",
       "    <g id=\"line2d_104\"/>\r\n",
       "    <g id=\"text_46\">\r\n",
       "     <!-- VarDropCheck -->\r\n",
       "     <g transform=\"translate(605.248437 574.569687)scale(0.1 -0.1)\">\r\n",
       "      <use xlink:href=\"#DejaVuSans-86\"/>\r\n",
       "      <use x=\"60.658203\" xlink:href=\"#DejaVuSans-97\"/>\r\n",
       "      <use x=\"121.9375\" xlink:href=\"#DejaVuSans-114\"/>\r\n",
       "      <use x=\"163.050781\" xlink:href=\"#DejaVuSans-68\"/>\r\n",
       "      <use x=\"240.052734\" xlink:href=\"#DejaVuSans-114\"/>\r\n",
       "      <use x=\"278.916016\" xlink:href=\"#DejaVuSans-111\"/>\r\n",
       "      <use x=\"340.097656\" xlink:href=\"#DejaVuSans-112\"/>\r\n",
       "      <use x=\"403.574219\" xlink:href=\"#DejaVuSans-67\"/>\r\n",
       "      <use x=\"473.398438\" xlink:href=\"#DejaVuSans-104\"/>\r\n",
       "      <use x=\"536.777344\" xlink:href=\"#DejaVuSans-101\"/>\r\n",
       "      <use x=\"598.300781\" xlink:href=\"#DejaVuSans-99\"/>\r\n",
       "      <use x=\"653.28125\" xlink:href=\"#DejaVuSans-107\"/>\r\n",
       "     </g>\r\n",
       "    </g>\r\n",
       "    <g id=\"line2d_105\">\r\n",
       "     <path d=\"M 577.248437 585.747812 \r\n",
       "L 597.248437 585.747812 \r\n",
       "\" style=\"fill:none;stroke:#ffa500;stroke-linecap:square;stroke-width:1.5;\"/>\r\n",
       "    </g>\r\n",
       "    <g id=\"line2d_106\"/>\r\n",
       "    <g id=\"text_47\">\r\n",
       "     <!-- VarDrop -->\r\n",
       "     <g transform=\"translate(605.248437 589.247812)scale(0.1 -0.1)\">\r\n",
       "      <use xlink:href=\"#DejaVuSans-86\"/>\r\n",
       "      <use x=\"60.658203\" xlink:href=\"#DejaVuSans-97\"/>\r\n",
       "      <use x=\"121.9375\" xlink:href=\"#DejaVuSans-114\"/>\r\n",
       "      <use x=\"163.050781\" xlink:href=\"#DejaVuSans-68\"/>\r\n",
       "      <use x=\"240.052734\" xlink:href=\"#DejaVuSans-114\"/>\r\n",
       "      <use x=\"278.916016\" xlink:href=\"#DejaVuSans-111\"/>\r\n",
       "      <use x=\"340.097656\" xlink:href=\"#DejaVuSans-112\"/>\r\n",
       "     </g>\r\n",
       "    </g>\r\n",
       "    <g id=\"line2d_107\">\r\n",
       "     <path d=\"M 577.248437 600.425937 \r\n",
       "L 597.248437 600.425937 \r\n",
       "\" style=\"fill:none;stroke:#ffa500;stroke-dasharray:5.55,2.4;stroke-dashoffset:0;stroke-width:1.5;\"/>\r\n",
       "    </g>\r\n",
       "    <g id=\"line2d_108\"/>\r\n",
       "    <g id=\"text_48\">\r\n",
       "     <!-- VarDrop -->\r\n",
       "     <g transform=\"translate(605.248437 603.925937)scale(0.1 -0.1)\">\r\n",
       "      <use xlink:href=\"#DejaVuSans-86\"/>\r\n",
       "      <use x=\"60.658203\" xlink:href=\"#DejaVuSans-97\"/>\r\n",
       "      <use x=\"121.9375\" xlink:href=\"#DejaVuSans-114\"/>\r\n",
       "      <use x=\"163.050781\" xlink:href=\"#DejaVuSans-68\"/>\r\n",
       "      <use x=\"240.052734\" xlink:href=\"#DejaVuSans-114\"/>\r\n",
       "      <use x=\"278.916016\" xlink:href=\"#DejaVuSans-111\"/>\r\n",
       "      <use x=\"340.097656\" xlink:href=\"#DejaVuSans-112\"/>\r\n",
       "     </g>\r\n",
       "    </g>\r\n",
       "    <g id=\"line2d_109\">\r\n",
       "     <path d=\"M 577.248437 615.104062 \r\n",
       "L 597.248437 615.104062 \r\n",
       "\" style=\"fill:none;stroke:#000000;stroke-linecap:square;stroke-width:1.5;\"/>\r\n",
       "    </g>\r\n",
       "    <g id=\"line2d_110\"/>\r\n",
       "    <g id=\"text_49\">\r\n",
       "     <!-- FastVarDropCheck -->\r\n",
       "     <g transform=\"translate(605.248437 618.604062)scale(0.1 -0.1)\">\r\n",
       "      <use xlink:href=\"#DejaVuSans-70\"/>\r\n",
       "      <use x=\"48.394531\" xlink:href=\"#DejaVuSans-97\"/>\r\n",
       "      <use x=\"109.673828\" xlink:href=\"#DejaVuSans-115\"/>\r\n",
       "      <use x=\"161.773438\" xlink:href=\"#DejaVuSans-116\"/>\r\n",
       "      <use x=\"200.982422\" xlink:href=\"#DejaVuSans-86\"/>\r\n",
       "      <use x=\"261.640625\" xlink:href=\"#DejaVuSans-97\"/>\r\n",
       "      <use x=\"322.919922\" xlink:href=\"#DejaVuSans-114\"/>\r\n",
       "      <use x=\"364.033203\" xlink:href=\"#DejaVuSans-68\"/>\r\n",
       "      <use x=\"441.035156\" xlink:href=\"#DejaVuSans-114\"/>\r\n",
       "      <use x=\"479.898438\" xlink:href=\"#DejaVuSans-111\"/>\r\n",
       "      <use x=\"541.080078\" xlink:href=\"#DejaVuSans-112\"/>\r\n",
       "      <use x=\"604.556641\" xlink:href=\"#DejaVuSans-67\"/>\r\n",
       "      <use x=\"674.380859\" xlink:href=\"#DejaVuSans-104\"/>\r\n",
       "      <use x=\"737.759766\" xlink:href=\"#DejaVuSans-101\"/>\r\n",
       "      <use x=\"799.283203\" xlink:href=\"#DejaVuSans-99\"/>\r\n",
       "      <use x=\"854.263672\" xlink:href=\"#DejaVuSans-107\"/>\r\n",
       "     </g>\r\n",
       "    </g>\r\n",
       "    <g id=\"line2d_111\">\r\n",
       "     <path d=\"M 577.248437 629.782187 \r\n",
       "L 597.248437 629.782187 \r\n",
       "\" style=\"fill:none;stroke:#000000;stroke-dasharray:5.55,2.4;stroke-dashoffset:0;stroke-width:1.5;\"/>\r\n",
       "    </g>\r\n",
       "    <g id=\"line2d_112\"/>\r\n",
       "    <g id=\"text_50\">\r\n",
       "     <!-- FastVarDropCheck -->\r\n",
       "     <g transform=\"translate(605.248437 633.282187)scale(0.1 -0.1)\">\r\n",
       "      <use xlink:href=\"#DejaVuSans-70\"/>\r\n",
       "      <use x=\"48.394531\" xlink:href=\"#DejaVuSans-97\"/>\r\n",
       "      <use x=\"109.673828\" xlink:href=\"#DejaVuSans-115\"/>\r\n",
       "      <use x=\"161.773438\" xlink:href=\"#DejaVuSans-116\"/>\r\n",
       "      <use x=\"200.982422\" xlink:href=\"#DejaVuSans-86\"/>\r\n",
       "      <use x=\"261.640625\" xlink:href=\"#DejaVuSans-97\"/>\r\n",
       "      <use x=\"322.919922\" xlink:href=\"#DejaVuSans-114\"/>\r\n",
       "      <use x=\"364.033203\" xlink:href=\"#DejaVuSans-68\"/>\r\n",
       "      <use x=\"441.035156\" xlink:href=\"#DejaVuSans-114\"/>\r\n",
       "      <use x=\"479.898438\" xlink:href=\"#DejaVuSans-111\"/>\r\n",
       "      <use x=\"541.080078\" xlink:href=\"#DejaVuSans-112\"/>\r\n",
       "      <use x=\"604.556641\" xlink:href=\"#DejaVuSans-67\"/>\r\n",
       "      <use x=\"674.380859\" xlink:href=\"#DejaVuSans-104\"/>\r\n",
       "      <use x=\"737.759766\" xlink:href=\"#DejaVuSans-101\"/>\r\n",
       "      <use x=\"799.283203\" xlink:href=\"#DejaVuSans-99\"/>\r\n",
       "      <use x=\"854.263672\" xlink:href=\"#DejaVuSans-107\"/>\r\n",
       "     </g>\r\n",
       "    </g>\r\n",
       "    <g id=\"line2d_113\">\r\n",
       "     <path d=\"M 577.248437 644.460312 \r\n",
       "L 597.248437 644.460312 \r\n",
       "\" style=\"fill:none;stroke:#008000;stroke-linecap:square;stroke-width:1.5;\"/>\r\n",
       "    </g>\r\n",
       "    <g id=\"line2d_114\"/>\r\n",
       "    <g id=\"text_51\">\r\n",
       "     <!-- FastVarDrop -->\r\n",
       "     <g transform=\"translate(605.248437 647.960312)scale(0.1 -0.1)\">\r\n",
       "      <use xlink:href=\"#DejaVuSans-70\"/>\r\n",
       "      <use x=\"48.394531\" xlink:href=\"#DejaVuSans-97\"/>\r\n",
       "      <use x=\"109.673828\" xlink:href=\"#DejaVuSans-115\"/>\r\n",
       "      <use x=\"161.773438\" xlink:href=\"#DejaVuSans-116\"/>\r\n",
       "      <use x=\"200.982422\" xlink:href=\"#DejaVuSans-86\"/>\r\n",
       "      <use x=\"261.640625\" xlink:href=\"#DejaVuSans-97\"/>\r\n",
       "      <use x=\"322.919922\" xlink:href=\"#DejaVuSans-114\"/>\r\n",
       "      <use x=\"364.033203\" xlink:href=\"#DejaVuSans-68\"/>\r\n",
       "      <use x=\"441.035156\" xlink:href=\"#DejaVuSans-114\"/>\r\n",
       "      <use x=\"479.898438\" xlink:href=\"#DejaVuSans-111\"/>\r\n",
       "      <use x=\"541.080078\" xlink:href=\"#DejaVuSans-112\"/>\r\n",
       "     </g>\r\n",
       "    </g>\r\n",
       "    <g id=\"line2d_115\">\r\n",
       "     <path d=\"M 577.248437 659.138437 \r\n",
       "L 597.248437 659.138437 \r\n",
       "\" style=\"fill:none;stroke:#008000;stroke-dasharray:5.55,2.4;stroke-dashoffset:0;stroke-width:1.5;\"/>\r\n",
       "    </g>\r\n",
       "    <g id=\"line2d_116\"/>\r\n",
       "    <g id=\"text_52\">\r\n",
       "     <!-- FastVarDrop -->\r\n",
       "     <g transform=\"translate(605.248437 662.638437)scale(0.1 -0.1)\">\r\n",
       "      <use xlink:href=\"#DejaVuSans-70\"/>\r\n",
       "      <use x=\"48.394531\" xlink:href=\"#DejaVuSans-97\"/>\r\n",
       "      <use x=\"109.673828\" xlink:href=\"#DejaVuSans-115\"/>\r\n",
       "      <use x=\"161.773438\" xlink:href=\"#DejaVuSans-116\"/>\r\n",
       "      <use x=\"200.982422\" xlink:href=\"#DejaVuSans-86\"/>\r\n",
       "      <use x=\"261.640625\" xlink:href=\"#DejaVuSans-97\"/>\r\n",
       "      <use x=\"322.919922\" xlink:href=\"#DejaVuSans-114\"/>\r\n",
       "      <use x=\"364.033203\" xlink:href=\"#DejaVuSans-68\"/>\r\n",
       "      <use x=\"441.035156\" xlink:href=\"#DejaVuSans-114\"/>\r\n",
       "      <use x=\"479.898438\" xlink:href=\"#DejaVuSans-111\"/>\r\n",
       "      <use x=\"541.080078\" xlink:href=\"#DejaVuSans-112\"/>\r\n",
       "     </g>\r\n",
       "    </g>\r\n",
       "   </g>\r\n",
       "  </g>\r\n",
       " </g>\r\n",
       " <defs>\r\n",
       "  <clipPath id=\"pddb4fe7396\">\r\n",
       "   <rect height=\"296.8\" width=\"656.275\" x=\"49.190625\" y=\"22.318125\"/>\r\n",
       "  </clipPath>\r\n",
       "  <clipPath id=\"p4ebea9d42c\">\r\n",
       "   <rect height=\"296.8\" width=\"656.275\" x=\"49.190625\" y=\"376.918125\"/>\r\n",
       "  </clipPath>\r\n",
       " </defs>\r\n",
       "</svg>\r\n"
      ],
      "text/plain": [
       "<Figure size 720x720 with 2 Axes>"
      ]
     },
     "metadata": {
      "needs_background": "light"
     },
     "output_type": "display_data"
    }
   ],
   "source": [
    "fig, axes = plt.subplots(2, 1, figsize=(10, 10))\n",
    "\n",
    "# YOUR CODE HERE\n",
    "axes[0].plot(np.arange(1, 16), train_losses_pure, color='blue', ls='-', label='Base')\n",
    "axes[0].plot(np.arange(1, 16), test_losses_pure, color='blue', ls='--', label='Base')\n",
    "axes[0].plot(np.arange(1, 16), train_losses_do11, color='r', ls='-', label='VarDropCheck')\n",
    "axes[0].plot(np.arange(1, 16), test_losses_do11, color='r', ls='--', label='VarDropCheck')\n",
    "axes[0].plot(np.arange(1, 16), train_losses_do12, color='orange', ls='-', label='VarDrop')\n",
    "axes[0].plot(np.arange(1, 16), test_losses_do12, color='orange', ls='--', label='VarDrop')\n",
    "axes[0].plot(np.arange(1, 16), train_losses_do21, color='black', ls='-', label='FastVarDropCheck')\n",
    "axes[0].plot(np.arange(1, 16), test_losses_do21, color='black', ls='--', label='FastVarDropCheck')\n",
    "axes[0].plot(np.arange(1, 16), train_losses_do22, color='g', ls='-', label='FastVarDrop')\n",
    "axes[0].plot(np.arange(1, 16), test_losses_do22, color='g', ls='--', label='FastVarDrop')\n",
    "\n",
    "axes[1].plot(np.arange(1, 16), train_accuracies_pure, color='blue', ls='-', label='Base')\n",
    "axes[1].plot(np.arange(1, 16), test_accuracies_pure, color='blue', ls='--', label='Base')\n",
    "axes[1].plot(np.arange(1, 16), train_accuracies_do11, color='r', ls='-', label='VarDropCheck')\n",
    "axes[1].plot(np.arange(1, 16), test_accuracies_do11, color='r', ls='--', label='VarDropCheck')\n",
    "axes[1].plot(np.arange(1, 16), train_accuracies_do12, color='orange', ls='-', label='VarDrop')\n",
    "axes[1].plot(np.arange(1, 16), test_accuracies_do12, color='orange', ls='--', label='VarDrop')\n",
    "axes[1].plot(np.arange(1, 16), train_accuracies_do21, color='black', ls='-', label='FastVarDropCheck')\n",
    "axes[1].plot(np.arange(1, 16), test_accuracies_do21, color='black', ls='--', label='FastVarDropCheck')\n",
    "axes[1].plot(np.arange(1, 16), train_accuracies_do22, color='g', ls='-', label='FastVarDrop')\n",
    "axes[1].plot(np.arange(1, 16), test_accuracies_do22, color='g', ls='--', label='FastVarDrop')\n",
    "\n",
    "axes[0].legend()\n",
    "axes[0].grid(True)\n",
    "axes[0].set_xlabel('Epoch')\n",
    "axes[0].set_title('CrossEntropy Loss')\n",
    "\n",
    "axes[1].legend()\n",
    "axes[1].grid(True)\n",
    "axes[1].set_xlabel('Epoch')\n",
    "axes[1].set_title('Accuracy')\n",
    "\n",
    "fig.tight_layout()\n",
    "plt.show()"
   ]
  },
  {
   "cell_type": "markdown",
   "metadata": {},
   "source": [
    "Сделайте итоговые выводы о качестве работы моделей с разными реализациями DropOut:"
   ]
  },
  {
   "cell_type": "markdown",
   "metadata": {},
   "source": [
    "**Ответ:**\n",
    "\n",
    "Наилучшей реализацией DropOut оказалась Fast Variational Dropout. С точки зрения качества на тесте модели примерно равны, но Fast Variational Dropout обучается намного быстрее других реализаций."
   ]
  },
  {
   "cell_type": "markdown",
   "metadata": {
    "collapsed": true
   },
   "source": [
    "## Бонус. Zoneout (2 балла)"
   ]
  },
  {
   "cell_type": "markdown",
   "metadata": {
    "collapsed": true
   },
   "source": [
    "Это еще одна модификация идеи дропаута применительно к рекуррентным нейросетям. В Zoneout на каждом временном шаге с вероятностью p компонента скрытого состояния обновляется, а с вероятностью 1-p берется с предыдущего шага. \n",
    "В Виде формул (m^t_h - бинарная маска):\n",
    " \n",
    "(сначала обычный рекуррентный переход, например LSTM)\n",
    "$$\n",
    "i = \\sigma(h_{t-1}W^i + x_t U^i+b_i) \\quad\n",
    "o = \\sigma(h_{t-1}W^o + x_t U^o+b_o) \n",
    "$$\n",
    "$$\n",
    "f = \\sigma(h_{t-1}W^f + x_t U^f+b_f) \\quad \n",
    "g = tanh(h_{t-1} W^g + x_t U^g+b_g) \n",
    "$$\n",
    "$$\n",
    "c_t = f \\odot c_{t-1} +  i \\odot  g \\quad\n",
    "h_t =  o \\odot tanh(c_t) \\nonumber\n",
    "$$\n",
    "Затем Zoneout:\n",
    "$$\n",
    "h_t = h_t * m_h^t + h_{t-1}*(1-m_h^t)\n",
    "$$\n",
    "В этом методе маска уже должна быть разная во все моменты времени (иначе метод упрощается до дропаута Гала и Гарамани). На входы $x_t$ вновь можно накладывать маску до начала работы рекуррентного слоя.  \n",
    "\n",
    "Если у вас осталось время, вы можете реализовать этот метод. Выберите основу из трех рассмотренных случаев самостоятельно."
   ]
  },
  {
   "cell_type": "markdown",
   "metadata": {
    "ExecuteTime": {
     "end_time": "2021-03-31T16:05:00.702763Z",
     "start_time": "2021-03-31T16:05:00.674835Z"
    }
   },
   "source": [
    "# Часть 2. Language Modeling с помощью LSTM. (3 балла)"
   ]
  },
  {
   "cell_type": "markdown",
   "metadata": {},
   "source": [
    "Во второй части мы попробуем обучить модель для генерации отзывов по их началу."
   ]
  },
  {
   "cell_type": "markdown",
   "metadata": {},
   "source": [
    "Концептуально модель будет выглядеть следующим образом:\n",
    "    \n",
    "![image info](https://blog.feedly.com/wp-content/uploads/2019/03/Screen-Shot-2019-03-06-at-12.08.35-PM.png)"
   ]
  },
  {
   "cell_type": "markdown",
   "metadata": {},
   "source": [
    "В процессе обучения будем тренировать сеть предсказывать вероятность следующего символа при условии всех предыдущих. Эту вероятность можно моделировать с помощью скрытого состояния $h^{(t)}$ пропуская его через линейный слой с выходной размерностью равной размерности словаря:\n",
    "$$\n",
    "p(x^{t}|x^{t-1}, ..., x^{1}) = SoftMax(Linear(h^{(t)}))\n",
    "$$"
   ]
  },
  {
   "cell_type": "markdown",
   "metadata": {},
   "source": [
    "Обратите внимание, что для вычисления $p(x^{t}|x^{t-1}, ..., x^{1})$ для всех моментов времени достаточно сделать один проход по RNN, а затем применить линейное преобразование ко всем скрытым состояниям."
   ]
  },
  {
   "cell_type": "markdown",
   "metadata": {
    "ExecuteTime": {
     "end_time": "2021-04-02T00:37:56.100520Z",
     "start_time": "2021-04-02T00:37:56.072747Z"
    }
   },
   "source": [
    "В качестве функции потерь необходимо использовать `CrossEntropy`."
   ]
  },
  {
   "cell_type": "markdown",
   "metadata": {},
   "source": [
    "Рассмотрим другой важный момент. Для того, чтобы решить данную задачу, модель должна уметь определять момент начала генерации предложения и оповещать о завершении генерации -- конце предложения. Для этого добавим в словарь вспомогательные токены `<sos>`, `<eos>`. Добавив `<sos>` в начало каждого предложения и `<eos>` в конец.\n",
    "\n",
    "Модель сможет начинать генерацию как только ей будет передан токен `<sos>` и заканчивать генерацию, как только на очередном месте самым вероятным токеном оказывается `<eos>`."
   ]
  },
  {
   "cell_type": "markdown",
   "metadata": {},
   "source": [
    "Для решения этой задачи мы воспользуемся уже реализованной LSTM с дропаутом `FastRNNLayer` и классом `RNNClassifier`, то есть архитектура сети принципиально не поменяется. "
   ]
  },
  {
   "cell_type": "markdown",
   "metadata": {},
   "source": [
    "## Реализация модели и цикла обучения (1 балл)"
   ]
  },
  {
   "cell_type": "markdown",
   "metadata": {},
   "source": [
    "**Не используйте циклы в `RNNLM`, `LMCrossEntropyLoss`, `LMAccuracy`**"
   ]
  },
  {
   "cell_type": "code",
   "execution_count": 149,
   "metadata": {
    "ExecuteTime": {
     "end_time": "2021-04-02T02:07:02.815198Z",
     "start_time": "2021-04-02T02:07:02.787445Z"
    }
   },
   "outputs": [],
   "source": [
    "class RNNLM(RNNClassifier):\n",
    "    def __init__(\n",
    "        self, embedding_dim, hidden_dim, vocab, dropout=0.5, layers_dropout=0.5, num_layers=1\n",
    "    ):\n",
    "        super().__init__(\n",
    "            embedding_dim=embedding_dim, hidden_dim=hidden_dim, output_size=len(vocab), vocab=vocab,\n",
    "            rec_layer=FastRNNLayer, dropout=dropout, layers_dropout=layers_dropout, num_layers=num_layers\n",
    "        )\n",
    "    \n",
    "    def forward(self, tokens, tokens_lens):\n",
    "        \"\"\"\n",
    "        :param torch.tensor(dtype=torch.long) tokens: Batch of texts represented with tokens. Shape: [T, B]\n",
    "        :param torch.tensor(dtype=torch.long) tokens_lens: Number of non-padding tokens for each object in batch. Shape: [B]\n",
    "        :return torch.tensor: Distribution of next token for each time step. Shape: [T, B, V], V -- size of vocabulary\n",
    "        \"\"\"\n",
    "        # Make embeddings for all tokens\n",
    "        # YOUR CODE HERE\n",
    "        \n",
    "        # Forward pass embeddings through network\n",
    "        # YOUR CODE HERE\n",
    "        \n",
    "        # Take all hidden states from the last layer of LSTM for each step and perform linear transformation\n",
    "        # YOUR CODE HERE\n",
    "        \n",
    "        pass"
   ]
  },
  {
   "cell_type": "markdown",
   "metadata": {},
   "source": [
    "Реализуем функцию потерь для данной задачи. \n",
    "\n",
    "Моменты на которые нужно обратить внимание:\n",
    "1. Распределение вероятности следующего токена для последнего токена в последовательности не участвует в подсчёте функции потерь.\n",
    "2. Необходимо учитывать, что в одном батче могут быть тексты разной длины."
   ]
  },
  {
   "cell_type": "markdown",
   "metadata": {},
   "source": [
    "Для решения второй проблемы можно воспользоваться функцией `torch.nn.utils.rnn.pack_padded_sequence`. \n",
    "\n",
    "Принимая на вход батч тензоров и длину каждого тензора без учёта паддинга эта функция позволяет получить все элементы в тензорах, которые не относятся к паддингу в виде плоского массива:"
   ]
  },
  {
   "cell_type": "code",
   "execution_count": 55,
   "metadata": {
    "ExecuteTime": {
     "end_time": "2021-04-02T00:54:40.004897Z",
     "start_time": "2021-04-02T00:54:39.977287Z"
    }
   },
   "outputs": [],
   "source": [
    "padded_tensors = torch.tensor([\n",
    "    [[1, 11, 111], [2, 22, 222], [3, 33, 333]],\n",
    "    [[4, 44, 444], [5, 55, 555], [6, 66, 666]],\n",
    "    [[7, 77, 777], [0, 0, 0], [8, 88, 888]],\n",
    "    [[9, 99, 999], [0, 0, 0], [0, 0, 0]]\n",
    "])\n",
    "tensors_lens = torch.tensor([4, 2, 3])"
   ]
  },
  {
   "cell_type": "markdown",
   "metadata": {},
   "source": [
    "Обратите внимание, что `torch.nn.utils.rnn.pack_padded_sequence` автоматически переупорядочивает тензоры в батче по убыванию их длины."
   ]
  },
  {
   "cell_type": "code",
   "execution_count": 54,
   "metadata": {
    "ExecuteTime": {
     "end_time": "2021-04-02T00:54:24.517023Z",
     "start_time": "2021-04-02T00:54:24.490588Z"
    }
   },
   "outputs": [
    {
     "data": {
      "text/plain": [
       "PackedSequence(data=tensor([[  1,  11, 111],\n",
       "        [  3,  33, 333],\n",
       "        [  2,  22, 222],\n",
       "        [  4,  44, 444],\n",
       "        [  6,  66, 666],\n",
       "        [  5,  55, 555],\n",
       "        [  7,  77, 777],\n",
       "        [  8,  88, 888],\n",
       "        [  9,  99, 999]]), batch_sizes=tensor([3, 3, 2, 1]), sorted_indices=tensor([0, 2, 1]), unsorted_indices=tensor([0, 2, 1]))"
      ]
     },
     "execution_count": 54,
     "metadata": {},
     "output_type": "execute_result"
    }
   ],
   "source": [
    "torch.nn.utils.rnn.pack_padded_sequence(padded_tensors, tensors_lens, batch_first=False, enforce_sorted=False)"
   ]
  },
  {
   "cell_type": "code",
   "execution_count": 150,
   "metadata": {
    "ExecuteTime": {
     "end_time": "2021-04-02T02:07:06.289671Z",
     "start_time": "2021-04-02T02:07:06.262883Z"
    }
   },
   "outputs": [],
   "source": [
    "class LMCrossEntropyLoss(torch.nn.CrossEntropyLoss):\n",
    "    def __init__(self, *args, **kwargs):\n",
    "        super().__init__(*args, **kwargs)\n",
    "        \n",
    "    def forward(self, outputs, tokens, tokens_lens):\n",
    "        \"\"\"\n",
    "        :param torch.tensor outputs: Output from RNNLM.forward. Shape: [T, B, V]\n",
    "        :param torch.tensor tokens: Batch of tokens. Shape: [T, B]\n",
    "        :param torch.tensor tokens_lens: Length of each sequence in batch\n",
    "        :return torch.tensor: CrossEntropyLoss between corresponding logits and tokens\n",
    "        \"\"\"\n",
    "        # Use torch.nn.utils.rnn.pack_padded_sequence().data to remove padding and flatten logits and tokens\n",
    "        # Do not forget specify enforce_sorted=False and correct value of batch_first \n",
    "        # YOUR CODE HERE\n",
    "        packed_outputs = None\n",
    "        packed_tokens = None\n",
    "        \n",
    "        # Use super().forward(..., ...) to compute CrossEntropyLoss\n",
    "        # YOUR CODE HERE\n",
    "        \n",
    "        pass"
   ]
  },
  {
   "cell_type": "markdown",
   "metadata": {},
   "source": [
    "Для оценки качества нам также необходимо вычислять долю правильно предсказанных токенов. Реализуйте класс для вычисления точности."
   ]
  },
  {
   "cell_type": "code",
   "execution_count": 151,
   "metadata": {
    "ExecuteTime": {
     "end_time": "2021-04-02T02:07:07.335981Z",
     "start_time": "2021-04-02T02:07:07.309586Z"
    }
   },
   "outputs": [],
   "source": [
    "class LMAccuracy(torch.nn.Module):\n",
    "    def __init__(self):\n",
    "        super().__init__()\n",
    "        \n",
    "    def forward(self, outputs, tokens, tokens_lens):\n",
    "        \"\"\"\n",
    "        :param torch.tensor outputs: Output from RNNLM.forward. Shape: [T, B, V]\n",
    "        :param torch.tensor tokens: Batch of tokens. Shape: [T, B]\n",
    "        :param torch.tensor tokens_lens: Length of each sequence in batch\n",
    "        :return torch.tensor: Accuracy for given logits and tokens\n",
    "        \"\"\"\n",
    "        # Use torch.nn.utils.rnn.pack_padded_sequence().data to remove padding and flatten logits and tokens\n",
    "        # Do not forget specify enforce_sorted=False and correct value of batch_first \n",
    "        # YOUR CODE HERE\n",
    "        packed_outputs = None\n",
    "        packed_tokens = None\n",
    "        \n",
    "        pass"
   ]
  },
  {
   "cell_type": "markdown",
   "metadata": {},
   "source": [
    "Модифицируйте функции `train_epoch`, `evaluate`, `train` для обучения LM.\n",
    "\n",
    "**При вычислении точности, обратите внимание на то, что мы не предсказываем первый токен в каждой последовательности и токены, относящиеся к паддингу.**"
   ]
  },
  {
   "cell_type": "code",
   "execution_count": 155,
   "metadata": {
    "ExecuteTime": {
     "end_time": "2021-04-02T02:07:31.492984Z",
     "start_time": "2021-04-02T02:07:31.459655Z"
    }
   },
   "outputs": [],
   "source": [
    "def train_epoch_lm(dataloader, model, loss_fn, optimizer, device):\n",
    "    model.train()\n",
    "    for idx, data in enumerate(dataloader):\n",
    "        # 1. Take data from batch\n",
    "        # 2. Perform forward pass\n",
    "        # 3. Evaluate loss\n",
    "        # 4. Make optimizer step\n",
    "        # YOUR CODE HERE\n",
    "        \n",
    "        pass\n",
    "    \n",
    "def evaluate_lm(dataloader, model, loss_fn, device):\n",
    "    model.eval()\n",
    "    \n",
    "    total_tokens = 0\n",
    "    total_loss = 0.0\n",
    "    total_accuracy = 0.0\n",
    "    \n",
    "    accuracy_fn = LMAccuracy()\n",
    "    with torch.no_grad():\n",
    "        for idx, data in enumerate(dataloader):\n",
    "            # 1. Take data from batch\n",
    "            # 2. Perform forward pass\n",
    "            # 3. Evaluate loss\n",
    "            # 4. Evaluate accuracy\n",
    "            # YOUR CODE HERE\n",
    "            \n",
    "            pass\n",
    "            \n",
    "    return total_loss / total_tokens, total_accuracy / total_tokens\n",
    "\n",
    "def train_lm(\n",
    "    train_loader, test_loader, model, loss_fn, optimizer, device, num_epochs\n",
    "):\n",
    "    test_losses = []\n",
    "    train_losses = []\n",
    "    test_accuracies = []\n",
    "    train_accuracies = []\n",
    "    for epoch in range(num_epochs):\n",
    "        train_epoch_lm(train_loader, model, loss_fn, optimizer, device)\n",
    "        \n",
    "        train_loss, train_acc = evaluate_lm(train_loader, model, loss_fn, device)\n",
    "        train_accuracies.append(train_acc)\n",
    "        train_losses.append(train_loss)\n",
    "        \n",
    "        test_loss, test_acc = evaluate_lm(test_loader, model, loss_fn, device)\n",
    "        test_accuracies.append(test_acc)\n",
    "        test_losses.append(test_loss)\n",
    "        \n",
    "        print(\n",
    "            'Epoch: {0:d}/{1:d}. Loss (Train/Test): {2:.3f}/{3:.3f}. Accuracy (Train/Test): {4:.3f}/{5:.3f}'.format(\n",
    "                epoch + 1, num_epochs, train_losses[-1], test_losses[-1], train_accuracies[-1], test_accuracies[-1]\n",
    "            )\n",
    "        )\n",
    "    return train_losses, train_accuracies, test_losses, test_accuracies"
   ]
  },
  {
   "cell_type": "markdown",
   "metadata": {},
   "source": [
    "Теперь у нас всё готово для обучения модели."
   ]
  },
  {
   "cell_type": "markdown",
   "metadata": {
    "ExecuteTime": {
     "end_time": "2021-04-02T01:06:12.736180Z",
     "start_time": "2021-04-02T01:06:12.708814Z"
    }
   },
   "source": [
    "Создадим словарь с `<sos>`, `<eos>` токенами.\n",
    "\n",
    "Обратите внимание, что в отличие от классификации текстов нам необходимо значительно увеличить размер словаря, чтобы доля `<unk>` токенов была не велика.\n",
    "\n",
    "Так же, так как задача генерации значительно сложнее задачи классификации текстов будем обучать модель только на префиксах рецензий длины $20$. Это позволяет значительно ускорить обучение."
   ]
  },
  {
   "cell_type": "code",
   "execution_count": 29,
   "metadata": {
    "ExecuteTime": {
     "end_time": "2021-04-02T00:06:20.093645Z",
     "start_time": "2021-04-02T00:06:19.926668Z"
    }
   },
   "outputs": [],
   "source": [
    "specials = ['<pad>', '<unk>', '<sos>', '<eos>']\n",
    "for special in specials:\n",
    "    counter[special] = 0\n",
    "lm_vocab = torchtext.vocab.Vocab(counter, specials=specials, specials_first=True, max_size=30000)"
   ]
  },
  {
   "cell_type": "code",
   "execution_count": 30,
   "metadata": {
    "ExecuteTime": {
     "end_time": "2021-04-02T00:06:58.566893Z",
     "start_time": "2021-04-02T00:06:21.430692Z"
    }
   },
   "outputs": [],
   "source": [
    "lm_test_dataset = LargeMovieReviewDataset(test_data_path, lm_vocab, max_len=20, pad_sos=True, pad_eos=True)\n",
    "lm_train_dataset = LargeMovieReviewDataset(train_data_path, lm_vocab, max_len=20, pad_sos=True, pad_eos=True)"
   ]
  },
  {
   "cell_type": "markdown",
   "metadata": {},
   "source": [
    "Создадим даталоадеры для тестовой и обучающей выборок:"
   ]
  },
  {
   "cell_type": "code",
   "execution_count": 171,
   "metadata": {
    "ExecuteTime": {
     "end_time": "2021-04-02T12:29:16.213723Z",
     "start_time": "2021-04-02T12:29:16.186954Z"
    }
   },
   "outputs": [],
   "source": [
    "lm_test_dataloader = DataLoader(\n",
    "    lm_test_dataset, batch_size=96, shuffle=False, num_workers=3, \n",
    "    collate_fn=partial(collate_fn, padding_value=lm_vocab.lookup_indices(['<pad>'])[0])\n",
    ")\n",
    "lm_train_dataloader = DataLoader(\n",
    "    lm_train_dataset, batch_size=96, shuffle=True, num_workers=3, \n",
    "    collate_fn=partial(collate_fn, padding_value=lm_vocab.lookup_indices(['<pad>'])[0])\n",
    ")"
   ]
  },
  {
   "cell_type": "markdown",
   "metadata": {},
   "source": [
    "Убедитесь, что все предложения имеют в начале `<sos>` токен, а в конце -- `<eos>` токен."
   ]
  },
  {
   "cell_type": "code",
   "execution_count": 172,
   "metadata": {
    "ExecuteTime": {
     "end_time": "2021-04-02T12:29:17.218115Z",
     "start_time": "2021-04-02T12:29:16.922801Z"
    }
   },
   "outputs": [
    {
     "data": {
      "text/plain": [
       "(tensor([[   2,    2,    2,  ...,    2,    2,    2],\n",
       "         [   1, 1495,   15,  ..., 1498,   37,    4],\n",
       "         [   1,  383,  296,  ..., 1658,    1,    8],\n",
       "         ...,\n",
       "         [ 355,   40,  258,  ...,   39,  347,   53],\n",
       "         [1294, 4617, 1661,  ...,    6, 9830,  423],\n",
       "         [   3,    3,    3,  ...,    3,    3,    3]]),\n",
       " tensor([20, 20, 20, 20, 20, 20, 20, 20, 18, 20, 20, 20, 20, 20, 20, 20, 20, 20,\n",
       "         20, 20, 20, 20, 20, 20, 20, 20, 20, 20, 20, 20, 20, 20, 20, 20, 20, 20,\n",
       "         20, 20, 20, 20, 20, 20, 20, 20, 20, 20, 20, 20, 20, 20, 20, 20, 20, 20,\n",
       "         20, 20, 20, 20, 20, 20, 20, 20, 20, 20, 20, 20, 20, 20, 20, 20, 20, 20,\n",
       "         20, 20, 20, 20, 20, 20, 20, 20, 20, 20, 20, 20, 20, 20, 20, 20, 20, 20,\n",
       "         20, 20, 20, 20, 20, 20]))"
      ]
     },
     "execution_count": 172,
     "metadata": {},
     "output_type": "execute_result"
    }
   ],
   "source": [
    "batch = next(iter(lm_train_dataloader))\n",
    "batch['tokens'], batch['tokens_lens']"
   ]
  },
  {
   "cell_type": "markdown",
   "metadata": {},
   "source": [
    "Создадим модель, функцию потерь и оптимизатор: "
   ]
  },
  {
   "cell_type": "code",
   "execution_count": 210,
   "metadata": {
    "ExecuteTime": {
     "end_time": "2021-04-02T14:15:32.916424Z",
     "start_time": "2021-04-02T14:15:32.525452Z"
    }
   },
   "outputs": [],
   "source": [
    "lm_model = RNNLM(\n",
    "    embedding_dim=512, hidden_dim=512, vocab=lm_vocab, dropout=0.6, layers_dropout=0.6, num_layers=2\n",
    ").to(device=device)"
   ]
  },
  {
   "cell_type": "code",
   "execution_count": 211,
   "metadata": {
    "ExecuteTime": {
     "end_time": "2021-04-02T14:15:33.332806Z",
     "start_time": "2021-04-02T14:15:33.307749Z"
    }
   },
   "outputs": [],
   "source": [
    "lm_loss_fn = LMCrossEntropyLoss(reduction='mean')\n",
    "lm_optimizer = torch.optim.Adam(lm_model.parameters(), lr=0.005, weight_decay=1.2e-6)"
   ]
  },
  {
   "cell_type": "markdown",
   "metadata": {},
   "source": [
    "Обучим модель:"
   ]
  },
  {
   "cell_type": "code",
   "execution_count": 212,
   "metadata": {
    "ExecuteTime": {
     "end_time": "2021-04-02T14:20:33.447251Z",
     "start_time": "2021-04-02T14:15:33.797444Z"
    },
    "scrolled": true
   },
   "outputs": [
    {
     "name": "stdout",
     "output_type": "stream",
     "text": [
      "Epoch: 1/10. Loss (Train/Test): 7.546/7.682. Accuracy (Train/Test): 0.079/0.079\n",
      "Epoch: 2/10. Loss (Train/Test): 7.315/7.519. Accuracy (Train/Test): 0.089/0.089\n",
      "Epoch: 3/10. Loss (Train/Test): 7.108/7.414. Accuracy (Train/Test): 0.097/0.095\n",
      "Epoch: 4/10. Loss (Train/Test): 6.911/7.334. Accuracy (Train/Test): 0.100/0.097\n",
      "Epoch: 5/10. Loss (Train/Test): 6.757/7.324. Accuracy (Train/Test): 0.105/0.100\n",
      "Epoch: 6/10. Loss (Train/Test): 6.555/7.283. Accuracy (Train/Test): 0.109/0.104\n",
      "Epoch: 7/10. Loss (Train/Test): 6.409/7.294. Accuracy (Train/Test): 0.114/0.106\n",
      "Epoch: 8/10. Loss (Train/Test): 6.242/7.287. Accuracy (Train/Test): 0.120/0.108\n",
      "Epoch: 9/10. Loss (Train/Test): 6.085/7.304. Accuracy (Train/Test): 0.123/0.109\n",
      "Epoch: 10/10. Loss (Train/Test): 5.940/7.341. Accuracy (Train/Test): 0.128/0.110\n"
     ]
    }
   ],
   "source": [
    "lm_train_losses, lm_train_accuracies, lm_test_losses, lm_test_accuracies = train_lm(\n",
    "    lm_train_dataloader, lm_test_dataloader, lm_model, lm_loss_fn, lm_optimizer, device, 10\n",
    ")"
   ]
  },
  {
   "cell_type": "markdown",
   "metadata": {},
   "source": [
    "## Реализация декодера. (2 балла)"
   ]
  },
  {
   "cell_type": "markdown",
   "metadata": {},
   "source": [
    "Теперь, реализуем последнюю деталь -- декодирование с использованием обученной модели.\n",
    "Есть несколько вариантов. Рассмотрим два самых простых:\n",
    "1. **Жадное декодирование.** На каждом шаге мы выбираем токен с максимальной вероятностью и используем его для обновления скрытого состояния RNN.\n",
    "2. **Top-k sampling.** На очередном шаге рассматриваются $k$ токенов с самыми большими вероятностями. Остальные токены игнорируются. Из выбранных токенов семплируется следующий токен пропорционально их вероятностям.\n",
    "\n",
    "Прочитать подробнее про разные варианты декодирования можно по ссылкам:\n",
    "1. [От huggingface](https://huggingface.co/blog/how-to-generate)\n",
    "2. [На towardsdatascience](https://towardsdatascience.com/decoding-strategies-that-you-need-to-know-for-response-generation-ba95ee0faadc)"
   ]
  },
  {
   "cell_type": "markdown",
   "metadata": {},
   "source": [
    "Существенным в процессе декодирования является критерий останова. Как только очередной самый вероятный символ оказался `<eos>`, то данная последовательность считается сгенерированной. Однако, может так оказаться, что `<eos>` никогда не будет выбран, тогда необходимо прекратить генерацию, как только длина последовательности перейдёт порог `max_generated_len`."
   ]
  },
  {
   "cell_type": "code",
   "execution_count": 230,
   "metadata": {
    "ExecuteTime": {
     "end_time": "2021-04-02T14:28:21.578336Z",
     "start_time": "2021-04-02T14:28:21.547183Z"
    }
   },
   "outputs": [],
   "source": [
    "def decode(model, start_tokens, start_tokens_lens, max_generated_len=20, top_k=None):\n",
    "    \"\"\"\n",
    "    :param RNNLM model: Model\n",
    "    :param torch.tensor start_tokens: Batch of seed tokens. Shape: [T, B]\n",
    "    :param torch.tensor start_tokens_lens: Length of each sequence in batch. Shape: [B]\n",
    "    :return Tuple[torch.tensor, torch.tensor]. Newly predicted tokens and length of generated part. Shape [T*, B], [B]\n",
    "    \"\"\"\n",
    "    # Get embedding for start_tokens\n",
    "    # YOUR CODE HERE\n",
    "    embedding = None\n",
    "    \n",
    "    # Pass embedding through rnn and collect hidden states and cell states for each time moment\n",
    "    all_h, all_c = [], []\n",
    "    h = embedding.new_zeros([model.rnn.num_layers, start_tokens.shape[1], model.hidden_dim])\n",
    "    c = embedding.new_zeros([model.rnn.num_layers, start_tokens.shape[1], model.hidden_dim])\n",
    "    for time_step in range(start_tokens.shape[0]):\n",
    "        # YOUR CODE HERE\n",
    "        pass\n",
    "    \n",
    "    all_h = torch.stack(all_h, dim=1)\n",
    "    all_c = torch.stack(all_c, dim=1)\n",
    "    # Take final hidden state and cell state for each start sequence in batch\n",
    "    # We will use them as h_0, c_0 for generation new tokens\n",
    "    h = all_h[:, start_tokens_lens - 1, torch.arange(start_tokens_lens.shape[0])]\n",
    "    c = all_c[:, start_tokens_lens - 1, torch.arange(start_tokens_lens.shape[0])]\n",
    "    \n",
    "    # List of predicted tokens for each time step\n",
    "    predicted_tokens = []\n",
    "    # Length of generated part for each object in the batch\n",
    "    decoded_lens = torch.zeros_like(start_tokens_lens, dtype=torch.long)\n",
    "    # Boolean mask where we store if the sequence has already generated\n",
    "    # i.e. `<eos>` was selected on any step\n",
    "    is_finished_decoding = torch.zeros_like(start_tokens_lens, dtype=torch.bool)\n",
    "    \n",
    "    # Stop when all sequences in the batch are finished\n",
    "    while not torch.all(is_finished_decoding) and torch.max(decoded_lens) < max_generated_len:\n",
    "        # Evaluate next token distribution using hidden state h.\n",
    "        # Note. Over first dimension h has hidden states for each layer of LSTM.\n",
    "        #     We must use hidden state from the last layer\n",
    "        # YOUR CODE HERE\n",
    "        logits = None\n",
    "        \n",
    "        if top_k is not None:\n",
    "            # Top-k sampling. Use only top-k most probable logits to sample next token\n",
    "            indices_to_remove = logits < torch.topk(logits, top_k)[0][..., -1, None]\n",
    "            # Mask non top-k logits\n",
    "            logits[indices_to_remove] = -1e10\n",
    "            # Sample next_token. \n",
    "            # YOUR CODE HERE\n",
    "            next_token = None\n",
    "        else:\n",
    "            # Select most probable token\n",
    "            # YOUR CODE HERE\n",
    "            next_token = None\n",
    "            \n",
    "        predicted_tokens.append(next_token)\n",
    "        \n",
    "        decoded_lens += (~is_finished_decoding)\n",
    "        is_finished_decoding |= (next_token == torch.tensor(model.vocab.lookup_indices(['<eos>'])[0]))\n",
    "\n",
    "        # Evaluate embedding for next token\n",
    "        # YOUR CODE HERE\n",
    "\n",
    "        # Update hidden and cell states\n",
    "        # YOUR CODE HERE\n",
    "\n",
    "    return torch.stack(predicted_tokens), decoded_lens"
   ]
  },
  {
   "cell_type": "markdown",
   "metadata": {
    "ExecuteTime": {
     "end_time": "2021-04-02T01:38:06.232189Z",
     "start_time": "2021-04-02T01:38:06.205413Z"
    }
   },
   "source": [
    "Попробуем сгенерировать продолжения для нескольких префиксов:"
   ]
  },
  {
   "cell_type": "code",
   "execution_count": 231,
   "metadata": {
    "ExecuteTime": {
     "end_time": "2021-04-02T14:28:22.568613Z",
     "start_time": "2021-04-02T14:28:22.545810Z"
    }
   },
   "outputs": [],
   "source": [
    "start_tokens = torch.tensor([\n",
    "    lm_model.vocab.lookup_indices(['<sos>', '<pad>', '<pad>', '<pad>']),\n",
    "    lm_model.vocab.lookup_indices(['<sos>', 'my', 'favorite', 'movie']),\n",
    "    lm_model.vocab.lookup_indices(['<sos>', 'the', 'best', 'movie']),\n",
    "    lm_model.vocab.lookup_indices(['<sos>', 'the', 'worst', 'movie']),\n",
    "]).T\n",
    "\n",
    "start_tokens_lens = torch.tensor([1, 4, 4, 4])"
   ]
  },
  {
   "cell_type": "code",
   "execution_count": 232,
   "metadata": {
    "ExecuteTime": {
     "end_time": "2021-04-02T14:28:28.222137Z",
     "start_time": "2021-04-02T14:28:27.930196Z"
    }
   },
   "outputs": [],
   "source": [
    "lm_model = lm_model.cpu()\n",
    "lm_model.eval()\n",
    "decoded_tokens, decoded_lens = decode(lm_model, start_tokens, start_tokens_lens, max_generated_len=20, top_k=5)"
   ]
  },
  {
   "cell_type": "code",
   "execution_count": 233,
   "metadata": {
    "ExecuteTime": {
     "end_time": "2021-04-02T14:28:28.751380Z",
     "start_time": "2021-04-02T14:28:28.708461Z"
    }
   },
   "outputs": [
    {
     "name": "stdout",
     "output_type": "stream",
     "text": [
      "<sos> first saw movie first time really disappointed really disappointed movie even one funniest films ever seen movie seen life <eos>\n",
      "<sos> <unk> favorite movie ever seen movie really enjoyed first saw movie years ago thought would good movie <eos>\n",
      "<sos> <unk> best movie ever seen movie ever made one thing bad acting bad acting bad effects bad bad script bad script bad acting\n",
      "<sos> <unk> worst movie ever seen life life <unk> one best movies ever seen bad movies bad acting bad acting bad <eos>\n"
     ]
    }
   ],
   "source": [
    "for text_idx in range(start_tokens.shape[1]):\n",
    "    decoded_text_tokens = decoded_tokens[:decoded_lens[text_idx], text_idx]\n",
    "    tokens = start_tokens[:start_tokens_lens[text_idx], text_idx].tolist() + decoded_text_tokens.tolist()\n",
    "    words = np.array(lm_model.vocab.itos)[np.array(tokens)]\n",
    "    print(' '.join(words))"
   ]
  },
  {
   "cell_type": "markdown",
   "metadata": {},
   "source": [
    "Попробуйте выполнить семплирование для разных $k$. Сравните результаты top-k семплирования с жадным декодированием. Опишите ваши наблюдения."
   ]
  },
  {
   "cell_type": "code",
   "execution_count": 1,
   "metadata": {
    "ExecuteTime": {
     "end_time": "2021-04-02T17:06:36.404126Z",
     "start_time": "2021-04-02T17:06:36.399654Z"
    }
   },
   "outputs": [],
   "source": [
    "# YOUR CODE HERE"
   ]
  },
  {
   "cell_type": "markdown",
   "metadata": {},
   "source": [
    "**Ответ:**"
   ]
  },
  {
   "cell_type": "markdown",
   "metadata": {
    "ExecuteTime": {
     "end_time": "2021-04-02T15:04:51.678260Z",
     "start_time": "2021-04-02T15:04:51.673587Z"
    }
   },
   "source": [
    "## Бонус. Cущественное улучшение качества. (до 3 баллов)"
   ]
  },
  {
   "cell_type": "markdown",
   "metadata": {},
   "source": [
    "Та модель, которая использовалась в предыдущей части во многом заимствует улучшения LSTM из статьи [Regularizing and Optimizing LSTM Language Models](https://arxiv.org/pdf/1708.02182.pdf). Вы можете попробовать применить другие варианты регуляризации из данной статьи для существенного улучшения качества LM.\n",
    "\n",
    "Например:\n",
    "1. Dropout для эмбеддингов\n",
    "2. Dropout входов и выходов RNN\n",
    "3. Регуляризация активаций (AR/TAR)\n",
    "4. NT-ASGD\n",
    "5. Tied веса эмбеддингов и софтмакса"
   ]
  }
 ],
 "metadata": {
  "kernelspec": {
   "display_name": "Python 3",
   "language": "python",
   "name": "python3"
  },
  "language_info": {
   "codemirror_mode": {
    "name": "ipython",
    "version": 3
   },
   "file_extension": ".py",
   "mimetype": "text/x-python",
   "name": "python",
   "nbconvert_exporter": "python",
   "pygments_lexer": "ipython3",
   "version": "3.8.5"
  },
  "varInspector": {
   "cols": {
    "lenName": 16,
    "lenType": 16,
    "lenVar": 40
   },
   "kernels_config": {
    "python": {
     "delete_cmd_postfix": "",
     "delete_cmd_prefix": "del ",
     "library": "var_list.py",
     "varRefreshCmd": "print(var_dic_list())"
    },
    "r": {
     "delete_cmd_postfix": ") ",
     "delete_cmd_prefix": "rm(",
     "library": "var_list.r",
     "varRefreshCmd": "cat(var_dic_list()) "
    }
   },
   "position": {
    "height": "313px",
    "left": "926px",
    "right": "27px",
    "top": "120px",
    "width": "343px"
   },
   "types_to_exclude": [
    "module",
    "function",
    "builtin_function_or_method",
    "instance",
    "_Feature"
   ],
   "window_display": false
  }
 },
 "nbformat": 4,
 "nbformat_minor": 2
}
